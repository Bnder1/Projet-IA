{
 "cells": [
  {
   "cell_type": "markdown",
   "id": "attended-physics",
   "metadata": {},
   "source": [
    "# Projet IA\n",
    "\n",
    "## Introduction\n",
    "\n",
    "L'entreprise de produits pharmaceutiques HumanForYou basée en Inde emploie environ 4000 personnes. Cependant, chaque année elle subit un turn-over d'environ 15% de ses employés nécessitant de retrouver des profils similaires sur le marché de l'emploi.\n",
    "\n",
    "La direction trouve que ce niveau de turn-over n'est pas bon pour l'entreprise car :\n",
    "\n",
    "- Les projets sur lesquels étaient les employés quittant la société prennent du retard ce qui nuit à la réputation de l'entreprise auprès de ses clients et partenaires.\n",
    "\n",
    "- Un service de ressources humaines de taille conséquente doit être conservé car il faut avoir les moyens de trouver les nouvelles recrues.\n",
    "\n",
    "- Du temps est perdu à l'arrivée des nouveaux employés car ils doivent très souvent être formés et ont besoin de temps pour devenir pleinement opérationnels dans leur nouvel environnement.\n",
    "\n",
    "***Le direction fait donc appel à vous, spécialistes de l'analyse de données, pour déterminer les facteurs ayant le plus d'influence sur ce taux de turn-over et lui proposer des modèles afin d'avoir des pistes d'amélioration pour donner à leurs employés l'envie de rester.***\n",
    "\n",
    "\n"
   ]
  },
  {
   "cell_type": "markdown",
   "id": "wired-speaker",
   "metadata": {},
   "source": [
    "## Gestion Execution et images"
   ]
  },
  {
   "cell_type": "code",
   "execution_count": 8,
   "id": "explicit-steering",
   "metadata": {},
   "outputs": [],
   "source": [
    "# imports\n",
    "import numpy as np\n",
    "import os\n",
    "\n",
    "from numpy.random import default_rng\n",
    "# stabilité du notebook d'une exécution à l'autre\n",
    "random=default_rng(42) \n",
    "\n",
    "# jolies figures directement dans le notebook\n",
    "%matplotlib inline\n",
    "import matplotlib\n",
    "import matplotlib.pyplot as plt\n",
    "plt.rcParams['axes.labelsize'] = 14\n",
    "plt.rcParams['xtick.labelsize'] = 12\n",
    "plt.rcParams['ytick.labelsize'] = 12\n",
    "\n",
    "# où sauver les figures\n",
    "PROJECT_ROOT_DIR = \".\"\n",
    "CHAPTER_ID = \"workflowDS\"\n",
    "IMAGES_PATH = os.path.join(PROJECT_ROOT_DIR, \"images\", CHAPTER_ID) # le dossier doit exister\n",
    "\n",
    "def save_fig(fig_id, tight_layout=True, fig_extension=\"png\", resolution=300):\n",
    "    path = os.path.join(IMAGES_PATH, fig_id + \".\" + fig_extension)\n",
    "    print(\"Saving figure\", fig_id)\n",
    "    if tight_layout:\n",
    "        plt.tight_layout()\n",
    "    plt.savefig(path, format=fig_extension, dpi=resolution)"
   ]
  },
  {
   "cell_type": "markdown",
   "id": "serious-editor",
   "metadata": {},
   "source": [
    "# Import des CSV"
   ]
  },
  {
   "cell_type": "code",
   "execution_count": 9,
   "id": "applicable-graphics",
   "metadata": {},
   "outputs": [],
   "source": [
    "import pandas as pd\n",
    "import os\n",
    "\n",
    "EMPLOYEE_SURVEY_DATA_PATH = os.path.join(\"data\")\n",
    "GENERAL_DATA_PATH = os.path.join(\"data\")\n",
    "MANAGER_SURVEY_DATA_PATH = os.path.join(\"data\")\n",
    "IN_TIME_PATH = os.path.join(\"data\")\n",
    "OUT_TIME_PATH = os.path.join(\"data\")\n",
    "\n",
    "def employee_survey_data(employee_path=EMPLOYEE_SURVEY_DATA_PATH):\n",
    "    csv_path = os.path.join(employee_path, \"employee_survey_data.csv\")\n",
    "    return pd.read_csv(csv_path)\n",
    "\n",
    "def general_data(data_path=GENERAL_DATA_PATH):\n",
    "    csv_path = os.path.join(data_path, \"general_data.csv\")\n",
    "    return pd.read_csv(csv_path) \n",
    "\n",
    "def manager_survey_data(manager_survey_path=MANAGER_SURVEY_DATA_PATH):\n",
    "    csv_path = os.path.join(manager_survey_path, \"manager_survey_data.csv\")\n",
    "    return pd.read_csv(csv_path) \n",
    "\n",
    "def out_time_data(out_time_path=OUT_TIME_PATH):\n",
    "    csv_path = os.path.join(out_time_path, \"out_time.csv\")\n",
    "    return pd.read_csv(csv_path) \n",
    "\n",
    "def in_time_data(in_time_path=IN_TIME_PATH):\n",
    "    csv_path = os.path.join(in_time_path, \"in_time.csv\")\n",
    "    return pd.read_csv(csv_path) "
   ]
  },
  {
   "cell_type": "code",
   "execution_count": 3,
   "id": "vocal-nevada",
   "metadata": {},
   "outputs": [],
   "source": [
    "employee = employee_survey_data()\n",
    "general = general_data()\n",
    "manager = manager_survey_data()\n",
    "outTime = out_time_data()\n",
    "inTime = in_time_data()"
   ]
  },
  {
   "cell_type": "markdown",
   "id": "harmful-webmaster",
   "metadata": {},
   "source": [
    "## Preparation des heures d'arrivés et de sorties"
   ]
  },
  {
   "cell_type": "code",
   "execution_count": 12,
   "id": "proud-field",
   "metadata": {},
   "outputs": [
    {
     "data": {
      "text/html": [
       "<div>\n",
       "<style scoped>\n",
       "    .dataframe tbody tr th:only-of-type {\n",
       "        vertical-align: middle;\n",
       "    }\n",
       "\n",
       "    .dataframe tbody tr th {\n",
       "        vertical-align: top;\n",
       "    }\n",
       "\n",
       "    .dataframe thead th {\n",
       "        text-align: right;\n",
       "    }\n",
       "</style>\n",
       "<table border=\"1\" class=\"dataframe\">\n",
       "  <thead>\n",
       "    <tr style=\"text-align: right;\">\n",
       "      <th></th>\n",
       "      <th>Unnamed: 0</th>\n",
       "      <th>2015-01-01</th>\n",
       "      <th>2015-01-02</th>\n",
       "      <th>2015-01-05</th>\n",
       "      <th>2015-01-06</th>\n",
       "      <th>2015-01-07</th>\n",
       "      <th>2015-01-08</th>\n",
       "      <th>2015-01-09</th>\n",
       "      <th>2015-01-12</th>\n",
       "      <th>2015-01-13</th>\n",
       "      <th>...</th>\n",
       "      <th>2015-12-18</th>\n",
       "      <th>2015-12-21</th>\n",
       "      <th>2015-12-22</th>\n",
       "      <th>2015-12-23</th>\n",
       "      <th>2015-12-24</th>\n",
       "      <th>2015-12-25</th>\n",
       "      <th>2015-12-28</th>\n",
       "      <th>2015-12-29</th>\n",
       "      <th>2015-12-30</th>\n",
       "      <th>2015-12-31</th>\n",
       "    </tr>\n",
       "  </thead>\n",
       "  <tbody>\n",
       "    <tr>\n",
       "      <th>0</th>\n",
       "      <td>0</td>\n",
       "      <td>0.0</td>\n",
       "      <td>0 days 07:12:30</td>\n",
       "      <td>0 days 07:11:23</td>\n",
       "      <td>0 days 07:24:39</td>\n",
       "      <td>0 days 07:00:24</td>\n",
       "      <td>0 days 07:17:23</td>\n",
       "      <td>0 days 07:29:04</td>\n",
       "      <td>0 days 07:15:46</td>\n",
       "      <td>0 days 07:49:52</td>\n",
       "      <td>...</td>\n",
       "      <td>0 days 00:00:00</td>\n",
       "      <td>0 days 07:20:21</td>\n",
       "      <td>0 days 07:23:45</td>\n",
       "      <td>0 days 06:30:17</td>\n",
       "      <td>0 days 07:35:47</td>\n",
       "      <td>0 days</td>\n",
       "      <td>0 days 07:46:26</td>\n",
       "      <td>0 days 07:18:54</td>\n",
       "      <td>0 days 07:46:44</td>\n",
       "      <td>0 days 07:04:49</td>\n",
       "    </tr>\n",
       "    <tr>\n",
       "      <th>1</th>\n",
       "      <td>0</td>\n",
       "      <td>0.0</td>\n",
       "      <td>0 days 08:06:33</td>\n",
       "      <td>0 days 07:27:17</td>\n",
       "      <td>0 days 00:00:00</td>\n",
       "      <td>0 days 07:23:49</td>\n",
       "      <td>0 days 07:25:00</td>\n",
       "      <td>0 days 07:09:03</td>\n",
       "      <td>0 days 07:36:41</td>\n",
       "      <td>0 days 07:16:44</td>\n",
       "      <td>...</td>\n",
       "      <td>0 days 07:54:11</td>\n",
       "      <td>0 days 07:45:14</td>\n",
       "      <td>0 days 07:42:44</td>\n",
       "      <td>0 days 07:26:08</td>\n",
       "      <td>0 days 00:00:00</td>\n",
       "      <td>0 days</td>\n",
       "      <td>0 days 07:36:53</td>\n",
       "      <td>0 days 07:58:57</td>\n",
       "      <td>0 days 07:59:10</td>\n",
       "      <td>0 days 08:13:38</td>\n",
       "    </tr>\n",
       "    <tr>\n",
       "      <th>2</th>\n",
       "      <td>0</td>\n",
       "      <td>0.0</td>\n",
       "      <td>0 days 06:41:33</td>\n",
       "      <td>0 days 07:15:56</td>\n",
       "      <td>0 days 06:24:19</td>\n",
       "      <td>0 days 06:45:54</td>\n",
       "      <td>0 days 07:20:42</td>\n",
       "      <td>0 days 06:51:41</td>\n",
       "      <td>0 days 07:25:07</td>\n",
       "      <td>0 days 06:59:59</td>\n",
       "      <td>...</td>\n",
       "      <td>0 days 06:47:09</td>\n",
       "      <td>0 days 07:09:49</td>\n",
       "      <td>0 days 06:48:06</td>\n",
       "      <td>0 days 06:43:49</td>\n",
       "      <td>0 days 06:50:59</td>\n",
       "      <td>0 days</td>\n",
       "      <td>0 days 07:01:26</td>\n",
       "      <td>0 days 07:26:20</td>\n",
       "      <td>0 days 07:32:20</td>\n",
       "      <td>0 days 06:47:11</td>\n",
       "    </tr>\n",
       "    <tr>\n",
       "      <th>3</th>\n",
       "      <td>0</td>\n",
       "      <td>0.0</td>\n",
       "      <td>0 days 07:20:18</td>\n",
       "      <td>0 days 07:17:31</td>\n",
       "      <td>0 days 06:56:35</td>\n",
       "      <td>0 days 06:55:10</td>\n",
       "      <td>0 days 06:51:03</td>\n",
       "      <td>0 days 07:11:35</td>\n",
       "      <td>0 days 06:59:55</td>\n",
       "      <td>0 days 07:18:23</td>\n",
       "      <td>...</td>\n",
       "      <td>0 days 07:37:45</td>\n",
       "      <td>0 days 06:50:48</td>\n",
       "      <td>0 days 07:19:35</td>\n",
       "      <td>0 days 07:24:49</td>\n",
       "      <td>0 days 07:05:06</td>\n",
       "      <td>0 days</td>\n",
       "      <td>0 days 07:26:50</td>\n",
       "      <td>0 days 07:25:00</td>\n",
       "      <td>0 days 07:21:59</td>\n",
       "      <td>0 days 07:07:59</td>\n",
       "    </tr>\n",
       "    <tr>\n",
       "      <th>4</th>\n",
       "      <td>0</td>\n",
       "      <td>0.0</td>\n",
       "      <td>0 days 08:03:20</td>\n",
       "      <td>0 days 07:59:17</td>\n",
       "      <td>0 days 07:40:57</td>\n",
       "      <td>0 days 07:48:22</td>\n",
       "      <td>0 days 07:39:44</td>\n",
       "      <td>0 days 07:43:18</td>\n",
       "      <td>0 days 08:21:54</td>\n",
       "      <td>0 days 08:15:26</td>\n",
       "      <td>...</td>\n",
       "      <td>0 days 07:54:13</td>\n",
       "      <td>0 days 07:39:54</td>\n",
       "      <td>0 days 07:57:27</td>\n",
       "      <td>0 days 07:47:13</td>\n",
       "      <td>0 days 08:14:58</td>\n",
       "      <td>0 days</td>\n",
       "      <td>0 days 07:39:44</td>\n",
       "      <td>0 days 08:16:07</td>\n",
       "      <td>0 days 07:57:12</td>\n",
       "      <td>0 days 08:01:05</td>\n",
       "    </tr>\n",
       "  </tbody>\n",
       "</table>\n",
       "<p>5 rows × 262 columns</p>\n",
       "</div>"
      ],
      "text/plain": [
       "   Unnamed: 0  2015-01-01      2015-01-02      2015-01-05      2015-01-06  \\\n",
       "0           0         0.0 0 days 07:12:30 0 days 07:11:23 0 days 07:24:39   \n",
       "1           0         0.0 0 days 08:06:33 0 days 07:27:17 0 days 00:00:00   \n",
       "2           0         0.0 0 days 06:41:33 0 days 07:15:56 0 days 06:24:19   \n",
       "3           0         0.0 0 days 07:20:18 0 days 07:17:31 0 days 06:56:35   \n",
       "4           0         0.0 0 days 08:03:20 0 days 07:59:17 0 days 07:40:57   \n",
       "\n",
       "       2015-01-07      2015-01-08      2015-01-09      2015-01-12  \\\n",
       "0 0 days 07:00:24 0 days 07:17:23 0 days 07:29:04 0 days 07:15:46   \n",
       "1 0 days 07:23:49 0 days 07:25:00 0 days 07:09:03 0 days 07:36:41   \n",
       "2 0 days 06:45:54 0 days 07:20:42 0 days 06:51:41 0 days 07:25:07   \n",
       "3 0 days 06:55:10 0 days 06:51:03 0 days 07:11:35 0 days 06:59:55   \n",
       "4 0 days 07:48:22 0 days 07:39:44 0 days 07:43:18 0 days 08:21:54   \n",
       "\n",
       "       2015-01-13  ...      2015-12-18      2015-12-21      2015-12-22  \\\n",
       "0 0 days 07:49:52  ... 0 days 00:00:00 0 days 07:20:21 0 days 07:23:45   \n",
       "1 0 days 07:16:44  ... 0 days 07:54:11 0 days 07:45:14 0 days 07:42:44   \n",
       "2 0 days 06:59:59  ... 0 days 06:47:09 0 days 07:09:49 0 days 06:48:06   \n",
       "3 0 days 07:18:23  ... 0 days 07:37:45 0 days 06:50:48 0 days 07:19:35   \n",
       "4 0 days 08:15:26  ... 0 days 07:54:13 0 days 07:39:54 0 days 07:57:27   \n",
       "\n",
       "       2015-12-23      2015-12-24 2015-12-25      2015-12-28      2015-12-29  \\\n",
       "0 0 days 06:30:17 0 days 07:35:47     0 days 0 days 07:46:26 0 days 07:18:54   \n",
       "1 0 days 07:26:08 0 days 00:00:00     0 days 0 days 07:36:53 0 days 07:58:57   \n",
       "2 0 days 06:43:49 0 days 06:50:59     0 days 0 days 07:01:26 0 days 07:26:20   \n",
       "3 0 days 07:24:49 0 days 07:05:06     0 days 0 days 07:26:50 0 days 07:25:00   \n",
       "4 0 days 07:47:13 0 days 08:14:58     0 days 0 days 07:39:44 0 days 08:16:07   \n",
       "\n",
       "       2015-12-30      2015-12-31  \n",
       "0 0 days 07:46:44 0 days 07:04:49  \n",
       "1 0 days 07:59:10 0 days 08:13:38  \n",
       "2 0 days 07:32:20 0 days 06:47:11  \n",
       "3 0 days 07:21:59 0 days 07:07:59  \n",
       "4 0 days 07:57:12 0 days 08:01:05  \n",
       "\n",
       "[5 rows x 262 columns]"
      ]
     },
     "execution_count": 12,
     "metadata": {},
     "output_type": "execute_result"
    }
   ],
   "source": [
    "inTimeCpy = inTime.copy()\n",
    "inTimeCpy = inTimeCpy.fillna(0)\n",
    "outTimeCpy = outTime.copy()\n",
    "outTimeCpy = outTimeCpy.fillna(0)\n",
    "\n",
    "for k in range(2,len(inTimeCpy.columns)):\n",
    "    inTimeCpy[inTimeCpy.columns[k]] = pd.to_datetime(inTimeCpy[inTimeCpy.columns[k]], format='%Y-%m-%d %H:%M:%S')\n",
    "for k in range(2,len(outTimeCpy.columns)):\n",
    "    outTimeCpy[outTimeCpy.columns[k]] = pd.to_datetime(outTimeCpy[outTimeCpy.columns[k]], format='%Y-%m-%d %H:%M:%S')\n",
    "\n",
    "deltaTime = outTimeCpy-inTimeCpy\n",
    "\n",
    "deltaTime.head()"
   ]
  },
  {
   "cell_type": "markdown",
   "id": "unauthorized-cooper",
   "metadata": {},
   "source": [
    "Calcul de la moyenne des temps de travail par employés"
   ]
  },
  {
   "cell_type": "code",
   "execution_count": 5,
   "id": "composed-collection",
   "metadata": {},
   "outputs": [
    {
     "data": {
      "text/html": [
       "<div>\n",
       "<style scoped>\n",
       "    .dataframe tbody tr th:only-of-type {\n",
       "        vertical-align: middle;\n",
       "    }\n",
       "\n",
       "    .dataframe tbody tr th {\n",
       "        vertical-align: top;\n",
       "    }\n",
       "\n",
       "    .dataframe thead th {\n",
       "        text-align: right;\n",
       "    }\n",
       "</style>\n",
       "<table border=\"1\" class=\"dataframe\">\n",
       "  <thead>\n",
       "    <tr style=\"text-align: right;\">\n",
       "      <th></th>\n",
       "      <th>EmployeeID</th>\n",
       "      <th>MeanWorkingTime</th>\n",
       "    </tr>\n",
       "  </thead>\n",
       "  <tbody>\n",
       "    <tr>\n",
       "      <th>0</th>\n",
       "      <td>1.0</td>\n",
       "      <td>25562.179418</td>\n",
       "    </tr>\n",
       "    <tr>\n",
       "      <th>1</th>\n",
       "      <td>2.0</td>\n",
       "      <td>27729.614998</td>\n",
       "    </tr>\n",
       "    <tr>\n",
       "      <th>2</th>\n",
       "      <td>3.0</td>\n",
       "      <td>24697.310764</td>\n",
       "    </tr>\n",
       "    <tr>\n",
       "      <th>3</th>\n",
       "      <td>4.0</td>\n",
       "      <td>25293.129259</td>\n",
       "    </tr>\n",
       "    <tr>\n",
       "      <th>4</th>\n",
       "      <td>5.0</td>\n",
       "      <td>27940.867653</td>\n",
       "    </tr>\n",
       "  </tbody>\n",
       "</table>\n",
       "</div>"
      ],
      "text/plain": [
       "   EmployeeID  MeanWorkingTime\n",
       "0         1.0     25562.179418\n",
       "1         2.0     27729.614998\n",
       "2         3.0     24697.310764\n",
       "3         4.0     25293.129259\n",
       "4         5.0     27940.867653"
      ]
     },
     "execution_count": 5,
     "metadata": {},
     "output_type": "execute_result"
    }
   ],
   "source": [
    "meanWorkingTime = pd.DataFrame(data={'EmployeeID': [], 'MeanWorkingTime': []})\n",
    "\n",
    "for row in range(len(deltaTime)):\n",
    "    tempRow={'EmployeeID':0, 'MeanWorkingTime':0}\n",
    "    mean = 0\n",
    "    for col in range(1,len(deltaTime.columns)):\n",
    "        tempRow['EmployeeID'] = int(inTime[inTime.columns[0]][row])\n",
    "        if(deltaTime[deltaTime.columns[col]][row] != 0):\n",
    "            if(mean != 0):\n",
    "                mean = (mean+deltaTime[deltaTime.columns[col]][row])/2\n",
    "            else:\n",
    "                mean = deltaTime[deltaTime.columns[col]][row]\n",
    "    tempRow['MeanWorkingTime'] = mean.total_seconds()\n",
    "    meanWorkingTime = meanWorkingTime.append(tempRow, ignore_index=True)\n",
    "\n",
    "meanWorkingTime.head()"
   ]
  },
  {
   "cell_type": "markdown",
   "id": "union-mixer",
   "metadata": {},
   "source": [
    "# Merge de Employee/General/Manager"
   ]
  },
  {
   "cell_type": "code",
   "execution_count": 13,
   "id": "removable-value",
   "metadata": {},
   "outputs": [
    {
     "name": "stdout",
     "output_type": "stream",
     "text": [
      "<class 'pandas.core.frame.DataFrame'>\n",
      "Int64Index: 4410 entries, 0 to 4409\n",
      "Data columns (total 30 columns):\n",
      " #   Column                   Non-Null Count  Dtype  \n",
      "---  ------                   --------------  -----  \n",
      " 0   EmployeeID               4410 non-null   int64  \n",
      " 1   EnvironmentSatisfaction  4385 non-null   float64\n",
      " 2   JobSatisfaction          4390 non-null   float64\n",
      " 3   WorkLifeBalance          4372 non-null   float64\n",
      " 4   Age                      4410 non-null   int64  \n",
      " 5   Attrition                4410 non-null   object \n",
      " 6   BusinessTravel           4410 non-null   object \n",
      " 7   Department               4410 non-null   object \n",
      " 8   DistanceFromHome         4410 non-null   int64  \n",
      " 9   Education                4410 non-null   int64  \n",
      " 10  EducationField           4410 non-null   object \n",
      " 11  EmployeeCount            4410 non-null   int64  \n",
      " 12  Gender                   4410 non-null   object \n",
      " 13  JobLevel                 4410 non-null   int64  \n",
      " 14  JobRole                  4410 non-null   object \n",
      " 15  MaritalStatus            4410 non-null   object \n",
      " 16  MonthlyIncome            4410 non-null   int64  \n",
      " 17  NumCompaniesWorked       4391 non-null   float64\n",
      " 18  Over18                   4410 non-null   object \n",
      " 19  PercentSalaryHike        4410 non-null   int64  \n",
      " 20  StandardHours            4410 non-null   int64  \n",
      " 21  StockOptionLevel         4410 non-null   int64  \n",
      " 22  TotalWorkingYears        4401 non-null   float64\n",
      " 23  TrainingTimesLastYear    4410 non-null   int64  \n",
      " 24  YearsAtCompany           4410 non-null   int64  \n",
      " 25  YearsSinceLastPromotion  4410 non-null   int64  \n",
      " 26  YearsWithCurrManager     4410 non-null   int64  \n",
      " 27  JobInvolvement           4410 non-null   int64  \n",
      " 28  PerformanceRating        4410 non-null   int64  \n",
      " 29  MeanWorkingTime          4410 non-null   float64\n",
      "dtypes: float64(6), int64(16), object(8)\n",
      "memory usage: 1.0+ MB\n"
     ]
    }
   ],
   "source": [
    "merge= employee.merge( general, on='EmployeeID')\n",
    "merge2 = merge.merge(manager, on='EmployeeID')\n",
    "merge3 = merge2.merge(meanWorkingTime, on='EmployeeID')\n",
    "\n",
    "workingMerge = merge3\n",
    "#merge2.head() \n",
    "#merge2.info()\n",
    "merge3.info()\n"
   ]
  },
  {
   "cell_type": "markdown",
   "id": "expired-earthquake",
   "metadata": {},
   "source": [
    "## Visualisation des champs"
   ]
  },
  {
   "cell_type": "code",
   "execution_count": 7,
   "id": "english-letter",
   "metadata": {},
   "outputs": [
    {
     "data": {
      "text/html": [
       "<div>\n",
       "<style scoped>\n",
       "    .dataframe tbody tr th:only-of-type {\n",
       "        vertical-align: middle;\n",
       "    }\n",
       "\n",
       "    .dataframe tbody tr th {\n",
       "        vertical-align: top;\n",
       "    }\n",
       "\n",
       "    .dataframe thead th {\n",
       "        text-align: right;\n",
       "    }\n",
       "</style>\n",
       "<table border=\"1\" class=\"dataframe\">\n",
       "  <thead>\n",
       "    <tr style=\"text-align: right;\">\n",
       "      <th></th>\n",
       "      <th>EmployeeID</th>\n",
       "      <th>EnvironmentSatisfaction</th>\n",
       "      <th>JobSatisfaction</th>\n",
       "      <th>WorkLifeBalance</th>\n",
       "      <th>Age</th>\n",
       "      <th>Attrition</th>\n",
       "      <th>BusinessTravel</th>\n",
       "      <th>Department</th>\n",
       "      <th>DistanceFromHome</th>\n",
       "      <th>Education</th>\n",
       "      <th>...</th>\n",
       "      <th>StandardHours</th>\n",
       "      <th>StockOptionLevel</th>\n",
       "      <th>TotalWorkingYears</th>\n",
       "      <th>TrainingTimesLastYear</th>\n",
       "      <th>YearsAtCompany</th>\n",
       "      <th>YearsSinceLastPromotion</th>\n",
       "      <th>YearsWithCurrManager</th>\n",
       "      <th>JobInvolvement</th>\n",
       "      <th>PerformanceRating</th>\n",
       "      <th>MeanWorkingTime</th>\n",
       "    </tr>\n",
       "  </thead>\n",
       "  <tbody>\n",
       "    <tr>\n",
       "      <th>0</th>\n",
       "      <td>1</td>\n",
       "      <td>3.0</td>\n",
       "      <td>4.0</td>\n",
       "      <td>2.0</td>\n",
       "      <td>51</td>\n",
       "      <td>No</td>\n",
       "      <td>Travel_Rarely</td>\n",
       "      <td>Sales</td>\n",
       "      <td>6</td>\n",
       "      <td>2</td>\n",
       "      <td>...</td>\n",
       "      <td>8</td>\n",
       "      <td>0</td>\n",
       "      <td>1.0</td>\n",
       "      <td>6</td>\n",
       "      <td>1</td>\n",
       "      <td>0</td>\n",
       "      <td>0</td>\n",
       "      <td>3</td>\n",
       "      <td>3</td>\n",
       "      <td>25562.179418</td>\n",
       "    </tr>\n",
       "    <tr>\n",
       "      <th>1</th>\n",
       "      <td>2</td>\n",
       "      <td>3.0</td>\n",
       "      <td>2.0</td>\n",
       "      <td>4.0</td>\n",
       "      <td>31</td>\n",
       "      <td>Yes</td>\n",
       "      <td>Travel_Frequently</td>\n",
       "      <td>Research &amp; Development</td>\n",
       "      <td>10</td>\n",
       "      <td>1</td>\n",
       "      <td>...</td>\n",
       "      <td>8</td>\n",
       "      <td>1</td>\n",
       "      <td>6.0</td>\n",
       "      <td>3</td>\n",
       "      <td>5</td>\n",
       "      <td>1</td>\n",
       "      <td>4</td>\n",
       "      <td>2</td>\n",
       "      <td>4</td>\n",
       "      <td>27729.614998</td>\n",
       "    </tr>\n",
       "    <tr>\n",
       "      <th>2</th>\n",
       "      <td>3</td>\n",
       "      <td>2.0</td>\n",
       "      <td>2.0</td>\n",
       "      <td>1.0</td>\n",
       "      <td>32</td>\n",
       "      <td>No</td>\n",
       "      <td>Travel_Frequently</td>\n",
       "      <td>Research &amp; Development</td>\n",
       "      <td>17</td>\n",
       "      <td>4</td>\n",
       "      <td>...</td>\n",
       "      <td>8</td>\n",
       "      <td>3</td>\n",
       "      <td>5.0</td>\n",
       "      <td>2</td>\n",
       "      <td>5</td>\n",
       "      <td>0</td>\n",
       "      <td>3</td>\n",
       "      <td>3</td>\n",
       "      <td>3</td>\n",
       "      <td>24697.310764</td>\n",
       "    </tr>\n",
       "    <tr>\n",
       "      <th>3</th>\n",
       "      <td>4</td>\n",
       "      <td>4.0</td>\n",
       "      <td>4.0</td>\n",
       "      <td>3.0</td>\n",
       "      <td>38</td>\n",
       "      <td>No</td>\n",
       "      <td>Non-Travel</td>\n",
       "      <td>Research &amp; Development</td>\n",
       "      <td>2</td>\n",
       "      <td>5</td>\n",
       "      <td>...</td>\n",
       "      <td>8</td>\n",
       "      <td>3</td>\n",
       "      <td>13.0</td>\n",
       "      <td>5</td>\n",
       "      <td>8</td>\n",
       "      <td>7</td>\n",
       "      <td>5</td>\n",
       "      <td>2</td>\n",
       "      <td>3</td>\n",
       "      <td>25293.129259</td>\n",
       "    </tr>\n",
       "    <tr>\n",
       "      <th>4</th>\n",
       "      <td>5</td>\n",
       "      <td>4.0</td>\n",
       "      <td>1.0</td>\n",
       "      <td>3.0</td>\n",
       "      <td>32</td>\n",
       "      <td>No</td>\n",
       "      <td>Travel_Rarely</td>\n",
       "      <td>Research &amp; Development</td>\n",
       "      <td>10</td>\n",
       "      <td>1</td>\n",
       "      <td>...</td>\n",
       "      <td>8</td>\n",
       "      <td>2</td>\n",
       "      <td>9.0</td>\n",
       "      <td>2</td>\n",
       "      <td>6</td>\n",
       "      <td>0</td>\n",
       "      <td>4</td>\n",
       "      <td>3</td>\n",
       "      <td>3</td>\n",
       "      <td>27940.867653</td>\n",
       "    </tr>\n",
       "  </tbody>\n",
       "</table>\n",
       "<p>5 rows × 30 columns</p>\n",
       "</div>"
      ],
      "text/plain": [
       "   EmployeeID  EnvironmentSatisfaction  JobSatisfaction  WorkLifeBalance  Age  \\\n",
       "0           1                      3.0              4.0              2.0   51   \n",
       "1           2                      3.0              2.0              4.0   31   \n",
       "2           3                      2.0              2.0              1.0   32   \n",
       "3           4                      4.0              4.0              3.0   38   \n",
       "4           5                      4.0              1.0              3.0   32   \n",
       "\n",
       "  Attrition     BusinessTravel              Department  DistanceFromHome  \\\n",
       "0        No      Travel_Rarely                   Sales                 6   \n",
       "1       Yes  Travel_Frequently  Research & Development                10   \n",
       "2        No  Travel_Frequently  Research & Development                17   \n",
       "3        No         Non-Travel  Research & Development                 2   \n",
       "4        No      Travel_Rarely  Research & Development                10   \n",
       "\n",
       "   Education       ...        StandardHours  StockOptionLevel  \\\n",
       "0          2       ...                    8                 0   \n",
       "1          1       ...                    8                 1   \n",
       "2          4       ...                    8                 3   \n",
       "3          5       ...                    8                 3   \n",
       "4          1       ...                    8                 2   \n",
       "\n",
       "  TotalWorkingYears  TrainingTimesLastYear YearsAtCompany  \\\n",
       "0               1.0                      6              1   \n",
       "1               6.0                      3              5   \n",
       "2               5.0                      2              5   \n",
       "3              13.0                      5              8   \n",
       "4               9.0                      2              6   \n",
       "\n",
       "  YearsSinceLastPromotion  YearsWithCurrManager  JobInvolvement  \\\n",
       "0                       0                     0               3   \n",
       "1                       1                     4               2   \n",
       "2                       0                     3               3   \n",
       "3                       7                     5               2   \n",
       "4                       0                     4               3   \n",
       "\n",
       "  PerformanceRating  MeanWorkingTime  \n",
       "0                 3     25562.179418  \n",
       "1                 4     27729.614998  \n",
       "2                 3     24697.310764  \n",
       "3                 3     25293.129259  \n",
       "4                 3     27940.867653  \n",
       "\n",
       "[5 rows x 30 columns]"
      ]
     },
     "execution_count": 7,
     "metadata": {},
     "output_type": "execute_result"
    }
   ],
   "source": [
    "workingMerge.head()"
   ]
  },
  {
   "cell_type": "markdown",
   "id": "extraordinary-belief",
   "metadata": {},
   "source": [
    "## Table visualisation Info et histogramme "
   ]
  },
  {
   "cell_type": "code",
   "execution_count": 8,
   "id": "laden-circle",
   "metadata": {},
   "outputs": [
    {
     "data": {
      "image/png": "[encoded data removed]",
      "text/plain": [
       "<Figure size 1440x1080 with 25 Axes>"
      ]
     },
     "metadata": {
      "needs_background": "light"
     },
     "output_type": "display_data"
    }
   ],
   "source": [
    "#graph hist\n",
    "workingMerge.hist(bins=50, figsize=(20,15))\n",
    "plt.show()"
   ]
  },
  {
   "cell_type": "code",
   "execution_count": 21,
   "id": "informative-amateur",
   "metadata": {},
   "outputs": [
    {
     "data": {
      "text/plain": [
       "24813.260748    1\n",
       "24937.906498    1\n",
       "13585.336633    1\n",
       "36561.197915    1\n",
       "22876.506371    1\n",
       "               ..\n",
       "19237.164431    1\n",
       "23730.013978    1\n",
       "25567.955292    1\n",
       "20546.740189    1\n",
       "21573.114648    1\n",
       "Name: MeanWorkingTime, Length: 4410, dtype: int64"
      ]
     },
     "execution_count": 9,
     "metadata": {},
     "output_type": "execute_result"
    }
   ],
   "source": [
    "#valeur dans un champs\n",
    "workingMerge[\"MeanWorkingTime\"].value_counts()"
   ]
  },
  {
   "cell_type": "markdown",
   "id": "christian-consideration",
   "metadata": {},
   "source": [
    "# Classification Ascendante Hiérarchique et dendogramme\n"
   ]
  },
  {
   "cell_type": "code",
   "execution_count": 14,
   "id": "regular-virgin",
   "metadata": {},
   "outputs": [
    {
     "data": {
      "text/plain": [
       "array([[-1.73800917,  0.25240281,  1.15735878, ...,  2.        ,\n",
       "         2.        ,  1.        ],\n",
       "       [-1.73722299,  0.25240281, -0.65794042, ...,  1.        ,\n",
       "         1.        ,  1.        ],\n",
       "       [-1.73643681, -0.66194603, -0.65794042, ...,  1.        ,\n",
       "         1.        ,  4.        ],\n",
       "       ...,\n",
       "       [ 1.72590965,  1.16675164,  1.15735878, ...,  2.        ,\n",
       "         1.        ,  3.        ],\n",
       "       [ 1.72669583, -1.57629486,  0.24970918, ...,  2.        ,\n",
       "         1.        ,  1.        ],\n",
       "       [ 1.72748201,  1.16675164, -1.56559001, ...,  2.        ,\n",
       "         2.        ,  3.        ]])"
      ]
     },
     "execution_count": 14,
     "metadata": {},
     "output_type": "execute_result"
    }
   ],
   "source": [
    "from sklearn.preprocessing import OrdinalEncoder\n",
    "from scipy.cluster.hierarchy import dendrogram, linkage\n",
    "from sklearn.cluster import AgglomerativeClustering\n",
    "from sklearn.pipeline import Pipeline\n",
    "from sklearn.preprocessing import StandardScaler\n",
    "from sklearn.compose import ColumnTransformer\n",
    "from sklearn.preprocessing import OneHotEncoder\n",
    "from sklearn.impute import SimpleImputer\n",
    "\n",
    "X = workingMerge.copy() # A new copy of data set\n",
    "\n",
    "#Drop rows with Nan\n",
    "X.dropna(inplace=True)\n",
    "\n",
    "#remplace Y/N to 0/1\n",
    "X.Over18.replace(to_replace=dict(Y=1, N=0), inplace=True)\n",
    "X.Attrition.replace(to_replace=dict(Yes=1, No=0), inplace=True)\n",
    "\n",
    "#remplace gender male=1 / female=0\n",
    "X.Gender.replace(to_replace=dict(Male=1, Female=0), inplace=True)\n",
    " \n",
    "num_pipeline = Pipeline([\n",
    "        ('imputer', SimpleImputer(strategy=\"median\")),\n",
    "        ('std_scaler', StandardScaler()),\n",
    "    ])\n",
    " \n",
    "X_num = X.select_dtypes(include=[np.number])\n",
    " \n",
    "num_attribs = list(X_num)\n",
    "cat_attribs = [\"MaritalStatus\", \"JobRole\", \"BusinessTravel\", \"Department\", \"EducationField\"]\n",
    " \n",
    "full_pipeline = ColumnTransformer([\n",
    "        (\"num\", num_pipeline, num_attribs),\n",
    "        (\"cat\", OrdinalEncoder(), cat_attribs),\n",
    "    ])\n",
    " \n",
    "X_prepared = full_pipeline.fit_transform(X)\n",
    "\n",
    "\n",
    "#Visualisation\n",
    "pd.set_option('display.max_columns', None)\n",
    "X_prepared"
   ]
  },
  {
   "cell_type": "code",
   "execution_count": 15,
   "id": "postal-russell",
   "metadata": {
    "scrolled": true
   },
   "outputs": [
    {
     "data": {
      "text/plain": [
       "(4300, 30)"
      ]
     },
     "execution_count": 15,
     "metadata": {},
     "output_type": "execute_result"
    }
   ],
   "source": [
    "X_prepared.shape"
   ]
  },
  {
   "cell_type": "markdown",
   "id": "bigger-rolling",
   "metadata": {},
   "source": [
    "## Dendogramme"
   ]
  },
  {
   "cell_type": "code",
   "execution_count": 16,
   "id": "toxic-soundtrack",
   "metadata": {},
   "outputs": [
    {
     "data": {
      "image/png": "[encoded data removed]",
      "text/plain": [
       "<Figure size 720x504 with 1 Axes>"
      ]
     },
     "metadata": {
      "needs_background": "light"
     },
     "output_type": "display_data"
    }
   ],
   "source": [
    "plt.figure(figsize=(10, 7))\n",
    "dendrogram(linkage(X_prepared, method='ward'), orientation='top', distance_sort='descending', show_leaf_counts=True)\n",
    "plt.show()"
   ]
  },
  {
   "cell_type": "code",
   "execution_count": 15,
   "id": "special-voluntary",
   "metadata": {},
   "outputs": [
    {
     "data": {
      "image/png": "[encoded data removed]",
      "text/plain": [
       "<Figure size 720x504 with 1 Axes>"
      ]
     },
     "metadata": {
      "needs_background": "light"
     },
     "output_type": "display_data"
    },
    {
     "data": {
      "image/png": "[encoded data removed]",
      "text/plain": [
       "<Figure size 720x504 with 1 Axes>"
      ]
     },
     "metadata": {
      "needs_background": "light"
     },
     "output_type": "display_data"
    }
   ],
   "source": [
    "cluster = AgglomerativeClustering(n_clusters=2, affinity='euclidean', linkage='ward')\n",
    "cluster.fit_predict(X)\n",
    "plt.figure(figsize=(10, 7))\n",
    "plt.scatter(X['MeanWorkingTime'],X['MonthlyIncome'], c=cluster.labels_, cmap='rainbow')\n",
    "plt.show()"
   ]
  },
  {
   "cell_type": "code",
   "execution_count": 16,
   "id": "independent-tobago",
   "metadata": {},
   "outputs": [
    {
     "data": {
      "image/png": "[encoded data removed]",
      "text/plain": [
       "<Figure size 432x288 with 1 Axes>"
      ]
     },
     "metadata": {
      "needs_background": "light"
     },
     "output_type": "display_data"
    },
    {
     "data": {
      "image/png": "[encoded data removed]",
      "text/plain": [
       "<Figure size 720x504 with 1 Axes>"
      ]
     },
     "metadata": {
      "needs_background": "light"
     },
     "output_type": "display_data"
    }
   ],
   "source": [
    "# Test de la corrélation entre le temps de travail et les départs\n",
    "plt.scatter(X['MeanWorkingTime'],X['StandardHours'], c=cluster.labels_, cmap='rainbow')\n",
    "plt.show()\n",
    "plt.figure(figsize=(10, 7))\n",
    "plt.scatter(X['MeanWorkingTime'],X['StandardHours'], c=X['Attrition'], cmap='rainbow')\n",
    "plt.show()"
   ]
  },
  {
   "cell_type": "markdown",
   "id": "objective-parts",
   "metadata": {},
   "source": [
    "# Création d'un jeu de test\n",
    "## Jeu de test aléatoire\n"
   ]
  },
  {
   "cell_type": "code",
   "execution_count": null,
   "id": "extensive-resolution",
   "metadata": {},
   "outputs": [
    {
     "name": "stdout",
     "output_type": "stream",
     "text": [
      "<class 'pandas.core.frame.DataFrame'>\n",
      "Int64Index: 860 entries, 1815 to 1435\n",
      "Data columns (total 27 columns):\n",
      " #   Column                   Non-Null Count  Dtype  \n",
      "---  ------                   --------------  -----  \n",
      " 0   EmployeeID               860 non-null    int64  \n",
      " 1   EnvironmentSatisfaction  860 non-null    float64\n",
      " 2   JobSatisfaction          860 non-null    float64\n",
      " 3   WorkLifeBalance          860 non-null    float64\n",
      " 4   Age                      860 non-null    int64  \n",
      " 5   Attrition                860 non-null    int64  \n",
      " 6   DistanceFromHome         860 non-null    int64  \n",
      " 7   Education                860 non-null    int64  \n",
      " 8   EmployeeCount            860 non-null    int64  \n",
      " 9   Gender                   860 non-null    int64  \n",
      " 10  JobLevel                 860 non-null    int64  \n",
      " 11  JobRole                  860 non-null    float64\n",
      " 12  MaritalStatus            860 non-null    float64\n",
      " 13  MonthlyIncome            860 non-null    int64  \n",
      " 14  NumCompaniesWorked       860 non-null    float64\n",
      " 15  Over18                   860 non-null    int64  \n",
      " 16  PercentSalaryHike        860 non-null    int64  \n",
      " 17  StandardHours            860 non-null    int64  \n",
      " 18  StockOptionLevel         860 non-null    int64  \n",
      " 19  TotalWorkingYears        860 non-null    float64\n",
      " 20  TrainingTimesLastYear    860 non-null    int64  \n",
      " 21  YearsAtCompany           860 non-null    int64  \n",
      " 22  YearsSinceLastPromotion  860 non-null    int64  \n",
      " 23  YearsWithCurrManager     860 non-null    int64  \n",
      " 24  JobInvolvement           860 non-null    int64  \n",
      " 25  PerformanceRating        860 non-null    int64  \n",
      " 26  MeanWorkingTime          860 non-null    float64\n",
      "dtypes: float64(8), int64(19)\n",
      "memory usage: 188.1 KB\n"
     ]
    }
   ],
   "source": [
    "from sklearn.model_selection import train_test_split\n",
    "X_full_set, X_test_set = train_test_split(X, test_size=0.2, random_state=42) #SOLUTION\n",
    "X_test_set.info()"
   ]
  },
  {
   "cell_type": "code",
   "execution_count": null,
   "id": "electrical-strip",
   "metadata": {},
   "outputs": [
    {
     "data": {
      "text/plain": [
       "(4300, 29)"
      ]
     },
     "execution_count": 33,
     "metadata": {},
     "output_type": "execute_result"
    }
   ],
   "source": [
    "from sklearn.pipeline import Pipeline\n",
    "from sklearn.preprocessing import StandardScaler\n",
    "from sklearn.compose import ColumnTransformer\n",
    "from sklearn.preprocessing import OneHotEncoder\n",
    "from sklearn.impute import SimpleImputer\n",
    " \n",
    "num_pipeline = Pipeline([\n",
    "        ('imputer', SimpleImputer(strategy=\"median\")),\n",
    "        ('std_scaler', StandardScaler()),\n",
    "    ])\n",
    " \n",
    "X_num = X.select_dtypes(include=[np.number])\n",
    " \n",
    "num_attribs = list(X_num)\n",
    "cat_attribs = [\"MaritalStatus\", \"JobRole\"]\n",
    " \n",
    "full_pipeline = ColumnTransformer([\n",
    "        (\"num\", num_pipeline, num_attribs),\n",
    "        (\"cat\", OrdinalEncoder(), cat_attribs),\n",
    "    ])\n",
    " \n",
    "X_prepared = full_pipeline.fit_transform(X)\n",
    "X_prepared.shape"
   ]
  },
  {
   "cell_type": "code",
   "execution_count": null,
   "id": "raised-stations",
   "metadata": {},
   "outputs": [],
   "source": []
  }
 ],
 "metadata": {
  "kernelspec": {
   "display_name": "Python 3",
   "language": "python",
   "name": "python3"
  },
  "language_info": {
   "codemirror_mode": {
    "name": "ipython",
    "version": 3
   },
   "file_extension": ".py",
   "mimetype": "text/x-python",
   "name": "python",
   "nbconvert_exporter": "python",
   "pygments_lexer": "ipython3",
   "version": "3.9.1"
  }
 },
 "nbformat": 4,
 "nbformat_minor": 5
}
