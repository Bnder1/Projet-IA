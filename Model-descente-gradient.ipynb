{
 "cells": [
  {
   "cell_type": "markdown",
   "id": "popular-retro",
   "metadata": {
    "slideshow": {
     "slide_type": "slide"
    }
   },
   "source": [
    "# Regression lineaire\n",
    "### Recuperation des donnés\n",
    "\n",
    "On vient récuperer les données préparés et stockés dans DataMerge.csv.   \n",
    "Ensuite on construit nos matrices avec une pipeline qui supprime les données incohérentes, réduit les éléments numériques à la même échelle et encode les valeurs non-numériques.\n"
   ]
  },
  {
   "cell_type": "code",
   "execution_count": null,
   "id": "seven-runner",
   "metadata": {
    "slideshow": {
     "slide_type": "skip"
    }
   },
   "outputs": [],
   "source": [
    "import os\n",
    "import pandas as pd\n",
    "import numpy as np\n",
    "from sklearn.preprocessing import OrdinalEncoder\n",
    "from scipy.cluster.hierarchy import dendrogram, linkage\n",
    "from sklearn.cluster import AgglomerativeClustering\n",
    "from sklearn.pipeline import Pipeline\n",
    "from sklearn.preprocessing import StandardScaler\n",
    "from sklearn.compose import ColumnTransformer\n",
    "from sklearn.preprocessing import OneHotEncoder\n",
    "from sklearn.impute import SimpleImputer\n",
    "from sklearn.model_selection import train_test_split"
   ]
  },
  {
   "cell_type": "code",
   "execution_count": 2,
   "id": "union-government",
   "metadata": {
    "slideshow": {
     "slide_type": "slide"
    }
   },
   "outputs": [],
   "source": [
    "DATA_MERGE_PATH = os.path.join(\"data\")\n",
    "def DataMerge(data_merge_path=DATA_MERGE_PATH):\n",
    "    csv_path = os.path.join(data_merge_path, \"DataMerge.csv\")\n",
    "    return pd.read_csv(csv_path) \n",
    "\n",
    "X = DataMerge()\n",
    "\n",
    "\n",
    "X_labels = X[\"Attrition\"].copy()\n",
    "X = X.drop(\"Attrition\", axis=1)\n",
    "\n",
    "#remplace gender male=1 / female=0\n",
    "X.Gender.replace(to_replace=dict(Male=1, Female=0), inplace=True)\n",
    "X_full_set, X_test_set, Y_full_set, Y_test_set = train_test_split(X, X_labels, test_size=0.8, random_state=42) #SOLUTION\n",
    "num_pipeline = Pipeline([\n",
    "        ('imputer', SimpleImputer(strategy=\"median\")),\n",
    "        ('std_scaler', StandardScaler()),\n",
    "    ])\n",
    " \n",
    "X_num = X.select_dtypes(include=[np.number])\n",
    " \n",
    "num_attribs = list(X_num)\n",
    "cat_attribs = [\"MaritalStatus\", \"JobRole\", \"BusinessTravel\", \"Department\", \"EducationField\"]\n",
    " \n",
    "full_pipeline = ColumnTransformer([\n",
    "        (\"num\", num_pipeline, num_attribs),\n",
    "        (\"cat\", OrdinalEncoder(), cat_attribs),\n",
    "    ])\n",
    " \n",
    "X_test_prepared = full_pipeline.fit_transform(X_test_set)\n",
    "X_full_prepared = full_pipeline.fit_transform(X_full_set)\n",
    "\n"
   ]
  },
  {
   "cell_type": "markdown",
   "id": "promotional-packaging",
   "metadata": {
    "slideshow": {
     "slide_type": "slide"
    }
   },
   "source": [
    "Utilisation du modèle de régression linéaire. Le modèle cherche à determiner une corréleation entre les données étiquetable et les données etiquettes à travers une fonction.\n",
    "Après avoir entrainer le modèle, on test les prédictions sur quelques instances aléatoires."
   ]
  },
  {
   "cell_type": "code",
   "execution_count": 3,
   "id": "worth-bridal",
   "metadata": {
    "slideshow": {
     "slide_type": "subslide"
    }
   },
   "outputs": [
    {
     "name": "stdout",
     "output_type": "stream",
     "text": [
      "Predictions: [0.04357974 0.29254581 0.21823917 0.01288901 0.30235911]\n",
      "Labels: [0, 1, 0, 0, 0]\n"
     ]
    }
   ],
   "source": [
    "from sklearn.linear_model import LinearRegression\n",
    "\n",
    "lin_reg = LinearRegression()\n",
    "lin_reg.fit(X_test_prepared, Y_test_set)\n",
    "# On applique le full_pipeline sur quelques instances :\n",
    "some_data = X.iloc[:5]\n",
    "some_labels = X_labels.iloc[:5]\n",
    "some_data_prepared = full_pipeline.transform(some_data)\n",
    "\n",
    "# Et on effectue la prédiction :\n",
    "print(\"Predictions:\", lin_reg.predict(some_data_prepared))\n",
    "print(\"Labels:\", list(some_labels)) # vraies valeurs"
   ]
  },
  {
   "cell_type": "markdown",
   "id": "protective-conjunction",
   "metadata": {
    "slideshow": {
     "slide_type": "slide"
    }
   },
   "source": [
    "## Evaluation du modele\n",
    "\n",
    "On vient calculer la fiabilité de la régression linéaire pour ensuite comparer les modèles entre eux."
   ]
  },
  {
   "cell_type": "code",
   "execution_count": 4,
   "id": "collaborative-beaver",
   "metadata": {
    "slideshow": {
     "slide_type": "subslide"
    }
   },
   "outputs": [
    {
     "data": {
      "text/plain": [
       "0.3437275531620965"
      ]
     },
     "execution_count": 4,
     "metadata": {},
     "output_type": "execute_result"
    }
   ],
   "source": [
    "from sklearn.metrics import mean_squared_error\n",
    "from math import *\n",
    "X_predictions = lin_reg.predict(X_test_prepared)\n",
    "lin_rmse = sqrt(mean_squared_error(Y_test_set, X_predictions ))\n",
    "lin_rmse"
   ]
  },
  {
   "cell_type": "markdown",
   "id": "virgin-macedonia",
   "metadata": {
    "slideshow": {
     "slide_type": "slide"
    }
   },
   "source": [
    "# Arbre de décision\n",
    "\n",
    "Entrainement d'un arbre de décision."
   ]
  },
  {
   "cell_type": "code",
   "execution_count": 5,
   "id": "broken-occurrence",
   "metadata": {
    "slideshow": {
     "slide_type": "subslide"
    }
   },
   "outputs": [
    {
     "data": {
      "text/plain": [
       "0.0"
      ]
     },
     "execution_count": 5,
     "metadata": {},
     "output_type": "execute_result"
    }
   ],
   "source": [
    "from sklearn.tree import DecisionTreeRegressor\n",
    "\n",
    "tree_reg = DecisionTreeRegressor(random_state=42)\n",
    "tree_reg.fit(X_test_prepared, Y_test_set)\n",
    "X_predictions = tree_reg.predict(X_test_prepared)\n",
    "tree_mse = mean_squared_error(Y_test_set, X_predictions)\n",
    "tree_rmse = np.sqrt(tree_mse)\n",
    "tree_rmse"
   ]
  },
  {
   "cell_type": "markdown",
   "id": "atmospheric-license",
   "metadata": {
    "slideshow": {
     "slide_type": "subslide"
    }
   },
   "source": [
    "Ici l'évaluation du modèle returne 0 soit un apprentissage parfait. Or ceci est impossible en Machine Learning. On peut donc en déduire que le modèle à fait de l'overfitting.   \n",
    "En effet celui ci a appri toutes les combinaison possible du jeu de données qui lui a été soumis pour le fitting. "
   ]
  },
  {
   "cell_type": "markdown",
   "id": "intelligent-chance",
   "metadata": {
    "slideshow": {
     "slide_type": "slide"
    }
   },
   "source": [
    "# Cross Validation\n",
    "La cross-validation permet d'evaluer la fiabilité du model en testant des échantillons du jeu de données.\n",
    "\n",
    "## Arbre de decision"
   ]
  },
  {
   "cell_type": "code",
   "execution_count": 6,
   "id": "recorded-toddler",
   "metadata": {
    "slideshow": {
     "slide_type": "subslide"
    }
   },
   "outputs": [
    {
     "name": "stdout",
     "output_type": "stream",
     "text": [
      "Scores: [0.23501608 0.27492071 0.27492071 0.17882042 0.21566555 0.26413527\n",
      " 0.23501608 0.24707592 0.29034863 0.25289027]\n",
      "Mean: 0.2468809638564653\n",
      "Standard deviation: 0.031119034953955408\n",
      "Scores: [0.43133109 0.44460591 0.45749571 0.47003216 0.44460591 0.47003216\n",
      " 0.43133109 0.45749571 0.49415185 0.43133109]\n",
      "Mean: 0.4532412696071809\n",
      "Standard deviation: 0.01965464355420423\n"
     ]
    }
   ],
   "source": [
    "from sklearn.model_selection import cross_val_score\n",
    "\n",
    "scores = cross_val_score(tree_reg, X_test_prepared, Y_test_set,\n",
    "                         scoring=\"neg_mean_squared_error\", cv=10)\n",
    "tree_rmse_scores = np.sqrt(-scores)\n",
    "#Calcul du score avec le jeu de validation\n",
    "new_scores = cross_val_score(tree_reg, X_full_prepared, Y_full_set,\n",
    "                         scoring=\"neg_mean_squared_error\", cv=10)\n",
    "new_tree_rmse_scores = np.sqrt(-new_scores)\n",
    "def display_scores(scores):\n",
    "    print(\"Scores:\", scores)\n",
    "    print(\"Mean:\", scores.mean())\n",
    "    print(\"Standard deviation:\", scores.std())\n",
    "\n",
    "display_scores(tree_rmse_scores)\n",
    "display_scores(new_tree_rmse_scores)"
   ]
  },
  {
   "cell_type": "markdown",
   "id": "automotive-campus",
   "metadata": {
    "slideshow": {
     "slide_type": "subslide"
    }
   },
   "source": [
    "On voit ici que la fiabilité n'est plus a 0. Donc le modèle n'est pas assez performant sur un jeu de donné inconnu."
   ]
  },
  {
   "cell_type": "markdown",
   "id": "wired-analysis",
   "metadata": {
    "slideshow": {
     "slide_type": "slide"
    }
   },
   "source": [
    "## Regression Lineaire\n"
   ]
  },
  {
   "cell_type": "code",
   "execution_count": 7,
   "id": "global-behalf",
   "metadata": {
    "slideshow": {
     "slide_type": "subslide"
    }
   },
   "outputs": [
    {
     "name": "stdout",
     "output_type": "stream",
     "text": [
      "Scores: [0.33465968 0.33240475 0.37284842 0.32991516 0.33355488 0.32199852\n",
      " 0.36119033 0.36038367 0.3699375  0.34570255]\n",
      "Mean: 0.3462595458753298\n",
      "Standard deviation: 0.017418379453167095\n"
     ]
    }
   ],
   "source": [
    "scores = cross_val_score(lin_reg, X_test_prepared, Y_test_set,\n",
    "                         scoring=\"neg_mean_squared_error\", cv=10)\n",
    "lin_rmse_scores = np.sqrt(-scores)\n",
    "display_scores(lin_rmse_scores)"
   ]
  },
  {
   "cell_type": "markdown",
   "id": "pending-wisdom",
   "metadata": {
    "slideshow": {
     "slide_type": "slide"
    }
   },
   "source": [
    "# Foret Aléatoire"
   ]
  },
  {
   "cell_type": "code",
   "execution_count": 8,
   "id": "extraordinary-miami",
   "metadata": {
    "slideshow": {
     "slide_type": "subslide"
    }
   },
   "outputs": [
    {
     "data": {
      "text/plain": [
       "0.0890192035723257"
      ]
     },
     "execution_count": 8,
     "metadata": {},
     "output_type": "execute_result"
    }
   ],
   "source": [
    "from sklearn.ensemble import RandomForestRegressor\n",
    "forest_reg = RandomForestRegressor(n_estimators=10, random_state=42)\n",
    "forest_reg.fit(X_test_prepared, Y_test_set)\n",
    "X_predictions = forest_reg.predict(X_test_prepared)\n",
    "forest_rmse = mean_squared_error(Y_test_set, X_predictions)\n",
    "forest_rmse = np.sqrt(forest_rmse)\n",
    "forest_rmse"
   ]
  },
  {
   "cell_type": "code",
   "execution_count": 9,
   "id": "maritime-publisher",
   "metadata": {
    "slideshow": {
     "slide_type": "subslide"
    }
   },
   "outputs": [
    {
     "name": "stdout",
     "output_type": "stream",
     "text": [
      "Scores: [0.20324404 0.23259157 0.22938239 0.18677184 0.19199079 0.1768589\n",
      " 0.2342107  0.23674144 0.23020466 0.1996363 ]\n",
      "Mean: 0.2121632628353299\n",
      "Standard deviation: 0.02159632065555168\n"
     ]
    }
   ],
   "source": [
    "forest_scores = cross_val_score(forest_reg, X_test_prepared, Y_test_set,\n",
    "                                scoring=\"neg_mean_squared_error\", cv=10)\n",
    "forest_rmse_scores = np.sqrt(-forest_scores)\n",
    "display_scores(forest_rmse_scores)"
   ]
  },
  {
   "cell_type": "markdown",
   "id": "convertible-future",
   "metadata": {
    "slideshow": {
     "slide_type": "slide"
    }
   },
   "source": [
    "## Support Vector Regression "
   ]
  },
  {
   "cell_type": "code",
   "execution_count": 10,
   "id": "relevant-admission",
   "metadata": {
    "slideshow": {
     "slide_type": "subslide"
    }
   },
   "outputs": [
    {
     "data": {
      "text/plain": [
       "0.3728904196607226"
      ]
     },
     "execution_count": 10,
     "metadata": {},
     "output_type": "execute_result"
    }
   ],
   "source": [
    "from sklearn.svm import SVR\n",
    "svr_regr = SVR(kernel=\"linear\")\n",
    "svr_regr.fit(X_test_prepared, Y_test_set)\n",
    "X_predictions = svr_regr.predict(X_test_prepared)\n",
    "svr_mse = mean_squared_error(Y_test_set, X_predictions)\n",
    "svr_rmse = np.sqrt(svr_mse)\n",
    "svr_rmse"
   ]
  },
  {
   "cell_type": "code",
   "execution_count": 11,
   "id": "greatest-serial",
   "metadata": {
    "slideshow": {
     "slide_type": "subslide"
    }
   },
   "outputs": [
    {
     "name": "stdout",
     "output_type": "stream",
     "text": [
      "Scores: [0.34871446 0.35857218 0.41001831 0.36815984 0.35532436 0.32454261\n",
      " 0.39559787 0.3955853  0.40716693 0.35531165]\n",
      "Mean: 0.3718993498620441\n",
      "Standard deviation: 0.02709461442729581\n"
     ]
    }
   ],
   "source": [
    "svr_regr_scores = cross_val_score(svr_regr, X_test_prepared, Y_test_set,\n",
    "                                scoring=\"neg_mean_squared_error\", cv=10)\n",
    "svr_regr_rmse_scores = np.sqrt(-svr_regr_scores)\n",
    "display_scores(svr_regr_rmse_scores)"
   ]
  },
  {
   "cell_type": "markdown",
   "id": "explicit-student",
   "metadata": {
    "slideshow": {
     "slide_type": "slide"
    }
   },
   "source": [
    "## Grid Search\n",
    "\n",
    "Recherche des meilleurs paramètres.\n"
   ]
  },
  {
   "cell_type": "code",
   "execution_count": 12,
   "id": "floral-bryan",
   "metadata": {
    "slideshow": {
     "slide_type": "subslide"
    }
   },
   "outputs": [
    {
     "data": {
      "text/plain": [
       "{'bootstrap': False, 'max_features': 3, 'n_estimators': 10}"
      ]
     },
     "execution_count": 12,
     "metadata": {},
     "output_type": "execute_result"
    }
   ],
   "source": [
    "from sklearn.model_selection import GridSearchCV\n",
    "\n",
    "param_grid = [\n",
    "    # essaye 12 (3×4) combinaisons des hyperparametres\n",
    "    {'n_estimators': [3, 10, 30], 'max_features': [2, 4, 6, 8]},\n",
    "    # puis essaye 6 (2×3) combinaisons avec bootstrap à False (True étant la valeur par défaut)\n",
    "    {'bootstrap': [False], 'n_estimators': [3, 10], 'max_features': [2, 3, 4]},\n",
    "  ]\n",
    "\n",
    "forest_reg = RandomForestRegressor(random_state=42)\n",
    "\n",
    "# 5 sous-jeux de cross-val, ça fait en tout (12+6)*5=90 tours d'entraînement \n",
    "grid_search = GridSearchCV(forest_reg, param_grid, cv=5,\n",
    "                           scoring='neg_mean_squared_error', return_train_score=True)\n",
    "grid_search.fit(X_test_prepared, Y_test_set)\n",
    "grid_search.best_params_"
   ]
  },
  {
   "cell_type": "markdown",
   "id": "equivalent-infection",
   "metadata": {
    "slideshow": {
     "slide_type": "subslide"
    }
   },
   "source": [
    "Affichage de la cross validation avec les meilleurs paramètres determiné par la grid search"
   ]
  },
  {
   "cell_type": "code",
   "execution_count": 13,
   "id": "lonely-anaheim",
   "metadata": {
    "slideshow": {
     "slide_type": "subslide"
    }
   },
   "outputs": [
    {
     "name": "stdout",
     "output_type": "stream",
     "text": [
      "Scores: [0.19795466 0.20636669 0.21640563 0.17151853 0.17504152 0.18552252\n",
      " 0.21261112 0.21185778 0.20573182 0.19484639]\n",
      "Mean: 0.19778566533660935\n",
      "Standard deviation: 0.015058579611401082\n"
     ]
    }
   ],
   "source": [
    "cv_res = grid_search.cv_results_\n",
    "forest_predicted = RandomForestRegressor(max_features=3, n_estimators=10, random_state=42)\n",
    "forest_predicted.fit(X_test_prepared, Y_test_set)\n",
    "forest_scores = cross_val_score(forest_predicted, X_test_prepared, Y_test_set,\n",
    "                                scoring=\"neg_mean_squared_error\", cv=10)\n",
    "forest_rmse_scores = np.sqrt(-forest_scores)\n",
    "display_scores(forest_rmse_scores)"
   ]
  },
  {
   "cell_type": "markdown",
   "id": "north-science",
   "metadata": {
    "slideshow": {
     "slide_type": "subslide"
    }
   },
   "source": [
    "Les résultats montrent une légère amélioration de la fiabilité grâce aux nouveaux hyperparamètres "
   ]
  },
  {
   "cell_type": "markdown",
   "id": "adult-savage",
   "metadata": {
    "slideshow": {
     "slide_type": "slide"
    }
   },
   "source": [
    "## Randomized Search\n",
    "\n",
    "Recherche des meilleurs parametres avec une grille aléatoire"
   ]
  },
  {
   "cell_type": "code",
   "execution_count": 14,
   "id": "featured-teacher",
   "metadata": {
    "slideshow": {
     "slide_type": "subslide"
    }
   },
   "outputs": [
    {
     "name": "stdout",
     "output_type": "stream",
     "text": [
      "0.1997390542155595 {'max_features': 7, 'n_estimators': 180}\n",
      "0.2061811561603739 {'max_features': 15, 'n_estimators': 107}\n",
      "0.19834308282026414 {'max_features': 8, 'n_estimators': 189}\n",
      "0.20089823947231547 {'max_features': 7, 'n_estimators': 122}\n",
      "0.20806106239456368 {'max_features': 19, 'n_estimators': 75}\n",
      "0.20383527906791926 {'max_features': 11, 'n_estimators': 88}\n",
      "0.1971500144108376 {'max_features': 4, 'n_estimators': 104}\n",
      "0.19466216677394352 {'max_features': 3, 'n_estimators': 150}\n",
      "0.1943673013533486 {'max_features': 2, 'n_estimators': 88}\n",
      "0.20331904062740502 {'max_features': 12, 'n_estimators': 158}\n"
     ]
    }
   ],
   "source": [
    "from scipy.stats import randint\n",
    "from sklearn.model_selection import RandomizedSearchCV\n",
    "\n",
    "param_distribs = {\n",
    "        'n_estimators': randint(low=1, high=200),\n",
    "        'max_features': randint(low=1, high=20),\n",
    "    }\n",
    "\n",
    "random_search = RandomizedSearchCV(forest_reg, param_distributions=param_distribs, cv=5,\n",
    "                           scoring='neg_mean_squared_error', return_train_score=True, random_state=42)\n",
    "random_search.fit(X_test_prepared, Y_test_set)\n",
    "random_srch = random_search.cv_results_\n",
    "\n",
    "for mean_score, param in zip(random_srch['mean_test_score'], random_srch['params']):\n",
    "    print(np.sqrt(-mean_score), param)\n"
   ]
  },
  {
   "cell_type": "markdown",
   "id": "usual-dealer",
   "metadata": {
    "slideshow": {
     "slide_type": "slide"
    }
   },
   "source": [
    "## Importance de chaque attribut"
   ]
  },
  {
   "cell_type": "code",
   "execution_count": 15,
   "id": "settled-arbitration",
   "metadata": {
    "slideshow": {
     "slide_type": "subslide"
    }
   },
   "outputs": [
    {
     "data": {
      "text/plain": [
       "[(0.07643581117998811, 'MeanWorkingTime'),\n",
       " (0.07323570482539525, 'Age'),\n",
       " (0.06549139530591457, 'TotalWorkingYears'),\n",
       " (0.06171282078992841, 'MonthlyIncome'),\n",
       " (0.0584762774732892, 'YearsAtCompany'),\n",
       " (0.04802713593767167, 'DistanceFromHome'),\n",
       " (0.04771630039496903, 'PercentSalaryHike'),\n",
       " (0.04468606891057494, 'NumCompaniesWorked'),\n",
       " (0.044355824635589375, 'YearsWithCurrManager'),\n",
       " (0.03820293717257646, 'Married'),\n",
       " (0.03605800163153158, 'EnvironmentSatisfaction'),\n",
       " (0.03547613988473491, 'Unnamed: 0'),\n",
       " (0.03395832325845624, 'JobSatisfaction'),\n",
       " (0.03376526879775789, 'YearsSinceLastPromotion'),\n",
       " (0.03196689422977125, 'WorkLifeBalance'),\n",
       " (0.031900228185072474, 'TrainingTimesLastYear'),\n",
       " (0.030595610512323325, 'Divorced'),\n",
       " (0.0300497940705089, 'Education'),\n",
       " (0.027256915815805458, 'JobLevel'),\n",
       " (0.025398690055545178, 'JobInvolvement'),\n",
       " (0.02421166834994116, 'StockOptionLevel'),\n",
       " (0.021067676560164214, 'Single'),\n",
       " (0.016956106769926704, 'Gender'),\n",
       " (0.01026378430103669, 'PerformanceRating')]"
      ]
     },
     "execution_count": 15,
     "metadata": {},
     "output_type": "execute_result"
    }
   ],
   "source": [
    "feature_importances = random_search.best_estimator_.feature_importances_\n",
    "cat_encoder = full_pipeline.named_transformers_[\"cat\"]\n",
    "cat_one_hot_attribs = list(cat_encoder.categories_[0])\n",
    "attributes = num_attribs + cat_one_hot_attribs\n",
    "sorted(zip(feature_importances, attributes), reverse=True)"
   ]
  },
  {
   "cell_type": "markdown",
   "id": "organized-improvement",
   "metadata": {
    "slideshow": {
     "slide_type": "subslide"
    }
   },
   "source": [
<<<<<<< HEAD
    "On a pu déduire que StandardHours, Over18 et EmployeeCount n'ont pas d'influence sur le model. On a pu les supprimer du jeu de données pour optimiser l'efficacité des models"
   ],
   "cell_type": "markdown",
   "metadata": {}
=======
    "On peut voir que StandardHours, Over18 et EmployeeCount n'ont pas d'influence sur le model. On peut donc les drop pour optimiser l'efficacité des models"
   ]
>>>>>>> 43a6604e1b6bf2b0e70d8fabafb06023d7a990db
  },
  {
   "cell_type": "markdown",
   "id": "altered-algebra",
   "metadata": {
    "slideshow": {
     "slide_type": "slide"
    }
   },
   "source": [
    "# Validation du meilleur modèle\n",
    "On évalue maintenant le reste du jeu de donné avec le modèle le plus performant"
   ]
  },
  {
   "cell_type": "code",
<<<<<<< HEAD
   "execution_count": 18,
   "metadata": {},
=======
   "execution_count": 16,
   "id": "victorian-ordinance",
   "metadata": {
    "slideshow": {
     "slide_type": "subslide"
    }
   },
>>>>>>> 43a6604e1b6bf2b0e70d8fabafb06023d7a990db
   "outputs": [
    {
     "name": "stdout",
     "output_type": "stream",
     "text": [
      "Erreur quadratique moyenne : 0.17311220946298017\nMoyenne de départ : 0.1622225158562368\n"
     ]
    }
   ],
   "source": [
    "from statistics import mean\n",
    "final_model = random_search.best_estimator_\n",
    "X_full_prepared = full_pipeline.transform(X_full_set)\n",
    "X_predictions = final_model.predict(X_full_prepared)\n",
    "\n",
    "final_mse = mean_squared_error(Y_full_set, X_predictions)\n",
    "final_rmse = np.sqrt(final_mse)\n",
    "print(\"Erreur quadratique moyenne : \" + str(final_rmse))\n",
    "print(\"Moyenne de départ : \" + str(mean(X_predictions)))"
   ]
  },
  {
   "cell_type": "code",
<<<<<<< HEAD
   "execution_count": 22,
   "metadata": {},
=======
   "execution_count": 44,
   "id": "lined-syria",
   "metadata": {
    "slideshow": {
     "slide_type": "subslide"
    }
   },
>>>>>>> 43a6604e1b6bf2b0e70d8fabafb06023d7a990db
   "outputs": [
    {
     "data": {
<<<<<<< HEAD
      "text/plain": "<Figure size 432x288 with 1 Axes>",
      "image/svg+xml": "<?xml version=\"1.0\" encoding=\"utf-8\" standalone=\"no\"?>\r\n<!DOCTYPE svg PUBLIC \"-//W3C//DTD SVG 1.1//EN\"\r\n  \"http://www.w3.org/Graphics/SVG/1.1/DTD/svg11.dtd\">\r\n<!-- Created with matplotlib (https://matplotlib.org/) -->\r\n<svg height=\"262.59625pt\" version=\"1.1\" viewBox=\"0 0 392.14375 262.59625\" width=\"392.14375pt\" xmlns=\"http://www.w3.org/2000/svg\" xmlns:xlink=\"http://www.w3.org/1999/xlink\">\r\n <metadata>\r\n  <rdf:RDF xmlns:cc=\"http://creativecommons.org/ns#\" xmlns:dc=\"http://purl.org/dc/elements/1.1/\" xmlns:rdf=\"http://www.w3.org/1999/02/22-rdf-syntax-ns#\">\r\n   <cc:Work>\r\n    <dc:type rdf:resource=\"http://purl.org/dc/dcmitype/StillImage\"/>\r\n    <dc:date>2021-03-18T10:42:19.618280</dc:date>\r\n    <dc:format>image/svg+xml</dc:format>\r\n    <dc:creator>\r\n     <cc:Agent>\r\n      <dc:title>Matplotlib v3.3.2, https://matplotlib.org/</dc:title>\r\n     </cc:Agent>\r\n    </dc:creator>\r\n   </cc:Work>\r\n  </rdf:RDF>\r\n </metadata>\r\n <defs>\r\n  <style type=\"text/css\">*{stroke-linecap:butt;stroke-linejoin:round;}</style>\r\n </defs>\r\n <g id=\"figure_1\">\r\n  <g id=\"patch_1\">\r\n   <path d=\"M 0 262.59625 \r\nL 392.14375 262.59625 \r\nL 392.14375 0 \r\nL 0 0 \r\nz\r\n\" style=\"fill:none;\"/>\r\n  </g>\r\n  <g id=\"axes_1\">\r\n   <g id=\"patch_2\">\r\n    <path d=\"M 50.14375 224.64 \r\nL 384.94375 224.64 \r\nL 384.94375 7.2 \r\nL 50.14375 7.2 \r\nz\r\n\" style=\"fill:#ffffff;\"/>\r\n   </g>\r\n   <g id=\"matplotlib.axis_1\">\r\n    <g id=\"xtick_1\">\r\n     <g id=\"line2d_1\">\r\n      <defs>\r\n       <path d=\"M 0 0 \r\nL 0 3.5 \r\n\" id=\"m4ebfe28c27\" style=\"stroke:#000000;stroke-width:0.8;\"/>\r\n      </defs>\r\n      <g>\r\n       <use style=\"stroke:#000000;stroke-width:0.8;\" x=\"65.361932\" xlink:href=\"#m4ebfe28c27\" y=\"224.64\"/>\r\n      </g>\r\n     </g>\r\n     <g id=\"text_1\">\r\n      <!-- 0.1 -->\r\n      <g transform=\"translate(57.410369 239.238438)scale(0.1 -0.1)\">\r\n       <defs>\r\n        <path d=\"M 31.78125 66.40625 \r\nQ 24.171875 66.40625 20.328125 58.90625 \r\nQ 16.5 51.421875 16.5 36.375 \r\nQ 16.5 21.390625 20.328125 13.890625 \r\nQ 24.171875 6.390625 31.78125 6.390625 \r\nQ 39.453125 6.390625 43.28125 13.890625 \r\nQ 47.125 21.390625 47.125 36.375 \r\nQ 47.125 51.421875 43.28125 58.90625 \r\nQ 39.453125 66.40625 31.78125 66.40625 \r\nz\r\nM 31.78125 74.21875 \r\nQ 44.046875 74.21875 50.515625 64.515625 \r\nQ 56.984375 54.828125 56.984375 36.375 \r\nQ 56.984375 17.96875 50.515625 8.265625 \r\nQ 44.046875 -1.421875 31.78125 -1.421875 \r\nQ 19.53125 -1.421875 13.0625 8.265625 \r\nQ 6.59375 17.96875 6.59375 36.375 \r\nQ 6.59375 54.828125 13.0625 64.515625 \r\nQ 19.53125 74.21875 31.78125 74.21875 \r\nz\r\n\" id=\"DejaVuSans-48\"/>\r\n        <path d=\"M 10.6875 12.40625 \r\nL 21 12.40625 \r\nL 21 0 \r\nL 10.6875 0 \r\nz\r\n\" id=\"DejaVuSans-46\"/>\r\n        <path d=\"M 12.40625 8.296875 \r\nL 28.515625 8.296875 \r\nL 28.515625 63.921875 \r\nL 10.984375 60.40625 \r\nL 10.984375 69.390625 \r\nL 28.421875 72.90625 \r\nL 38.28125 72.90625 \r\nL 38.28125 8.296875 \r\nL 54.390625 8.296875 \r\nL 54.390625 0 \r\nL 12.40625 0 \r\nz\r\n\" id=\"DejaVuSans-49\"/>\r\n       </defs>\r\n       <use xlink:href=\"#DejaVuSans-48\"/>\r\n       <use x=\"63.623047\" xlink:href=\"#DejaVuSans-46\"/>\r\n       <use x=\"95.410156\" xlink:href=\"#DejaVuSans-49\"/>\r\n      </g>\r\n     </g>\r\n    </g>\r\n    <g id=\"xtick_2\">\r\n     <g id=\"line2d_2\">\r\n      <g>\r\n       <use style=\"stroke:#000000;stroke-width:0.8;\" x=\"103.407386\" xlink:href=\"#m4ebfe28c27\" y=\"224.64\"/>\r\n      </g>\r\n     </g>\r\n     <g id=\"text_2\">\r\n      <!-- 0.2 -->\r\n      <g transform=\"translate(95.455824 239.238438)scale(0.1 -0.1)\">\r\n       <defs>\r\n        <path d=\"M 19.1875 8.296875 \r\nL 53.609375 8.296875 \r\nL 53.609375 0 \r\nL 7.328125 0 \r\nL 7.328125 8.296875 \r\nQ 12.9375 14.109375 22.625 23.890625 \r\nQ 32.328125 33.6875 34.8125 36.53125 \r\nQ 39.546875 41.84375 41.421875 45.53125 \r\nQ 43.3125 49.21875 43.3125 52.78125 \r\nQ 43.3125 58.59375 39.234375 62.25 \r\nQ 35.15625 65.921875 28.609375 65.921875 \r\nQ 23.96875 65.921875 18.8125 64.3125 \r\nQ 13.671875 62.703125 7.8125 59.421875 \r\nL 7.8125 69.390625 \r\nQ 13.765625 71.78125 18.9375 73 \r\nQ 24.125 74.21875 28.421875 74.21875 \r\nQ 39.75 74.21875 46.484375 68.546875 \r\nQ 53.21875 62.890625 53.21875 53.421875 \r\nQ 53.21875 48.921875 51.53125 44.890625 \r\nQ 49.859375 40.875 45.40625 35.40625 \r\nQ 44.1875 33.984375 37.640625 27.21875 \r\nQ 31.109375 20.453125 19.1875 8.296875 \r\nz\r\n\" id=\"DejaVuSans-50\"/>\r\n       </defs>\r\n       <use xlink:href=\"#DejaVuSans-48\"/>\r\n       <use x=\"63.623047\" xlink:href=\"#DejaVuSans-46\"/>\r\n       <use x=\"95.410156\" xlink:href=\"#DejaVuSans-50\"/>\r\n      </g>\r\n     </g>\r\n    </g>\r\n    <g id=\"xtick_3\">\r\n     <g id=\"line2d_3\">\r\n      <g>\r\n       <use style=\"stroke:#000000;stroke-width:0.8;\" x=\"141.452841\" xlink:href=\"#m4ebfe28c27\" y=\"224.64\"/>\r\n      </g>\r\n     </g>\r\n     <g id=\"text_3\">\r\n      <!-- 0.3 -->\r\n      <g transform=\"translate(133.501278 239.238438)scale(0.1 -0.1)\">\r\n       <defs>\r\n        <path d=\"M 40.578125 39.3125 \r\nQ 47.65625 37.796875 51.625 33 \r\nQ 55.609375 28.21875 55.609375 21.1875 \r\nQ 55.609375 10.40625 48.1875 4.484375 \r\nQ 40.765625 -1.421875 27.09375 -1.421875 \r\nQ 22.515625 -1.421875 17.65625 -0.515625 \r\nQ 12.796875 0.390625 7.625 2.203125 \r\nL 7.625 11.71875 \r\nQ 11.71875 9.328125 16.59375 8.109375 \r\nQ 21.484375 6.890625 26.8125 6.890625 \r\nQ 36.078125 6.890625 40.9375 10.546875 \r\nQ 45.796875 14.203125 45.796875 21.1875 \r\nQ 45.796875 27.640625 41.28125 31.265625 \r\nQ 36.765625 34.90625 28.71875 34.90625 \r\nL 20.21875 34.90625 \r\nL 20.21875 43.015625 \r\nL 29.109375 43.015625 \r\nQ 36.375 43.015625 40.234375 45.921875 \r\nQ 44.09375 48.828125 44.09375 54.296875 \r\nQ 44.09375 59.90625 40.109375 62.90625 \r\nQ 36.140625 65.921875 28.71875 65.921875 \r\nQ 24.65625 65.921875 20.015625 65.03125 \r\nQ 15.375 64.15625 9.8125 62.3125 \r\nL 9.8125 71.09375 \r\nQ 15.4375 72.65625 20.34375 73.4375 \r\nQ 25.25 74.21875 29.59375 74.21875 \r\nQ 40.828125 74.21875 47.359375 69.109375 \r\nQ 53.90625 64.015625 53.90625 55.328125 \r\nQ 53.90625 49.265625 50.4375 45.09375 \r\nQ 46.96875 40.921875 40.578125 39.3125 \r\nz\r\n\" id=\"DejaVuSans-51\"/>\r\n       </defs>\r\n       <use xlink:href=\"#DejaVuSans-48\"/>\r\n       <use x=\"63.623047\" xlink:href=\"#DejaVuSans-46\"/>\r\n       <use x=\"95.410156\" xlink:href=\"#DejaVuSans-51\"/>\r\n      </g>\r\n     </g>\r\n    </g>\r\n    <g id=\"xtick_4\">\r\n     <g id=\"line2d_4\">\r\n      <g>\r\n       <use style=\"stroke:#000000;stroke-width:0.8;\" x=\"179.498295\" xlink:href=\"#m4ebfe28c27\" y=\"224.64\"/>\r\n      </g>\r\n     </g>\r\n     <g id=\"text_4\">\r\n      <!-- 0.4 -->\r\n      <g transform=\"translate(171.546733 239.238438)scale(0.1 -0.1)\">\r\n       <defs>\r\n        <path d=\"M 37.796875 64.3125 \r\nL 12.890625 25.390625 \r\nL 37.796875 25.390625 \r\nz\r\nM 35.203125 72.90625 \r\nL 47.609375 72.90625 \r\nL 47.609375 25.390625 \r\nL 58.015625 25.390625 \r\nL 58.015625 17.1875 \r\nL 47.609375 17.1875 \r\nL 47.609375 0 \r\nL 37.796875 0 \r\nL 37.796875 17.1875 \r\nL 4.890625 17.1875 \r\nL 4.890625 26.703125 \r\nz\r\n\" id=\"DejaVuSans-52\"/>\r\n       </defs>\r\n       <use xlink:href=\"#DejaVuSans-48\"/>\r\n       <use x=\"63.623047\" xlink:href=\"#DejaVuSans-46\"/>\r\n       <use x=\"95.410156\" xlink:href=\"#DejaVuSans-52\"/>\r\n      </g>\r\n     </g>\r\n    </g>\r\n    <g id=\"xtick_5\">\r\n     <g id=\"line2d_5\">\r\n      <g>\r\n       <use style=\"stroke:#000000;stroke-width:0.8;\" x=\"217.54375\" xlink:href=\"#m4ebfe28c27\" y=\"224.64\"/>\r\n      </g>\r\n     </g>\r\n     <g id=\"text_5\">\r\n      <!-- 0.5 -->\r\n      <g transform=\"translate(209.592187 239.238438)scale(0.1 -0.1)\">\r\n       <defs>\r\n        <path d=\"M 10.796875 72.90625 \r\nL 49.515625 72.90625 \r\nL 49.515625 64.59375 \r\nL 19.828125 64.59375 \r\nL 19.828125 46.734375 \r\nQ 21.96875 47.46875 24.109375 47.828125 \r\nQ 26.265625 48.1875 28.421875 48.1875 \r\nQ 40.625 48.1875 47.75 41.5 \r\nQ 54.890625 34.8125 54.890625 23.390625 \r\nQ 54.890625 11.625 47.5625 5.09375 \r\nQ 40.234375 -1.421875 26.90625 -1.421875 \r\nQ 22.3125 -1.421875 17.546875 -0.640625 \r\nQ 12.796875 0.140625 7.71875 1.703125 \r\nL 7.71875 11.625 \r\nQ 12.109375 9.234375 16.796875 8.0625 \r\nQ 21.484375 6.890625 26.703125 6.890625 \r\nQ 35.15625 6.890625 40.078125 11.328125 \r\nQ 45.015625 15.765625 45.015625 23.390625 \r\nQ 45.015625 31 40.078125 35.4375 \r\nQ 35.15625 39.890625 26.703125 39.890625 \r\nQ 22.75 39.890625 18.8125 39.015625 \r\nQ 14.890625 38.140625 10.796875 36.28125 \r\nz\r\n\" id=\"DejaVuSans-53\"/>\r\n       </defs>\r\n       <use xlink:href=\"#DejaVuSans-48\"/>\r\n       <use x=\"63.623047\" xlink:href=\"#DejaVuSans-46\"/>\r\n       <use x=\"95.410156\" xlink:href=\"#DejaVuSans-53\"/>\r\n      </g>\r\n     </g>\r\n    </g>\r\n    <g id=\"xtick_6\">\r\n     <g id=\"line2d_6\">\r\n      <g>\r\n       <use style=\"stroke:#000000;stroke-width:0.8;\" x=\"255.589205\" xlink:href=\"#m4ebfe28c27\" y=\"224.64\"/>\r\n      </g>\r\n     </g>\r\n     <g id=\"text_6\">\r\n      <!-- 0.6 -->\r\n      <g transform=\"translate(247.637642 239.238438)scale(0.1 -0.1)\">\r\n       <defs>\r\n        <path d=\"M 33.015625 40.375 \r\nQ 26.375 40.375 22.484375 35.828125 \r\nQ 18.609375 31.296875 18.609375 23.390625 \r\nQ 18.609375 15.53125 22.484375 10.953125 \r\nQ 26.375 6.390625 33.015625 6.390625 \r\nQ 39.65625 6.390625 43.53125 10.953125 \r\nQ 47.40625 15.53125 47.40625 23.390625 \r\nQ 47.40625 31.296875 43.53125 35.828125 \r\nQ 39.65625 40.375 33.015625 40.375 \r\nz\r\nM 52.59375 71.296875 \r\nL 52.59375 62.3125 \r\nQ 48.875 64.0625 45.09375 64.984375 \r\nQ 41.3125 65.921875 37.59375 65.921875 \r\nQ 27.828125 65.921875 22.671875 59.328125 \r\nQ 17.53125 52.734375 16.796875 39.40625 \r\nQ 19.671875 43.65625 24.015625 45.921875 \r\nQ 28.375 48.1875 33.59375 48.1875 \r\nQ 44.578125 48.1875 50.953125 41.515625 \r\nQ 57.328125 34.859375 57.328125 23.390625 \r\nQ 57.328125 12.15625 50.6875 5.359375 \r\nQ 44.046875 -1.421875 33.015625 -1.421875 \r\nQ 20.359375 -1.421875 13.671875 8.265625 \r\nQ 6.984375 17.96875 6.984375 36.375 \r\nQ 6.984375 53.65625 15.1875 63.9375 \r\nQ 23.390625 74.21875 37.203125 74.21875 \r\nQ 40.921875 74.21875 44.703125 73.484375 \r\nQ 48.484375 72.75 52.59375 71.296875 \r\nz\r\n\" id=\"DejaVuSans-54\"/>\r\n       </defs>\r\n       <use xlink:href=\"#DejaVuSans-48\"/>\r\n       <use x=\"63.623047\" xlink:href=\"#DejaVuSans-46\"/>\r\n       <use x=\"95.410156\" xlink:href=\"#DejaVuSans-54\"/>\r\n      </g>\r\n     </g>\r\n    </g>\r\n    <g id=\"xtick_7\">\r\n     <g id=\"line2d_7\">\r\n      <g>\r\n       <use style=\"stroke:#000000;stroke-width:0.8;\" x=\"293.634659\" xlink:href=\"#m4ebfe28c27\" y=\"224.64\"/>\r\n      </g>\r\n     </g>\r\n     <g id=\"text_7\">\r\n      <!-- 0.7 -->\r\n      <g transform=\"translate(285.683097 239.238438)scale(0.1 -0.1)\">\r\n       <defs>\r\n        <path d=\"M 8.203125 72.90625 \r\nL 55.078125 72.90625 \r\nL 55.078125 68.703125 \r\nL 28.609375 0 \r\nL 18.3125 0 \r\nL 43.21875 64.59375 \r\nL 8.203125 64.59375 \r\nz\r\n\" id=\"DejaVuSans-55\"/>\r\n       </defs>\r\n       <use xlink:href=\"#DejaVuSans-48\"/>\r\n       <use x=\"63.623047\" xlink:href=\"#DejaVuSans-46\"/>\r\n       <use x=\"95.410156\" xlink:href=\"#DejaVuSans-55\"/>\r\n      </g>\r\n     </g>\r\n    </g>\r\n    <g id=\"xtick_8\">\r\n     <g id=\"line2d_8\">\r\n      <g>\r\n       <use style=\"stroke:#000000;stroke-width:0.8;\" x=\"331.680114\" xlink:href=\"#m4ebfe28c27\" y=\"224.64\"/>\r\n      </g>\r\n     </g>\r\n     <g id=\"text_8\">\r\n      <!-- 0.8 -->\r\n      <g transform=\"translate(323.728551 239.238438)scale(0.1 -0.1)\">\r\n       <defs>\r\n        <path d=\"M 31.78125 34.625 \r\nQ 24.75 34.625 20.71875 30.859375 \r\nQ 16.703125 27.09375 16.703125 20.515625 \r\nQ 16.703125 13.921875 20.71875 10.15625 \r\nQ 24.75 6.390625 31.78125 6.390625 \r\nQ 38.8125 6.390625 42.859375 10.171875 \r\nQ 46.921875 13.96875 46.921875 20.515625 \r\nQ 46.921875 27.09375 42.890625 30.859375 \r\nQ 38.875 34.625 31.78125 34.625 \r\nz\r\nM 21.921875 38.8125 \r\nQ 15.578125 40.375 12.03125 44.71875 \r\nQ 8.5 49.078125 8.5 55.328125 \r\nQ 8.5 64.0625 14.71875 69.140625 \r\nQ 20.953125 74.21875 31.78125 74.21875 \r\nQ 42.671875 74.21875 48.875 69.140625 \r\nQ 55.078125 64.0625 55.078125 55.328125 \r\nQ 55.078125 49.078125 51.53125 44.71875 \r\nQ 48 40.375 41.703125 38.8125 \r\nQ 48.828125 37.15625 52.796875 32.3125 \r\nQ 56.78125 27.484375 56.78125 20.515625 \r\nQ 56.78125 9.90625 50.3125 4.234375 \r\nQ 43.84375 -1.421875 31.78125 -1.421875 \r\nQ 19.734375 -1.421875 13.25 4.234375 \r\nQ 6.78125 9.90625 6.78125 20.515625 \r\nQ 6.78125 27.484375 10.78125 32.3125 \r\nQ 14.796875 37.15625 21.921875 38.8125 \r\nz\r\nM 18.3125 54.390625 \r\nQ 18.3125 48.734375 21.84375 45.5625 \r\nQ 25.390625 42.390625 31.78125 42.390625 \r\nQ 38.140625 42.390625 41.71875 45.5625 \r\nQ 45.3125 48.734375 45.3125 54.390625 \r\nQ 45.3125 60.0625 41.71875 63.234375 \r\nQ 38.140625 66.40625 31.78125 66.40625 \r\nQ 25.390625 66.40625 21.84375 63.234375 \r\nQ 18.3125 60.0625 18.3125 54.390625 \r\nz\r\n\" id=\"DejaVuSans-56\"/>\r\n       </defs>\r\n       <use xlink:href=\"#DejaVuSans-48\"/>\r\n       <use x=\"63.623047\" xlink:href=\"#DejaVuSans-46\"/>\r\n       <use x=\"95.410156\" xlink:href=\"#DejaVuSans-56\"/>\r\n      </g>\r\n     </g>\r\n    </g>\r\n    <g id=\"xtick_9\">\r\n     <g id=\"line2d_9\">\r\n      <g>\r\n       <use style=\"stroke:#000000;stroke-width:0.8;\" x=\"369.725568\" xlink:href=\"#m4ebfe28c27\" y=\"224.64\"/>\r\n      </g>\r\n     </g>\r\n     <g id=\"text_9\">\r\n      <!-- 0.9 -->\r\n      <g transform=\"translate(361.774006 239.238438)scale(0.1 -0.1)\">\r\n       <defs>\r\n        <path d=\"M 10.984375 1.515625 \r\nL 10.984375 10.5 \r\nQ 14.703125 8.734375 18.5 7.8125 \r\nQ 22.3125 6.890625 25.984375 6.890625 \r\nQ 35.75 6.890625 40.890625 13.453125 \r\nQ 46.046875 20.015625 46.78125 33.40625 \r\nQ 43.953125 29.203125 39.59375 26.953125 \r\nQ 35.25 24.703125 29.984375 24.703125 \r\nQ 19.046875 24.703125 12.671875 31.3125 \r\nQ 6.296875 37.9375 6.296875 49.421875 \r\nQ 6.296875 60.640625 12.9375 67.421875 \r\nQ 19.578125 74.21875 30.609375 74.21875 \r\nQ 43.265625 74.21875 49.921875 64.515625 \r\nQ 56.59375 54.828125 56.59375 36.375 \r\nQ 56.59375 19.140625 48.40625 8.859375 \r\nQ 40.234375 -1.421875 26.421875 -1.421875 \r\nQ 22.703125 -1.421875 18.890625 -0.6875 \r\nQ 15.09375 0.046875 10.984375 1.515625 \r\nz\r\nM 30.609375 32.421875 \r\nQ 37.25 32.421875 41.125 36.953125 \r\nQ 45.015625 41.5 45.015625 49.421875 \r\nQ 45.015625 57.28125 41.125 61.84375 \r\nQ 37.25 66.40625 30.609375 66.40625 \r\nQ 23.96875 66.40625 20.09375 61.84375 \r\nQ 16.21875 57.28125 16.21875 49.421875 \r\nQ 16.21875 41.5 20.09375 36.953125 \r\nQ 23.96875 32.421875 30.609375 32.421875 \r\nz\r\n\" id=\"DejaVuSans-57\"/>\r\n       </defs>\r\n       <use xlink:href=\"#DejaVuSans-48\"/>\r\n       <use x=\"63.623047\" xlink:href=\"#DejaVuSans-46\"/>\r\n       <use x=\"95.410156\" xlink:href=\"#DejaVuSans-57\"/>\r\n      </g>\r\n     </g>\r\n    </g>\r\n    <g id=\"text_10\">\r\n     <!-- Coefficient de réduction du temps -->\r\n     <g transform=\"translate(132.338281 253.316563)scale(0.1 -0.1)\">\r\n      <defs>\r\n       <path d=\"M 64.40625 67.28125 \r\nL 64.40625 56.890625 \r\nQ 59.421875 61.53125 53.78125 63.8125 \r\nQ 48.140625 66.109375 41.796875 66.109375 \r\nQ 29.296875 66.109375 22.65625 58.46875 \r\nQ 16.015625 50.828125 16.015625 36.375 \r\nQ 16.015625 21.96875 22.65625 14.328125 \r\nQ 29.296875 6.6875 41.796875 6.6875 \r\nQ 48.140625 6.6875 53.78125 8.984375 \r\nQ 59.421875 11.28125 64.40625 15.921875 \r\nL 64.40625 5.609375 \r\nQ 59.234375 2.09375 53.4375 0.328125 \r\nQ 47.65625 -1.421875 41.21875 -1.421875 \r\nQ 24.65625 -1.421875 15.125 8.703125 \r\nQ 5.609375 18.84375 5.609375 36.375 \r\nQ 5.609375 53.953125 15.125 64.078125 \r\nQ 24.65625 74.21875 41.21875 74.21875 \r\nQ 47.75 74.21875 53.53125 72.484375 \r\nQ 59.328125 70.75 64.40625 67.28125 \r\nz\r\n\" id=\"DejaVuSans-67\"/>\r\n       <path d=\"M 30.609375 48.390625 \r\nQ 23.390625 48.390625 19.1875 42.75 \r\nQ 14.984375 37.109375 14.984375 27.296875 \r\nQ 14.984375 17.484375 19.15625 11.84375 \r\nQ 23.34375 6.203125 30.609375 6.203125 \r\nQ 37.796875 6.203125 41.984375 11.859375 \r\nQ 46.1875 17.53125 46.1875 27.296875 \r\nQ 46.1875 37.015625 41.984375 42.703125 \r\nQ 37.796875 48.390625 30.609375 48.390625 \r\nz\r\nM 30.609375 56 \r\nQ 42.328125 56 49.015625 48.375 \r\nQ 55.71875 40.765625 55.71875 27.296875 \r\nQ 55.71875 13.875 49.015625 6.21875 \r\nQ 42.328125 -1.421875 30.609375 -1.421875 \r\nQ 18.84375 -1.421875 12.171875 6.21875 \r\nQ 5.515625 13.875 5.515625 27.296875 \r\nQ 5.515625 40.765625 12.171875 48.375 \r\nQ 18.84375 56 30.609375 56 \r\nz\r\n\" id=\"DejaVuSans-111\"/>\r\n       <path d=\"M 56.203125 29.59375 \r\nL 56.203125 25.203125 \r\nL 14.890625 25.203125 \r\nQ 15.484375 15.921875 20.484375 11.0625 \r\nQ 25.484375 6.203125 34.421875 6.203125 \r\nQ 39.59375 6.203125 44.453125 7.46875 \r\nQ 49.3125 8.734375 54.109375 11.28125 \r\nL 54.109375 2.78125 \r\nQ 49.265625 0.734375 44.1875 -0.34375 \r\nQ 39.109375 -1.421875 33.890625 -1.421875 \r\nQ 20.796875 -1.421875 13.15625 6.1875 \r\nQ 5.515625 13.8125 5.515625 26.8125 \r\nQ 5.515625 40.234375 12.765625 48.109375 \r\nQ 20.015625 56 32.328125 56 \r\nQ 43.359375 56 49.78125 48.890625 \r\nQ 56.203125 41.796875 56.203125 29.59375 \r\nz\r\nM 47.21875 32.234375 \r\nQ 47.125 39.59375 43.09375 43.984375 \r\nQ 39.0625 48.390625 32.421875 48.390625 \r\nQ 24.90625 48.390625 20.390625 44.140625 \r\nQ 15.875 39.890625 15.1875 32.171875 \r\nz\r\n\" id=\"DejaVuSans-101\"/>\r\n       <path d=\"M 37.109375 75.984375 \r\nL 37.109375 68.5 \r\nL 28.515625 68.5 \r\nQ 23.6875 68.5 21.796875 66.546875 \r\nQ 19.921875 64.59375 19.921875 59.515625 \r\nL 19.921875 54.6875 \r\nL 34.71875 54.6875 \r\nL 34.71875 47.703125 \r\nL 19.921875 47.703125 \r\nL 19.921875 0 \r\nL 10.890625 0 \r\nL 10.890625 47.703125 \r\nL 2.296875 47.703125 \r\nL 2.296875 54.6875 \r\nL 10.890625 54.6875 \r\nL 10.890625 58.5 \r\nQ 10.890625 67.625 15.140625 71.796875 \r\nQ 19.390625 75.984375 28.609375 75.984375 \r\nz\r\n\" id=\"DejaVuSans-102\"/>\r\n       <path d=\"M 9.421875 54.6875 \r\nL 18.40625 54.6875 \r\nL 18.40625 0 \r\nL 9.421875 0 \r\nz\r\nM 9.421875 75.984375 \r\nL 18.40625 75.984375 \r\nL 18.40625 64.59375 \r\nL 9.421875 64.59375 \r\nz\r\n\" id=\"DejaVuSans-105\"/>\r\n       <path d=\"M 48.78125 52.59375 \r\nL 48.78125 44.1875 \r\nQ 44.96875 46.296875 41.140625 47.34375 \r\nQ 37.3125 48.390625 33.40625 48.390625 \r\nQ 24.65625 48.390625 19.8125 42.84375 \r\nQ 14.984375 37.3125 14.984375 27.296875 \r\nQ 14.984375 17.28125 19.8125 11.734375 \r\nQ 24.65625 6.203125 33.40625 6.203125 \r\nQ 37.3125 6.203125 41.140625 7.25 \r\nQ 44.96875 8.296875 48.78125 10.40625 \r\nL 48.78125 2.09375 \r\nQ 45.015625 0.34375 40.984375 -0.53125 \r\nQ 36.96875 -1.421875 32.421875 -1.421875 \r\nQ 20.0625 -1.421875 12.78125 6.34375 \r\nQ 5.515625 14.109375 5.515625 27.296875 \r\nQ 5.515625 40.671875 12.859375 48.328125 \r\nQ 20.21875 56 33.015625 56 \r\nQ 37.15625 56 41.109375 55.140625 \r\nQ 45.0625 54.296875 48.78125 52.59375 \r\nz\r\n\" id=\"DejaVuSans-99\"/>\r\n       <path d=\"M 54.890625 33.015625 \r\nL 54.890625 0 \r\nL 45.90625 0 \r\nL 45.90625 32.71875 \r\nQ 45.90625 40.484375 42.875 44.328125 \r\nQ 39.84375 48.1875 33.796875 48.1875 \r\nQ 26.515625 48.1875 22.3125 43.546875 \r\nQ 18.109375 38.921875 18.109375 30.90625 \r\nL 18.109375 0 \r\nL 9.078125 0 \r\nL 9.078125 54.6875 \r\nL 18.109375 54.6875 \r\nL 18.109375 46.1875 \r\nQ 21.34375 51.125 25.703125 53.5625 \r\nQ 30.078125 56 35.796875 56 \r\nQ 45.21875 56 50.046875 50.171875 \r\nQ 54.890625 44.34375 54.890625 33.015625 \r\nz\r\n\" id=\"DejaVuSans-110\"/>\r\n       <path d=\"M 18.3125 70.21875 \r\nL 18.3125 54.6875 \r\nL 36.8125 54.6875 \r\nL 36.8125 47.703125 \r\nL 18.3125 47.703125 \r\nL 18.3125 18.015625 \r\nQ 18.3125 11.328125 20.140625 9.421875 \r\nQ 21.96875 7.515625 27.59375 7.515625 \r\nL 36.8125 7.515625 \r\nL 36.8125 0 \r\nL 27.59375 0 \r\nQ 17.1875 0 13.234375 3.875 \r\nQ 9.28125 7.765625 9.28125 18.015625 \r\nL 9.28125 47.703125 \r\nL 2.6875 47.703125 \r\nL 2.6875 54.6875 \r\nL 9.28125 54.6875 \r\nL 9.28125 70.21875 \r\nz\r\n\" id=\"DejaVuSans-116\"/>\r\n       <path id=\"DejaVuSans-32\"/>\r\n       <path d=\"M 45.40625 46.390625 \r\nL 45.40625 75.984375 \r\nL 54.390625 75.984375 \r\nL 54.390625 0 \r\nL 45.40625 0 \r\nL 45.40625 8.203125 \r\nQ 42.578125 3.328125 38.25 0.953125 \r\nQ 33.9375 -1.421875 27.875 -1.421875 \r\nQ 17.96875 -1.421875 11.734375 6.484375 \r\nQ 5.515625 14.40625 5.515625 27.296875 \r\nQ 5.515625 40.1875 11.734375 48.09375 \r\nQ 17.96875 56 27.875 56 \r\nQ 33.9375 56 38.25 53.625 \r\nQ 42.578125 51.265625 45.40625 46.390625 \r\nz\r\nM 14.796875 27.296875 \r\nQ 14.796875 17.390625 18.875 11.75 \r\nQ 22.953125 6.109375 30.078125 6.109375 \r\nQ 37.203125 6.109375 41.296875 11.75 \r\nQ 45.40625 17.390625 45.40625 27.296875 \r\nQ 45.40625 37.203125 41.296875 42.84375 \r\nQ 37.203125 48.484375 30.078125 48.484375 \r\nQ 22.953125 48.484375 18.875 42.84375 \r\nQ 14.796875 37.203125 14.796875 27.296875 \r\nz\r\n\" id=\"DejaVuSans-100\"/>\r\n       <path d=\"M 41.109375 46.296875 \r\nQ 39.59375 47.171875 37.8125 47.578125 \r\nQ 36.03125 48 33.890625 48 \r\nQ 26.265625 48 22.1875 43.046875 \r\nQ 18.109375 38.09375 18.109375 28.8125 \r\nL 18.109375 0 \r\nL 9.078125 0 \r\nL 9.078125 54.6875 \r\nL 18.109375 54.6875 \r\nL 18.109375 46.1875 \r\nQ 20.953125 51.171875 25.484375 53.578125 \r\nQ 30.03125 56 36.53125 56 \r\nQ 37.453125 56 38.578125 55.875 \r\nQ 39.703125 55.765625 41.0625 55.515625 \r\nz\r\n\" id=\"DejaVuSans-114\"/>\r\n       <path d=\"M 56.203125 29.59375 \r\nL 56.203125 25.203125 \r\nL 14.890625 25.203125 \r\nQ 15.484375 15.921875 20.484375 11.0625 \r\nQ 25.484375 6.203125 34.421875 6.203125 \r\nQ 39.59375 6.203125 44.453125 7.46875 \r\nQ 49.3125 8.734375 54.109375 11.28125 \r\nL 54.109375 2.78125 \r\nQ 49.265625 0.734375 44.1875 -0.34375 \r\nQ 39.109375 -1.421875 33.890625 -1.421875 \r\nQ 20.796875 -1.421875 13.15625 6.1875 \r\nQ 5.515625 13.8125 5.515625 26.8125 \r\nQ 5.515625 40.234375 12.765625 48.109375 \r\nQ 20.015625 56 32.328125 56 \r\nQ 43.359375 56 49.78125 48.890625 \r\nQ 56.203125 41.796875 56.203125 29.59375 \r\nz\r\nM 47.21875 32.234375 \r\nQ 47.125 39.59375 43.09375 43.984375 \r\nQ 39.0625 48.390625 32.421875 48.390625 \r\nQ 24.90625 48.390625 20.390625 44.140625 \r\nQ 15.875 39.890625 15.1875 32.171875 \r\nz\r\nM 38.578125 79.984375 \r\nL 48.296875 79.984375 \r\nL 32.375 61.625 \r\nL 24.90625 61.625 \r\nz\r\n\" id=\"DejaVuSans-233\"/>\r\n       <path d=\"M 8.5 21.578125 \r\nL 8.5 54.6875 \r\nL 17.484375 54.6875 \r\nL 17.484375 21.921875 \r\nQ 17.484375 14.15625 20.5 10.265625 \r\nQ 23.53125 6.390625 29.59375 6.390625 \r\nQ 36.859375 6.390625 41.078125 11.03125 \r\nQ 45.3125 15.671875 45.3125 23.6875 \r\nL 45.3125 54.6875 \r\nL 54.296875 54.6875 \r\nL 54.296875 0 \r\nL 45.3125 0 \r\nL 45.3125 8.40625 \r\nQ 42.046875 3.421875 37.71875 1 \r\nQ 33.40625 -1.421875 27.6875 -1.421875 \r\nQ 18.265625 -1.421875 13.375 4.4375 \r\nQ 8.5 10.296875 8.5 21.578125 \r\nz\r\nM 31.109375 56 \r\nz\r\n\" id=\"DejaVuSans-117\"/>\r\n       <path d=\"M 52 44.1875 \r\nQ 55.375 50.25 60.0625 53.125 \r\nQ 64.75 56 71.09375 56 \r\nQ 79.640625 56 84.28125 50.015625 \r\nQ 88.921875 44.046875 88.921875 33.015625 \r\nL 88.921875 0 \r\nL 79.890625 0 \r\nL 79.890625 32.71875 \r\nQ 79.890625 40.578125 77.09375 44.375 \r\nQ 74.3125 48.1875 68.609375 48.1875 \r\nQ 61.625 48.1875 57.5625 43.546875 \r\nQ 53.515625 38.921875 53.515625 30.90625 \r\nL 53.515625 0 \r\nL 44.484375 0 \r\nL 44.484375 32.71875 \r\nQ 44.484375 40.625 41.703125 44.40625 \r\nQ 38.921875 48.1875 33.109375 48.1875 \r\nQ 26.21875 48.1875 22.15625 43.53125 \r\nQ 18.109375 38.875 18.109375 30.90625 \r\nL 18.109375 0 \r\nL 9.078125 0 \r\nL 9.078125 54.6875 \r\nL 18.109375 54.6875 \r\nL 18.109375 46.1875 \r\nQ 21.1875 51.21875 25.484375 53.609375 \r\nQ 29.78125 56 35.6875 56 \r\nQ 41.65625 56 45.828125 52.96875 \r\nQ 50 49.953125 52 44.1875 \r\nz\r\n\" id=\"DejaVuSans-109\"/>\r\n       <path d=\"M 18.109375 8.203125 \r\nL 18.109375 -20.796875 \r\nL 9.078125 -20.796875 \r\nL 9.078125 54.6875 \r\nL 18.109375 54.6875 \r\nL 18.109375 46.390625 \r\nQ 20.953125 51.265625 25.265625 53.625 \r\nQ 29.59375 56 35.59375 56 \r\nQ 45.5625 56 51.78125 48.09375 \r\nQ 58.015625 40.1875 58.015625 27.296875 \r\nQ 58.015625 14.40625 51.78125 6.484375 \r\nQ 45.5625 -1.421875 35.59375 -1.421875 \r\nQ 29.59375 -1.421875 25.265625 0.953125 \r\nQ 20.953125 3.328125 18.109375 8.203125 \r\nz\r\nM 48.6875 27.296875 \r\nQ 48.6875 37.203125 44.609375 42.84375 \r\nQ 40.53125 48.484375 33.40625 48.484375 \r\nQ 26.265625 48.484375 22.1875 42.84375 \r\nQ 18.109375 37.203125 18.109375 27.296875 \r\nQ 18.109375 17.390625 22.1875 11.75 \r\nQ 26.265625 6.109375 33.40625 6.109375 \r\nQ 40.53125 6.109375 44.609375 11.75 \r\nQ 48.6875 17.390625 48.6875 27.296875 \r\nz\r\n\" id=\"DejaVuSans-112\"/>\r\n       <path d=\"M 44.28125 53.078125 \r\nL 44.28125 44.578125 \r\nQ 40.484375 46.53125 36.375 47.5 \r\nQ 32.28125 48.484375 27.875 48.484375 \r\nQ 21.1875 48.484375 17.84375 46.4375 \r\nQ 14.5 44.390625 14.5 40.28125 \r\nQ 14.5 37.15625 16.890625 35.375 \r\nQ 19.28125 33.59375 26.515625 31.984375 \r\nL 29.59375 31.296875 \r\nQ 39.15625 29.25 43.1875 25.515625 \r\nQ 47.21875 21.78125 47.21875 15.09375 \r\nQ 47.21875 7.46875 41.1875 3.015625 \r\nQ 35.15625 -1.421875 24.609375 -1.421875 \r\nQ 20.21875 -1.421875 15.453125 -0.5625 \r\nQ 10.6875 0.296875 5.421875 2 \r\nL 5.421875 11.28125 \r\nQ 10.40625 8.6875 15.234375 7.390625 \r\nQ 20.0625 6.109375 24.8125 6.109375 \r\nQ 31.15625 6.109375 34.5625 8.28125 \r\nQ 37.984375 10.453125 37.984375 14.40625 \r\nQ 37.984375 18.0625 35.515625 20.015625 \r\nQ 33.0625 21.96875 24.703125 23.78125 \r\nL 21.578125 24.515625 \r\nQ 13.234375 26.265625 9.515625 29.90625 \r\nQ 5.8125 33.546875 5.8125 39.890625 \r\nQ 5.8125 47.609375 11.28125 51.796875 \r\nQ 16.75 56 26.8125 56 \r\nQ 31.78125 56 36.171875 55.265625 \r\nQ 40.578125 54.546875 44.28125 53.078125 \r\nz\r\n\" id=\"DejaVuSans-115\"/>\r\n      </defs>\r\n      <use xlink:href=\"#DejaVuSans-67\"/>\r\n      <use x=\"69.824219\" xlink:href=\"#DejaVuSans-111\"/>\r\n      <use x=\"131.005859\" xlink:href=\"#DejaVuSans-101\"/>\r\n      <use x=\"192.529297\" xlink:href=\"#DejaVuSans-102\"/>\r\n      <use x=\"227.734375\" xlink:href=\"#DejaVuSans-102\"/>\r\n      <use x=\"262.939453\" xlink:href=\"#DejaVuSans-105\"/>\r\n      <use x=\"290.722656\" xlink:href=\"#DejaVuSans-99\"/>\r\n      <use x=\"345.703125\" xlink:href=\"#DejaVuSans-105\"/>\r\n      <use x=\"373.486328\" xlink:href=\"#DejaVuSans-101\"/>\r\n      <use x=\"435.009766\" xlink:href=\"#DejaVuSans-110\"/>\r\n      <use x=\"498.388672\" xlink:href=\"#DejaVuSans-116\"/>\r\n      <use x=\"537.597656\" xlink:href=\"#DejaVuSans-32\"/>\r\n      <use x=\"569.384766\" xlink:href=\"#DejaVuSans-100\"/>\r\n      <use x=\"632.861328\" xlink:href=\"#DejaVuSans-101\"/>\r\n      <use x=\"694.384766\" xlink:href=\"#DejaVuSans-32\"/>\r\n      <use x=\"726.171875\" xlink:href=\"#DejaVuSans-114\"/>\r\n      <use x=\"765.035156\" xlink:href=\"#DejaVuSans-233\"/>\r\n      <use x=\"826.558594\" xlink:href=\"#DejaVuSans-100\"/>\r\n      <use x=\"890.035156\" xlink:href=\"#DejaVuSans-117\"/>\r\n      <use x=\"953.414062\" xlink:href=\"#DejaVuSans-99\"/>\r\n      <use x=\"1008.394531\" xlink:href=\"#DejaVuSans-116\"/>\r\n      <use x=\"1047.603516\" xlink:href=\"#DejaVuSans-105\"/>\r\n      <use x=\"1075.386719\" xlink:href=\"#DejaVuSans-111\"/>\r\n      <use x=\"1136.568359\" xlink:href=\"#DejaVuSans-110\"/>\r\n      <use x=\"1199.947266\" xlink:href=\"#DejaVuSans-32\"/>\r\n      <use x=\"1231.734375\" xlink:href=\"#DejaVuSans-100\"/>\r\n      <use x=\"1295.210938\" xlink:href=\"#DejaVuSans-117\"/>\r\n      <use x=\"1358.589844\" xlink:href=\"#DejaVuSans-32\"/>\r\n      <use x=\"1390.376953\" xlink:href=\"#DejaVuSans-116\"/>\r\n      <use x=\"1429.585938\" xlink:href=\"#DejaVuSans-101\"/>\r\n      <use x=\"1491.109375\" xlink:href=\"#DejaVuSans-109\"/>\r\n      <use x=\"1588.521484\" xlink:href=\"#DejaVuSans-112\"/>\r\n      <use x=\"1651.998047\" xlink:href=\"#DejaVuSans-115\"/>\r\n     </g>\r\n    </g>\r\n   </g>\r\n   <g id=\"matplotlib.axis_2\">\r\n    <g id=\"ytick_1\">\r\n     <g id=\"line2d_10\">\r\n      <defs>\r\n       <path d=\"M 0 0 \r\nL -3.5 0 \r\n\" id=\"m4623897aed\" style=\"stroke:#000000;stroke-width:0.8;\"/>\r\n      </defs>\r\n      <g>\r\n       <use style=\"stroke:#000000;stroke-width:0.8;\" x=\"50.14375\" xlink:href=\"#m4623897aed\" y=\"204.449582\"/>\r\n      </g>\r\n     </g>\r\n     <g id=\"text_11\">\r\n      <!-- 0.15 -->\r\n      <g transform=\"translate(20.878125 208.248801)scale(0.1 -0.1)\">\r\n       <use xlink:href=\"#DejaVuSans-48\"/>\r\n       <use x=\"63.623047\" xlink:href=\"#DejaVuSans-46\"/>\r\n       <use x=\"95.410156\" xlink:href=\"#DejaVuSans-49\"/>\r\n       <use x=\"159.033203\" xlink:href=\"#DejaVuSans-53\"/>\r\n      </g>\r\n     </g>\r\n    </g>\r\n    <g id=\"ytick_2\">\r\n     <g id=\"line2d_11\">\r\n      <g>\r\n       <use style=\"stroke:#000000;stroke-width:0.8;\" x=\"50.14375\" xlink:href=\"#m4623897aed\" y=\"168.668974\"/>\r\n      </g>\r\n     </g>\r\n     <g id=\"text_12\">\r\n      <!-- 0.16 -->\r\n      <g transform=\"translate(20.878125 172.468193)scale(0.1 -0.1)\">\r\n       <use xlink:href=\"#DejaVuSans-48\"/>\r\n       <use x=\"63.623047\" xlink:href=\"#DejaVuSans-46\"/>\r\n       <use x=\"95.410156\" xlink:href=\"#DejaVuSans-49\"/>\r\n       <use x=\"159.033203\" xlink:href=\"#DejaVuSans-54\"/>\r\n      </g>\r\n     </g>\r\n    </g>\r\n    <g id=\"ytick_3\">\r\n     <g id=\"line2d_12\">\r\n      <g>\r\n       <use style=\"stroke:#000000;stroke-width:0.8;\" x=\"50.14375\" xlink:href=\"#m4623897aed\" y=\"132.888367\"/>\r\n      </g>\r\n     </g>\r\n     <g id=\"text_13\">\r\n      <!-- 0.17 -->\r\n      <g transform=\"translate(20.878125 136.687586)scale(0.1 -0.1)\">\r\n       <use xlink:href=\"#DejaVuSans-48\"/>\r\n       <use x=\"63.623047\" xlink:href=\"#DejaVuSans-46\"/>\r\n       <use x=\"95.410156\" xlink:href=\"#DejaVuSans-49\"/>\r\n       <use x=\"159.033203\" xlink:href=\"#DejaVuSans-55\"/>\r\n      </g>\r\n     </g>\r\n    </g>\r\n    <g id=\"ytick_4\">\r\n     <g id=\"line2d_13\">\r\n      <g>\r\n       <use style=\"stroke:#000000;stroke-width:0.8;\" x=\"50.14375\" xlink:href=\"#m4623897aed\" y=\"97.107759\"/>\r\n      </g>\r\n     </g>\r\n     <g id=\"text_14\">\r\n      <!-- 0.18 -->\r\n      <g transform=\"translate(20.878125 100.906978)scale(0.1 -0.1)\">\r\n       <use xlink:href=\"#DejaVuSans-48\"/>\r\n       <use x=\"63.623047\" xlink:href=\"#DejaVuSans-46\"/>\r\n       <use x=\"95.410156\" xlink:href=\"#DejaVuSans-49\"/>\r\n       <use x=\"159.033203\" xlink:href=\"#DejaVuSans-56\"/>\r\n      </g>\r\n     </g>\r\n    </g>\r\n    <g id=\"ytick_5\">\r\n     <g id=\"line2d_14\">\r\n      <g>\r\n       <use style=\"stroke:#000000;stroke-width:0.8;\" x=\"50.14375\" xlink:href=\"#m4623897aed\" y=\"61.327152\"/>\r\n      </g>\r\n     </g>\r\n     <g id=\"text_15\">\r\n      <!-- 0.19 -->\r\n      <g transform=\"translate(20.878125 65.126371)scale(0.1 -0.1)\">\r\n       <use xlink:href=\"#DejaVuSans-48\"/>\r\n       <use x=\"63.623047\" xlink:href=\"#DejaVuSans-46\"/>\r\n       <use x=\"95.410156\" xlink:href=\"#DejaVuSans-49\"/>\r\n       <use x=\"159.033203\" xlink:href=\"#DejaVuSans-57\"/>\r\n      </g>\r\n     </g>\r\n    </g>\r\n    <g id=\"ytick_6\">\r\n     <g id=\"line2d_15\">\r\n      <g>\r\n       <use style=\"stroke:#000000;stroke-width:0.8;\" x=\"50.14375\" xlink:href=\"#m4623897aed\" y=\"25.546544\"/>\r\n      </g>\r\n     </g>\r\n     <g id=\"text_16\">\r\n      <!-- 0.20 -->\r\n      <g transform=\"translate(20.878125 29.345763)scale(0.1 -0.1)\">\r\n       <use xlink:href=\"#DejaVuSans-48\"/>\r\n       <use x=\"63.623047\" xlink:href=\"#DejaVuSans-46\"/>\r\n       <use x=\"95.410156\" xlink:href=\"#DejaVuSans-50\"/>\r\n       <use x=\"159.033203\" xlink:href=\"#DejaVuSans-48\"/>\r\n      </g>\r\n     </g>\r\n    </g>\r\n    <g id=\"text_17\">\r\n     <!-- Pourcentage d'attrition -->\r\n     <g transform=\"translate(14.798438 173.337969)rotate(-90)scale(0.1 -0.1)\">\r\n      <defs>\r\n       <path d=\"M 19.671875 64.796875 \r\nL 19.671875 37.40625 \r\nL 32.078125 37.40625 \r\nQ 38.96875 37.40625 42.71875 40.96875 \r\nQ 46.484375 44.53125 46.484375 51.125 \r\nQ 46.484375 57.671875 42.71875 61.234375 \r\nQ 38.96875 64.796875 32.078125 64.796875 \r\nz\r\nM 9.8125 72.90625 \r\nL 32.078125 72.90625 \r\nQ 44.34375 72.90625 50.609375 67.359375 \r\nQ 56.890625 61.8125 56.890625 51.125 \r\nQ 56.890625 40.328125 50.609375 34.8125 \r\nQ 44.34375 29.296875 32.078125 29.296875 \r\nL 19.671875 29.296875 \r\nL 19.671875 0 \r\nL 9.8125 0 \r\nz\r\n\" id=\"DejaVuSans-80\"/>\r\n       <path d=\"M 34.28125 27.484375 \r\nQ 23.390625 27.484375 19.1875 25 \r\nQ 14.984375 22.515625 14.984375 16.5 \r\nQ 14.984375 11.71875 18.140625 8.90625 \r\nQ 21.296875 6.109375 26.703125 6.109375 \r\nQ 34.1875 6.109375 38.703125 11.40625 \r\nQ 43.21875 16.703125 43.21875 25.484375 \r\nL 43.21875 27.484375 \r\nz\r\nM 52.203125 31.203125 \r\nL 52.203125 0 \r\nL 43.21875 0 \r\nL 43.21875 8.296875 \r\nQ 40.140625 3.328125 35.546875 0.953125 \r\nQ 30.953125 -1.421875 24.3125 -1.421875 \r\nQ 15.921875 -1.421875 10.953125 3.296875 \r\nQ 6 8.015625 6 15.921875 \r\nQ 6 25.140625 12.171875 29.828125 \r\nQ 18.359375 34.515625 30.609375 34.515625 \r\nL 43.21875 34.515625 \r\nL 43.21875 35.40625 \r\nQ 43.21875 41.609375 39.140625 45 \r\nQ 35.0625 48.390625 27.6875 48.390625 \r\nQ 23 48.390625 18.546875 47.265625 \r\nQ 14.109375 46.140625 10.015625 43.890625 \r\nL 10.015625 52.203125 \r\nQ 14.9375 54.109375 19.578125 55.046875 \r\nQ 24.21875 56 28.609375 56 \r\nQ 40.484375 56 46.34375 49.84375 \r\nQ 52.203125 43.703125 52.203125 31.203125 \r\nz\r\n\" id=\"DejaVuSans-97\"/>\r\n       <path d=\"M 45.40625 27.984375 \r\nQ 45.40625 37.75 41.375 43.109375 \r\nQ 37.359375 48.484375 30.078125 48.484375 \r\nQ 22.859375 48.484375 18.828125 43.109375 \r\nQ 14.796875 37.75 14.796875 27.984375 \r\nQ 14.796875 18.265625 18.828125 12.890625 \r\nQ 22.859375 7.515625 30.078125 7.515625 \r\nQ 37.359375 7.515625 41.375 12.890625 \r\nQ 45.40625 18.265625 45.40625 27.984375 \r\nz\r\nM 54.390625 6.78125 \r\nQ 54.390625 -7.171875 48.1875 -13.984375 \r\nQ 42 -20.796875 29.203125 -20.796875 \r\nQ 24.46875 -20.796875 20.265625 -20.09375 \r\nQ 16.0625 -19.390625 12.109375 -17.921875 \r\nL 12.109375 -9.1875 \r\nQ 16.0625 -11.328125 19.921875 -12.34375 \r\nQ 23.78125 -13.375 27.78125 -13.375 \r\nQ 36.625 -13.375 41.015625 -8.765625 \r\nQ 45.40625 -4.15625 45.40625 5.171875 \r\nL 45.40625 9.625 \r\nQ 42.625 4.78125 38.28125 2.390625 \r\nQ 33.9375 0 27.875 0 \r\nQ 17.828125 0 11.671875 7.65625 \r\nQ 5.515625 15.328125 5.515625 27.984375 \r\nQ 5.515625 40.671875 11.671875 48.328125 \r\nQ 17.828125 56 27.875 56 \r\nQ 33.9375 56 38.28125 53.609375 \r\nQ 42.625 51.21875 45.40625 46.390625 \r\nL 45.40625 54.6875 \r\nL 54.390625 54.6875 \r\nz\r\n\" id=\"DejaVuSans-103\"/>\r\n       <path d=\"M 17.921875 72.90625 \r\nL 17.921875 45.796875 \r\nL 9.625 45.796875 \r\nL 9.625 72.90625 \r\nz\r\n\" id=\"DejaVuSans-39\"/>\r\n      </defs>\r\n      <use xlink:href=\"#DejaVuSans-80\"/>\r\n      <use x=\"56.677734\" xlink:href=\"#DejaVuSans-111\"/>\r\n      <use x=\"117.859375\" xlink:href=\"#DejaVuSans-117\"/>\r\n      <use x=\"181.238281\" xlink:href=\"#DejaVuSans-114\"/>\r\n      <use x=\"220.101562\" xlink:href=\"#DejaVuSans-99\"/>\r\n      <use x=\"275.082031\" xlink:href=\"#DejaVuSans-101\"/>\r\n      <use x=\"336.605469\" xlink:href=\"#DejaVuSans-110\"/>\r\n      <use x=\"399.984375\" xlink:href=\"#DejaVuSans-116\"/>\r\n      <use x=\"439.193359\" xlink:href=\"#DejaVuSans-97\"/>\r\n      <use x=\"500.472656\" xlink:href=\"#DejaVuSans-103\"/>\r\n      <use x=\"563.949219\" xlink:href=\"#DejaVuSans-101\"/>\r\n      <use x=\"625.472656\" xlink:href=\"#DejaVuSans-32\"/>\r\n      <use x=\"657.259766\" xlink:href=\"#DejaVuSans-100\"/>\r\n      <use x=\"720.736328\" xlink:href=\"#DejaVuSans-39\"/>\r\n      <use x=\"748.226562\" xlink:href=\"#DejaVuSans-97\"/>\r\n      <use x=\"809.505859\" xlink:href=\"#DejaVuSans-116\"/>\r\n      <use x=\"848.714844\" xlink:href=\"#DejaVuSans-116\"/>\r\n      <use x=\"887.923828\" xlink:href=\"#DejaVuSans-114\"/>\r\n      <use x=\"929.037109\" xlink:href=\"#DejaVuSans-105\"/>\r\n      <use x=\"956.820312\" xlink:href=\"#DejaVuSans-116\"/>\r\n      <use x=\"996.029297\" xlink:href=\"#DejaVuSans-105\"/>\r\n      <use x=\"1023.8125\" xlink:href=\"#DejaVuSans-111\"/>\r\n      <use x=\"1084.994141\" xlink:href=\"#DejaVuSans-110\"/>\r\n     </g>\r\n    </g>\r\n   </g>\r\n   <g id=\"line2d_16\">\r\n    <path clip-path=\"url(#p18328b430a)\" d=\"M 65.361932 17.083636 \r\nL 103.407386 43.843446 \r\nL 141.452841 126.959603 \r\nL 179.498295 170.787065 \r\nL 217.54375 190.738725 \r\nL 255.589205 203.362169 \r\nL 293.634659 214.756364 \r\nL 331.680114 202.227478 \r\nL 369.725568 184.876152 \r\n\" style=\"fill:none;stroke:#000000;stroke-linecap:square;stroke-width:1.5;\"/>\r\n   </g>\r\n   <g id=\"patch_3\">\r\n    <path d=\"M 50.14375 224.64 \r\nL 50.14375 7.2 \r\n\" style=\"fill:none;stroke:#000000;stroke-linecap:square;stroke-linejoin:miter;stroke-width:0.8;\"/>\r\n   </g>\r\n   <g id=\"patch_4\">\r\n    <path d=\"M 384.94375 224.64 \r\nL 384.94375 7.2 \r\n\" style=\"fill:none;stroke:#000000;stroke-linecap:square;stroke-linejoin:miter;stroke-width:0.8;\"/>\r\n   </g>\r\n   <g id=\"patch_5\">\r\n    <path d=\"M 50.14375 224.64 \r\nL 384.94375 224.64 \r\n\" style=\"fill:none;stroke:#000000;stroke-linecap:square;stroke-linejoin:miter;stroke-width:0.8;\"/>\r\n   </g>\r\n   <g id=\"patch_6\">\r\n    <path d=\"M 50.14375 7.2 \r\nL 384.94375 7.2 \r\n\" style=\"fill:none;stroke:#000000;stroke-linecap:square;stroke-linejoin:miter;stroke-width:0.8;\"/>\r\n   </g>\r\n  </g>\r\n </g>\r\n <defs>\r\n  <clipPath id=\"p18328b430a\">\r\n   <rect height=\"217.44\" width=\"334.8\" x=\"50.14375\" y=\"7.2\"/>\r\n  </clipPath>\r\n </defs>\r\n</svg>\r\n",
      "image/png": "iVBORw0KGgoAAAANSUhEUgAAAYgAAAEHCAYAAAC0pdErAAAAOXRFWHRTb2Z0d2FyZQBNYXRwbG90bGliIHZlcnNpb24zLjMuMiwgaHR0cHM6Ly9tYXRwbG90bGliLm9yZy8vihELAAAACXBIWXMAAAsTAAALEwEAmpwYAAAyA0lEQVR4nO3dd3gU5drH8e9NQkdQIIgiJSCIQRA1AgKCWFDQSAsqioqC2CI9Husreo7v8QhiAxRUlNdywERAEkBAUUQISujSQxOsKEpvCff7xwwxxk2YhGxmk9yf69oru1N/u4TcO8/MPI+oKsYYY0x2pfwOYIwxJjRZgTDGGBOQFQhjjDEBWYEwxhgTkBUIY4wxAVmBMMYYE1C43wEKUvXq1bVevXp+xzDGmCJj6dKlv6pqRKB5xapA1KtXj9TUVL9jGGNMkSEi23OaZ01MxhhjArICYYwxJiArEMYYYwKyAmGMMSYgKxDGGGMCsgJhjDEmICsQwI8//oh1e26MMX9V4gvEH3/8waWXXkpsbCy//fab33GMMSZklPgCUblyZQYNGkRSUhJNmzZlzpw5fkcyxpiQUOILRKlSpRg2bBjffPMNZ5xxBtdeey0DBw7k0KFDfkczxhhflfgCcULz5s1JTU1l4MCBvPLKK0RHR7NixQq/YxljjG+sQGRRvnx5XnrpJWbPns3vv/9OixYtGDFiBMePH/c7mjHGFDorEAF07NiR1atXExMTw8MPP8xVV13Fjh07/I5ljDGFKqgFQkSuE5ENIpImIo8EmH+biKxyH4tE5EKv6wZbtWrVSExMZMKECaSmptK0aVMmTZpU2DGMMcY3QSsQIhIGjAE6AVFALxGJyrbYVqC9qjYD/gmMz8O6QSci3HXXXaxYsYKoqCh69epF7969+eOPPwo7ijHGFLpgHkG0ANJUdYuqHgUmAV2yLqCqi1T1d/flYuAcr+sWpgYNGvDll1/yzDPPMGnSJC688ELmz5/vVxxjjCkUwSwQtYCsDfc73Wk56QvMyuu6ItJfRFJFJHXXrl2nEDd34eHhPPnkkyxatIgyZcrQoUMHHnnkEY4ePRq0fRpjjJ+CWSAkwLSA/VmISAecAvGPvK6rquNVNVpVoyMiAo6aV6BatGjB8uXLueeee/jPf/5Dy5YtWbt2bdD3a4wxhS2YBWInUDvL63OAH7IvJCLNgDeBLqr6W17W9UulSpUYN24cH3/8MTt37uSSSy5h9OjR1p+TMaZYCWaBWAI0FJFIESkD3AJMz7qAiNQBpgC3q+rGvKwbCm688UZWr17NlVdeyUMPPUTnzp358ccf/Y5ljDEFImgFQlXTgThgNrAO+FBV14jIfSJyn7vY/wDVgLEiskJEUnNbN1hZT0XNmjVJTk5m7NixzJ8/n6ZNmzJ16lS/YxljzCmT4tQsEh0drampqb7tf/369dx2220sW7aMvn378tJLL1GpUiXf8hhjzMmIyFJVjQ40z+6kLkCNGzcmJSWFxx57jAkTJtC8eXMWL17sdyxjjMkXKxAFrEyZMjz77LPMnz+f9PR02rZty/Dhw0lPT/c7mjHG5IkViCC5/PLLWblyJbfddhtPP/00bdu2JS0tze9YxhjjmRWIIKpSpQoTJ05k8uTJbNy4kebNm/Pmm2/a5bDGmCLBCkQhuOmmm1i1ahWtWrXinnvuoXv37vz6669+xzLGmFxZgSgk55xzDnPmzGHUqFHMnDmTpk2b8sknn/gdyxhjcmQFohCVKlWKwYMHs2TJEqpXr06nTp146KGHbHhTY0xIsgLhg2bNmrFkyRIGDx7M6NGjueSSS1i+fLnfsYwx5i+sQPikXLlyjBo1irlz57Jnzx5atmzJf/7zHzIyMvyOZowxgBUI31199dWsXr2aLl268Mgjj3DllVeyfft2v2MZY4wViFBQtWpVPvzwQyZOnMjy5ctp1qwZ77//vt+xjDElnBWIECEi3HHHHaxcuZKmTZvSu3dvevXqZcObGmN8YwUixERGRjJ//nyeffZZEhMTue+++06+kjHGBIEViBAUFhbGY489xtChQ0lISGDLli1+RzLGlEBWIELYgAEDCAsL48UXX/Q7ijGmBLICEcLOPvtsevfuzVtvvWVdcxhjCp0ViBA3bNgwDh06xNixY/2OYowpYaxAhLioqCiuv/56Ro8ebV1yGGMKlRWIIuDhhx9m165dTJw40e8oxpgSxApEEXD55ZfTokULXnjhBeuKwxhTaKxAFAEiQnx8PGlpaXz88cd+xzHGlBBWIIqIbt260aBBA55//nkbkc4YUyisQBQRYWFhDBkyhK+//pqvvvrK7zjGmBLACkQR0qdPH6pXr86IESP8jmKMKQGsQBQhFSpUIC4ujqSkJNatW+d3HGNMMWcFooh58MEHKV++PC+88ILfUYwxxVxQC4SIXCciG0QkTUQeCTC/sYikiMgRERmWbd5AEflWRNaIyKBg5ixKqlevzl133cW7777Ljz/+6HccY0wxFrQCISJhwBigExAF9BKRqGyL7QYGACOzrXsBcA/QArgQuEFEGgYra1EzZMgQ0tPTeeWVV/yOYowpxoJ5BNECSFPVLap6FJgEdMm6gKr+oqpLgGPZ1j0fWKyqB1U1HZgPdAti1iKlQYMGdO/enddee419+/b5HccYU0ydtECISBsRmSsiG0Vki4hsFREvAxTUAnZkeb3TnebFt0A7EakmIhWAzkBtj+uWCA8//DB79uzhzTff9DuKMaaY8nIE8RYwCmgLXApEuz9PRgJM83SHl6quA/4DzAU+AVYC6QF3ItJfRFJFJHXXrl1eNl8sXHrppbRv354XX3yRY8eyH4AZY8yp81Ig9qjqLLc56LcTDw/r7eSv3/rPAX7wGkxV31LVi1W1Hc65ik05LDdeVaNVNToiIsLr5ouF+Ph4duzYwYcffuh3FGNMMeSlQHwuIiNE5DIRufjEw8N6S4CGIhIpImWAW4DpXoOJSA33Zx2gO/Bfr+uWFJ06dSIqKsq63zDGBEW4h2Vauj+js0xT4MrcVlLVdBGJA2YDYcAEVV0jIve5818XkZpAKlAZOO5ezhqlqnuBj0SkGs4J7AdV9fc8vK8SoVSpUgwbNoy7776buXPn0rFjR78jGWOKESlO3zyjo6M1NTXV7xiF6siRI0RGRtKkSRPmzp3rdxxjTBEjIktVNTrQPC9XMVURkVEnTgSLyAsiUqXgY5r8KFu2LIMGDeLTTz9l+fLlfscxxhQjXs5BTAD2ATe5j73A28EMZfLm3nvv5bTTTmPkyJEnX9gYYzzyUiAaqOpT7g1vW1T1aaB+sIMZ76pUqUL//v2ZPHky27dv9zuOMaaY8FIgDolI2xMvRKQNcCh4kUx+DBw4EBHhxRdf9DuKMaaY8FIg7gfGiMg2EdkOjAbuC24sk1e1a9emV69evPnmm/z+u13wZYw5dSctEKq6QlUvBJoBTVX1IlVdGfxoJq+GDRvGgQMHeO211/yOYowpBnK8zFVEeqvqeyIyJNB8VR0V1GT5UBIvc82uU6dOLF++nG3btlGuXDm/4xhjQlx+L3Ot6P48LcCjUoEmNAUmPj6en3/+mffee8/vKMaYIu6kN8qJSBtVXXiyaaHAjiBAVYmOjubAgQOsXbuWUqVs0EBjTM5O6UY54FWP00wIEBHi4+PZsGEDSUlJfscxxhRhuZ2DuAxoDQwCsl47WRno5p64Dil2BOFIT0+nYcOG1KpVi6+++srvOMaYEJbfI4gyOOcawvnr+Ye9QGxBhzQFJzw8nCFDhrBw4UJSUlL8jmOMKaK8nIOoq6pF4vZcO4L404EDB6hTpw7t27dnypQpfscxxoSofB1BiMhL7tPRIjI9+yMYQU3BqVixIg888ADTpk1j48aNfscxxhRBuZ2DuERVl4pI+0DzVXV+UJPlgx1B/NXPP/9M3bp1ufPOOxk3bpzfcYwxIShfRxBucQgD7lHV+dkfQUtrCsyZZ57JnXfeycSJE/n555/9jmOMKWJyvcxVVTOACHfIUFMEDR06lKNHjzJ69Gi/oxhjihgv90FsAxaKyJMiMuTEI8i5TAFp1KgRXbt2ZezYsRw4cMDvOMaYIsRLgfgBSHaXta42iqD4+Hh2797NhAkT/I5ijClCvFzm2lNVE042LRTYSeqctW3blu+//55NmzYRHh7udxxjTIg41a42HvU4zYSw+Ph4tm3bRmJiot9RjDFFRG6XuXYCOuOMQz05y6zKQJSqtgh+vLyxI4icHT9+nKioKCpWrEhqaioi4nckY0wIyO8RxA9AKnAYWJrlMR24tqBDmuAqVaoUw4YNY9myZXz++ed+xzHGFAFezkE8rKrPZ5s2UFVfDmqyfLAjiNwdPnyYevXqcdFFFzFr1iy/4xhjQsCpnoO4JcC0PqeUyPiiXLlyDBgwgE8++YRVq1b5HccYE+Jy64upl4gkAZHZ+mH6HPit8CKagnT//fdTsWJFRo4c6XcUY0yIy+16x0XAj0B14IUs0/cB9vWziDrjjDPo168fY8aM4dlnn6V27dp+RzLGhKjc+mLarqpfqOpl2fphWqaq6V42LiLXicgGEUkTkUcCzG8sIikickREhmWbN1hE1ojItyLyXxEpl/e3ZwIZPHgwqsrLL4fcaSRjTAg56TkIEWklIktEZL+IHBWRDBHZ62G9MGAM0AmIAnqJSFS2xXYDA4CR2dat5U6PVtULgDACnwsx+VC3bl1uvvlmxo8fz549e/yOY4wJUV5OUo8GegGbgPJAP7yNSd0CSFPVLap6FJgEdMm6gKr+oqpLgGMB1g8HyotIOFAB57JbU0Di4+PZt2+fdQNujMmRlwKBqqYBYaqaoapvAx08rFYL2JHl9U53mpf9fY9zVPEdznmQPao6x8u6xpvmzZtz9dVX8/LLL3PkyBG/4xhjQpCXAnHQ7e57hYg8LyKDgYoe1gt0q27uN12cWFHkDJyjjUjgbKCiiPTOYdn+IpIqIqm7du3ysnnjio+P54cffuCDDz7wO4oxJgR5KRC3u8vFAQeA2kAPD+vtdJc94Ry8NxNdDWxV1V2qegyYArQOtKCqjlfVaFWNjoiI8Lh5A3DNNddw4YUXMnLkSI4fP+53HGNMiDlpgXCvZjqsqntV9WlVHeI2OZ3MEqChiES6RyC34HTT4cV3QCsRqSBOp0FXAes8rms8EhGGDRvG2rVr7c5qY8zf5Haj3OciMk9E8tX9p3spbBwwG+eP+4equkZE7hOR+9x91BSRncAQ4AkR2SkilVX1ayARWAasdnOOz08Ok7ubb76Z2rVrM2LECL+jGGNCTG69udZ1n2ao6s7Ci5R/1hdT/rz44osMGTKEr7/+mhYtQq6TXmNMEOWrLya3aWl7USkOJv/69etHlSpV7CjCGPMXuTUx7RORvTk9CjOkCa7TTjuN+++/nylTprB582a/4xhjQkRuRxCnqWpl4CXgEZx7GM4B/gH8q1DSmUIzYMAAwsPDGTVqlN9RjDEhwstlrteq6lhV3edeyfQa3i5zNUXIWWedxe23387bb7/Nr7/+6nccY0wI8FIgMkTkNhEJE5FSInIbkBHsYKbwDR06lEOHDjFmzBi/oxhjQoCXAnErzrjUP7uPnu40U8ycf/75xMTEMHr0aA4ePOh3HGOMz7zcKLdNVbuoanVVjVDVrqq6rRCyGR/Ex8fz66+/8s477/gdxRjjM0+d9ZmSo23btrRs2ZJRo0aRkWEticaUZFYgzF+ICPHx8WzevJmpU6f6HccY4yMrEOZvunbtyrnnnsuIESPI6U57Y0zx52VEuTNF5C0RmeW+jhKRvsGPZvwSFhbG0KFD+eabb1iwYIHfcYwxPvFyBPEOTod7Z7uvNwKDgpTHhIg777yTiIgI637DmBLMS4GorqofAschs5dWO3tZzJUvX564uDiSk5NZu3at33GMMT7wUiAOiEg13NHgRKQVYCPdlwAPPPAA5cuXZ+TIkX5HMcb4wEuBGIIz0E8DEVkI/B/wUFBTmZBQvXp1+vbty3vvvccPP3gdDNAYU1x4uVFuGdAeZ8jPe4Emqroq2MFMaBgyZAgZGRm88sorfkcxxhQyL1cxdQduBM4DGgExInKViNQIdjjjv8jISGJjY3n99dfZu9d6eTemJPHSxNQXeBO4zX28gdPstFBEbg9iNhMi4uPj2bNnD2+88YbfUYwxhchLgTgOnK+qPVS1BxAFHAFa4owNYYq56OhorrjiCl566SWOHTvmdxxjTCHxUiDqqerPWV7/AjRS1d2A/bUoIeLj49m5cyeTJk3yO4oxppB4KRALRCRZRO4UkTuBj4EvRaQi8EdQ05mQ0alTJy644ALrfsOYEsRLgXgQ527q5sBFOJe5PqiqB1S1Q/CimVAiIgwbNozVq1czZ84cv+MYYwqBFKdvg9HR0Zqamup3jGLr6NGj1K9fn8aNG/Ppp5/6HccYUwBEZKmqRgea5+Uy11YiskRE9ovIURHJEBG73rEEKlOmDAMHDuSzzz5j2bJlfscxxgSZlyam0UAvYBNQHugHvBrMUCZ09e/fn8qVKzNo0CCOHDnidxxjTBB5Gg9CVdOAMFXNUNW3ATv3UEJVqVKF1157jQULFtCvXz87YW1MMRbuYZmDIlIGWCEizwM/AhWDG8uEsltvvZWtW7fyxBNPUL9+fZ5++mm/IxljgsDLEcTt7nJxwAGgNtDdy8ZF5DoR2SAiaSLySID5jUUkRUSOiMiwLNPPE5EVWR57RWSQp3dkCsVjjz1G3759eeaZZ3j77bf9jmOMCQIvBaKrqh5W1b2q+rSqDgFuONlKIhIGjAE64dx93UtEorItthsYAPylP2lV3aCqzVW1OXAJcBCwAZJDiIjw2muvcc0119C/f3+7qsmYYshLgbgzwLQ+HtZrAaSp6hZVPQpMArpkXUBVf1HVJeR+R/ZVwGZV3e5hn6YQlS5dmoSEBM4//3x69OjBt99+63ckY0wByrFAiEgvEUkCIkVkepbH58BvHrZdC9iR5fVOd1pe3QL8Nx/rmUJQpUoVZsyYQaVKlejcubONG2FMMZLbSepFOCekqwMvZJm+D/AyHoQEmJanS17ck+M3Ao/mskx/oD9AnTp18rJ5U0Bq167NjBkzuPzyy4mJiWH+/PlUqlTJ71jGmFOU4xGEqm5X1S9U9TJVnZ/lscwdl/pkduKc0D7hHCCvXy87AcuydRaYPed4VY1W1eiIiIg8bt4UlObNm/Phhx+ycuVKbrnlFtLTvfyKGGNCmacBg0Rkk4jsca8m2ufxTuolQEMRiXSPBG7BGbo0L3phzUtFRqdOnRgzZgwzZsxgwIABdo+EMUWcl/sgngdiVHVdXjasqukiEgfMBsKACaq6RkTuc+e/LiI1gVSgMnDcvZQ1SlX3ikgF4BqcYU5NEXHvvfeyZcsWnn/+eRo0aMDQoUP9jmSMyScvBeLnvBaHE1R1JjAz27TXszz/CafpKdC6B4Fq+dmv8de///1vtm3bxrBhw6hbty6xsbF+RzLG5IOXApEqIpOBaTgjyQGgqlOCFcoUbaVKlWLixIns3LmT3r17c/bZZ9O6dWu/Yxlj8sjLfRCVcW5U6wjEuI+T3ihnSrZy5crx8ccfU7t2bbp06UJaWprfkYwxeWTjQZig2rRpE5dddhlVq1YlJSWFatWs1dCYUHKq40E0EpHPRORb93UzEXmioEOa4qlhw4ZMnz6d7777ji5dunD48GG/IxljPPLSxPQGzo1qxwBUdRXOJavGeNK6dWveffddFi5cSJ8+fTh+/LjfkYwxHngpEBVU9Zts0+wuKJMnPXv25Pnnn2fy5Mk8/vjjfscxxnjg5SqmX0WkAW43GSISi9MFhzF5MmzYMLZs2cJzzz1HZGQk/fv39zuSMSYXXgrEg8B4oLGIfA9sBXoHNZUplkSEV199le+++44HHniA2rVr06lTJ79jGWNycNImJre77quBCKCxqrZV1W1BT2aKpfDwcCZPnkyzZs246aabWLFihd+RjDE58HIV0/+KyOmqekBV94nIGSLyr8IIZ4qnSpUqkZyczOmnn87111/Pzp07/Y5kjAnAy0nqTqr6x4kXqvo70DloiUyJcPbZZzNz5kz27dvH9ddfz969Xvp/NMYUJi8FIkxEyp54ISLlgbK5LG+MJ02bNuWjjz5i7dq13HTTTRw7ltvAgsaYwualQLwHfCYifUXkbmAuMDG4sUxJcc011zBu3Dhmz57NAw88YF2EGxNCcr2KSUQEZzyGVcDVOKPE/VNVZxdCNlNC3H333WzdupV//etf1K9fn0cfzXEAQWNMIcq1QKiqisg0Vb0E+KSQMpkS6JlnnmHLli089thj1KtXj169evkdyZgSz0sT02IRuTToSUyJJiJMmDCBdu3a0adPHxYsWOB3JGNKPC8FogOQIiKbRWSViKwWkVXBDmZKnrJlyzJ16lQiIyPp0qULGzZs8DuSMSWalzup7VZXU2iqVq3KrFmzaNWqFZ07dyYlJYUaNWr4HcuYEsnLEYTm8DAmKCIjI0lKSuLHH3/kxhtv5NChQ35HMqZE8lIgZgDJ7s/PgC3ArGCGMqZFixa8//77fPPNN/Tu3du6CDfGB176Ymqqqs3cnw2BFsBXwY9mSrpu3boxatQopkyZQnx8vN9xjClxvJyD+AtVXWZXNZnCMmjQILZu3cqoUaOIjIwkLi7O70jGlBgnLRAiMiTLy1LAxcCuoCUyJptRo0axbds2Bg4cSN26dYmJifE7kjElgpdzEKdleZTFORfRJZihjMkqLCyMDz74gIsvvphbbrmFpUuX+h3JmBJBvPZ9IyKn4dxcvT+4kfIvOjpaU1NT/Y5hguSnn36iVatWHDlyhMWLF1O3bl2/IxlT5InIUlWNDjTPy3gQF4jIcuBbYI2ILBWRCwo6pDEnU7NmTWbNmsXhw4fp3Lkzf/zxh9+RjCnWvDQxjQeGqGpdVa0LDHWnGVPozj//fKZMmcKmTZvo0aMHR48e9TuSMcWWlwJRUVU/P/FCVb8AKnrZuIhcJyIbRCRNRB4JML+xiKSIyBERGZZt3ukikigi60VknYhc5mWfpvjr0KEDb731FvPmzaN///7WRbgxQeLlMtctIvIk8K77ujew9WQriUgYMAa4BtgJLBGR6aq6Nstiu4EBQNcAm3gZ+ERVY0WkDFDBQ1ZTQtx+++1s3bqVp556isjISJ566im/IxlT7Hg5grgbiACmuI/qwF0e1msBpKnqFlU9Ckwi29VPqvqLqi4B/jKUmIhUBtoBb7nLHc067KkxAE8++SR9+vRh+PDhTJxoY1gZU9ByPIIQkXLAfcC5wGpgqKrmZUzIWsCOLK93Ai09rlsf516Lt0XkQmApMFBVDwTI2R/oD1CnTp08xDNFnYgwbtw4duzYQb9+/ahduzZXXnml37GMKTZyO4KYCETjFIdOwIg8blsCTPPaWByOc0Pea6p6EXAA+Ns5DABVHa+q0aoaHRERkceIpqgrU6YMiYmJnHfeeXTv3p1Vq6wnemMKSm4FIkpVe6vqOCAWp8knL3YCtbO8Pgf4IQ/r7lTVr93XiTgFw5i/Of3005kxYwbly5cnOjqauLg4fvzxR79jGVPk5VYgMpuTVDU9H9teAjQUkUj3JPMtwHQvK6rqT8AOETnPnXQVsDaXVUwJV7duXZYuXUrfvn0ZN24cDRo04NFHH2X37t1+RzOmyMrxTmoRycBp2gGnuag8cNB9rqpa+aQbF+kMvASEARNU9VkRuQ9nA6+LSE0gFagMHAf24xy57BWR5sCbQBmcLsbvUtXfc9uf3UltANLS0hg+fDgffPABlStXJj4+noEDB1KpUiW/oxkTcnK7k9pzVxtFgRUIk9Xq1at58skn+fjjj6lRowaPP/449957L2XLlvU7mjEh45S62jCmqGratCnTpk0jJSWFJk2aMHDgQBo1asSECRNIT89Pq6kxJYsVCFPstWrVinnz5vHpp59Ss2ZN+vbtS5MmTfjwww9tpDpjcmEFwpQYV111FYsXL2batGmULl2am2++mejoaGbNmmXddRgTgBUIU6KICF26dGHlypW8++67/PHHH3Tu3Jl27dqxYMECv+MZE1KsQJgSKSwsjN69e7N+/XrGjh3L5s2badeuHZ07d2b58uV+xzMmJFiBMCVamTJluP/++0lLS+P555/n66+/5uKLL+amm25iw4YNfsczxldWIIwBKlSoQHx8PFu2bOHJJ59k5syZREVF0bdvX7777ju/4xnjCysQxmRRpUoVnnnmGbZs2cLAgQN5//33adiwIYMGDeKXX37xO54xhcoKhDEB1KhRg1GjRrFp0ybuuOMORo8eTf369XniiSdsqFNTYliBMCYXtWvX5o033mDt2rXccMMNPPvss0RGRvLcc89x4MDfep83ptDt3buXRYsWBWXbViCM8aBRo0ZMmjSJ5cuX06ZNGx599FHOPfdcxowZY+NiG198//33/OMf/6B27drExMRw+PDhAt+HFQhj8qB58+YkJyfz1Vdf0ahRI+Li4jjvvPOYOHEiGRkZfsczJcC3335Lnz59iIyMZOTIkVx33XXMnj2bcuXKFfi+rEAYkw9t2rThiy++YPbs2VSrVo0+ffrQtGlTpkyZYndlmwKnqsybN49OnTrRtGlTEhISuO+++0hLS2Py5MlERwfsa++UWYEwJp9EhI4dO7JkyRISExNRVXr06EGLFi2YO3euFQpzytLT05k0aRLR0dFcddVVLFu2jH/+85989913vPLKK0RGRgZ1/1YgjDlFIkKPHj1YvXo1b7/9Nrt27aJjx45ceeWVpKSk+B3PFEH79+/n5Zdf5txzz6VXr17s37+f8ePHs337dp544gmqVatWKDmsQBhTQMLDw+nTpw8bNmzg1VdfZd26dbRu3ZqYmBgWLVpkRxTmpH766Scef/xx6tSpw6BBg6hduzbTpk1j3bp13HPPPUE5z5AbKxDGFLCyZcsSFxfH5s2b+d///V+++uor2rRpQ926dRkyZAgpKSnWzbj5i3Xr1tGvXz/q1q3Lv//9bzp06EBKSgoLFiygS5culCrlz59qG1HOmCDbu3cvH3/8MQkJCcyePZujR49yzjnn0KNHD3r27Mlll13m2x8A4x9VZcGCBYwcOZKkpCTKlSvHXXfdxeDBg2nYsGGh5bAhR40JEXv27CEpKSmzWBw5coRatWplFovWrVtbsSjmMjIymDp1KiNGjOCbb76hWrVqxMXF8eCDDxIREVHoeaxAGBOC9u7dm1ksPvnkE44cOcLZZ5+dWSzatGljxaIYOXjwIO+88w6jRo1i8+bNNGjQgKFDh3LnnXdSoUIF33JZgTAmxO3du5cZM2aQkJDArFmzOHz4MGedddZfikVYWJjfMU0+7Nq1i9GjRzNmzBh+++03WrZsSXx8PF27dg2Jf1MrEMYUIfv27cssFjNnzuTw4cPUrFkzs1i0bds2JP6wmNxt2rSJUaNG8c4773D48GFuvPFG4uPjadOmDSLid7xMViCMKaL279//l2Jx6NAhatasSffu3enZsyeXX365FYsQk5KSwogRIzLHPr/jjjsYOnQojRs39jtaQFYgjCkG9u/fz8yZM0lISGDGjBkcOnSIM888M7NYtGvXzoqFT44fP8706dMZMWIEixYt4owzzuCBBx4gLi6OmjVr+h0vV1YgjClmDhw48JdicfDgQWrUqEH37t2JjY2lffv2hIeH+x2z2Dt06BDvvvsuL7zwAhs3bqRevXoMHjyYu+++m0qVKvkdzxMrEMYUYwcOHGDWrFkkJCSQnJzMwYMHiYiIoFu3bvTs2ZMrrrjCikUB++233xg7diyvvvoqu3bt4pJLLiE+Pp4ePXoUuc86twKBqgbtAVwHbADSgEcCzG8MpABHgGHZ5m0DVgMrgFQv+7vkkkvUmJLswIEDmpiYqDfffLNWrFhRAa1evbrec889OmfOHD127JjfEYu0zZs3a1xcnFaoUEEB7dSpk86bN0+PHz/ud7R8y+3va9COIEQkDNgIXAPsBJYAvVR1bZZlagB1ga7A76o6Msu8bUC0qv7qdZ92BGHMnw4dOsSsWbNITEwkKSmJ/fv3U61atcwjiw4dOlC6dGm/Y4a83bt3M3369Mz7VcLCwrjtttsYOnQoF1xwgd/xTpkvTUwichkwXFWvdV8/CqCq/w6w7HBgvxUIY4Lj0KFDzJ49m4SEBKZPn87+/fupWrUqN954IzExMXTs2LHItJkXhl9//TWze5TPPvuM9PR06tSpw6233kpcXBy1atXyO2KBya1ABLOxrBawI8vrnUDLPKyvwBwRUWCcqo4vyHDGlCTly5ena9eudO3alcOHD2cWi2nTpvHOO+9QpkwZOnTowA033EBMTAx169b1O3Kh++WXX5g2bRoJCQl8/vnnZGRkEBkZyZAhQ4iNjSU6Ojqk7l8oDME8gugJXKuq/dzXtwMtVPWhAMsO5+9HEGer6g9uM9Rc4CFV/TLAuv2B/gB16tS5ZPv27UF5P8YUR8eOHWPhwoUkJSWRnJzMxo0bAWjatGlmsWjRokWxvXz2p59+YurUqSQkJDB//nyOHz/OueeeS8+ePYmNjeWiiy4q9kWhSDYx5WX+CdbEZMyp2bhxY2axWLBgARkZGURERNC5c+fMpqjTTjvN75in5IcffuCjjz4iMTGRBQsWoKqcd955mUWhWbNmxb4oZOVXgQjHOUl9FfA9zknqW1V1TYBlh5OlAIhIRaCUqu5zn88FnlHVT3LbpxUIYwrO77//zuzZs0lKSmLWrFn8/vvvlC5dmiuuuIKYmBhuuOGGoA95WVB27NiRWRQWLlwIQFRUVGZRaNKkSYkqCln5dh+EiHQGXgLCgAmq+qyI3Aegqq+LSE0gFagMHAf2A1FAdWCqu5lw4ANVffZk+7MCYUxwpKens3DhQpKTk0lKSmLDhg0ANGnSJLNYtGrVKqSaorZt25ZZFBYvXgxAs2bNiI2NpUePHkRFRfmcMDTYjXLGmAK1adOmzGKxYMEC0tPTqV69Op07d+aGG27g2muvpXLlyoWea8uWLSQmJpKYmMiSJUsAuOiii4iNjSU2NpZGjRoVeqZQZwXCGBM0f/zxR2ZT1MyZMzObotq3b595ort+/fpB2/+mTZsyi8KyZcsAiI6OziwKDRo0CNq+iwMrEMaYQpGenk5KSgpJSUkkJSWxfv16wGnvP1EsLrvsslNuilq/fn1mUVi5ciUALVu2zCwK9erVO9W3UmJYgTDG+CItLS2zKerLL78kPT2dqlWrZl4Vde2111KlShVP21qzZg2JiYkkJCSwZo1zrUvr1q3p2bMn3bt3p06dOsF8K8WWFQhjjO/27Nnzl6ao3bt3Ex4eTrt27TJPdJ977rmZy6sqq1evzjxSWLduHSJC27ZtM4tCcbqj2S9WIIwxISUjIyOzKSo5OZm1a50u2ho3bkxMTAylS5cmISGBTZs2UapUKdq3b09sbCzdunXjrLPO8jl98WIFwhgT0jZv3kxycjLJycmZdzR36NCB2NhYunbtyplnnul3xGLLCoQxpsjYu3cvGRkZnHHGGX5HKRH86qzPGGPyzI/7J0xgpfwOYIwxJjRZgTDGGBOQFQhjjDEBWYEwxhgTkBUIY4wxAVmBMMYYE5AVCGOMMQEVqxvlRGQXkN9BqasDvxZgnIJiufLGcuWN5cqb4pirrqpGBJpRrArEqRCR1JzuJvST5coby5U3litvSloua2IyxhgTkBUIY4wxAVmB+NN4vwPkwHLljeXKG8uVNyUql52DMMYYE5AdQRhjjAnICoQxxpiASlSBEJHrRGSDiKSJyCMB5jcWkRQROSIiw0Io120issp9LBKRC0MoWxc31woRSRWRtqGQK8tyl4pIhojEhkIuEblCRPa4n9cKEfmfUMiVJdsKEVkjIvNDIZeIxGf5rL51/y2rhkCuKiKSJCIr3c/rrmBn8pjrDBGZ6v6f/EZELjilHapqiXgAYcBmoD5QBlgJRGVbpgZwKfAsMCyEcrUGznCfdwK+DqFslfjzXFYzYH0o5Mqy3DxgJhAbCrmAK4Dkwvj3y2Ou04G1QB33dY1QyJVt+RhgXijkAh4D/uM+jwB2A2VCINcI4Cn3eWPgs1PZZ0k6gmgBpKnqFlU9CkwCumRdQFV/UdUlwLEQy7VIVX93Xy4GzgmhbPvV/W0EKgKFcdXDSXO5HgI+An4phEx5yVXYvOS6FZiiqt+B838hRHJl1Qv4b4jkUuA0ERGcL0m7gfQQyBUFfAagquuBeiKS7wG9S1KBqAXsyPJ6pzvNb3nN1ReYFdREf/KUTUS6ich6YAZwdyjkEpFaQDfg9ULI4zmX6zK3aWKWiDQJkVyNgDNE5AsRWSoid4RILgBEpAJwHU7BD4Vco4HzgR+A1cBAVT0eArlWAt0BRKQFUJdT+EJZkgqEBJgWCtf4es4lIh1wCsQ/gpooyy4DTPtbNlWdqqqNga7AP4MdCm+5XgL+oaoZwY+TyUuuZTh931wIvApMC3YovOUKBy4BrgeuBZ4UkUYhkOuEGGChqu4OYp4TvOS6FlgBnA00B0aLSLAH0/aS6zmcQr8C5wh6OadwZBOe3xWLoJ1A7Syvz8Gp/n7zlEtEmgFvAp1U9bdQynaCqn4pIg1EpLqqBrNDMy+5ooFJTgsA1YHOIpKuqtP8zKWqe7M8nykiY0Pk89oJ/KqqB4ADIvIlcCGw0edcJ9xC4TQvgbdcdwHPuc2raSKyFafN/xs/c7m/X3cBuM1fW91H/gT7hE+oPHCK4RYgkj9P8DTJYdnhFN5J6pPmAuoAaUDrUPvMgHP58yT1xcD3J16Hwr+lu/w7FM5Jai+fV80sn1cL4LtQ+Lxwmks+c5etAHwLXOB3Lne5Kjht/BWD/W+Yh8/rNWC4+/xM9/e+egjkOh33ZDlwD/B/p7LPEnMEoarpIhIHzMa5GmCCqq4Rkfvc+a+LSE0gFagMHBeRQThXCezNabuFkQv4H6AaMNb9RpyuhdCjpMdsPYA7ROQYcAi4Wd3fTp9zFTqPuWKB+0UkHefzuiUUPi9VXScinwCrgOPAm6r6rd+53EW7AXPUOboJOo+5/gm8IyKrcZp+/qHBPQr0mut84P9EJAPnqrS+p7JP62rDGGNMQCXpJLUxxpg8sAJhjDEmICsQxhhjArICYYwxJiArEMYUIBEJF5E4ESnrdxZjTpUVCBOQiNQUkUkisllE1orIzPzeWSsiA0RknYi8LyJlReRTt3fOm0XkTRGJymXdG3PqfdTDfk8XkQc8LjtcTrEHX/fGpJeAVap6JIdltolI9Xxsu56I3JrldbSIvJLvsDnvp4+IjM7D8p4/Y1P0lJj7IIx37h+6qcBEVb3FndYc54ag/NxZ+wDOHeBbRaQVUFpVm7vzJue2oqpOB6bnY5/g3DT0ADA2n+t7IiLhqpru3s8QF6Td1MPpUO8DAFVNxblnx2+nUwifsfGHHUGYQDoAx7LecKaqK1R1gThGuH3zrxaRm08sI07f/Uvcvuifdqe9jtM98XQR+QfwHtDcPYJo4HYOF+0ue52ILHM7svvMnZb5jVZEIkTkI3cfS0SkjTt9uIhMcLe1RUQGuJGeAxq4+xqR/U2KyOPi9K3/KXBelukNROQTcTqtWyAijQOsO1xExovIHJwbk3LKVk1E5ojIchEZh9ufjntE8G2W7Q0TkeHu83Pdo6yV7ufRwH0vl7vvZbA4Yzcku8tXFZFp7ue+WJxuWXL7XLK/l7tEZKM4Y0C0yTL9HckyjoaI7A+w+t8+4xx+D+qJyHr3iPFbcY4mrxaRhSKySZyO5U5kfldE5rnT73GnnyUiX8qf40JcHui9mAJWGLeu26NoPYABwIs5zOsBzMW5k/NMnK4izgI64gycLjhfPJKBdu4623C7ISDbeAjAFzj9JkXg9FQZ6U6v6v7sA4x2n38AtHWf1wHWuc+HA4uAsjj9Lv0GlMb51v1tDu/jEpxeOCvg3Dmfhtu9Ck6XEw3d5y0JMAaBu8+lQPmTZHsF+B/3+fU4natVz54NGMafXTd8DXRzn5dzM2b/3DJf43T695T7/EpgRW6fS7b3cZb7bxiB033Dwiyf9ztk6aIE2B/gc8j+PgL+HrjLpQNN3elLgQnucl2AaVkyrwTKu5l34HSINxR43F0mDDjN7/8nJeFhTUwmr9oC/1Wnl9Sf3W+dl+L8EeiI03skOH3kNwS+9LjdVsCXqroVQAP32nk1EOW0gAFQWUROc5/PUKfd/4iI/IJTvHJzOTBVVQ8CiMh092clnAGaErLsJ6cTztNV9dBJsrXD7X5ZVWeIyO9/38yf3HVqqepUd53D7vTcVmuLU7hR1XnuUUsVd16gz2VnlnVbAl+o6i53P5Nxuv7Or44E/j34Dtiqqqvd/azBGcxGxemuol6WbXzsfq6HRORznD6rlgATRKQ0TjFZcQoZjUdWIEwga3D6DAokp79UAvxbVcflc5/CybtfLwVcluWPsrOi88cz60nhDLz9bgfaXyngD/3zHElusvYNlFu2QPtJ569NvOVOrOJhv9nl1g20l88lp889M6M4b6SMxyx/+z0QkXrZshzP8vp4tlzZ86g6PQW3wzkKe1dERqjq/3nIY06BnYMwgcwDyp5o/4XMsZ3b4xwR3CwiYSISgfMN+RucDsTudr+BIyK1RKRGHvaZArQXkUh3/UDjDs8hy0lgcU6c52YfcFoO874EuolIefdbewxkdpe8VUR6uvsQ8TYGeE7ZvgRuc6d1As5wp/8M1HC/7ZcFbsiy/50i0tVdp6w4g+Wc7L2c2McVON12e+1g8mvgCjdHaaBnlnnbcJriwGkGKh1g/ey5TvX3AKCLiJQTkWo4TWlLRKQu8IuqvgG8hdNzsAkyKxDmb9Rp6O0GXCPOZa5rcNqGf8C5umkVTjvxPOBhVf1JVefgtMOnuE0GieT8By3QPncB/YEpIrKSwFc3DQCi3ZOfa4H7TrLN34CF7knNEdnmLXP3sQJnlLIFWWbfBvR1c6zB27ChOWV7GmgnIstwml5ODOl5DHgG5w90MrA+y7ZuBwaIyCqccwg1cT7zdPfE9eBs+x5+Yt84J43v9JAXN8eP7vopwKc4Axqd8AZO0f4Gpynqb72pZv+MT/X3wPUNzuiEi4F/quoPOIVihYgsx2lOezmP2zT5YL25GmNChjhXcu1X1ZF+ZzF2BGGMMSYHdgRhjDEmIDuCMMYYE5AVCGOMMQFZgTDGGBOQFQhjjDEBWYEwxhgTkBUIY4wxAf0/yUwkVqNqnH4AAAAASUVORK5CYII=\n"
=======
      "image/png": "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\n",
      "image/svg+xml": [
       "<?xml version=\"1.0\" encoding=\"utf-8\" standalone=\"no\"?>\r\n",
       "<!DOCTYPE svg PUBLIC \"-//W3C//DTD SVG 1.1//EN\"\r\n",
       "  \"http://www.w3.org/Graphics/SVG/1.1/DTD/svg11.dtd\">\r\n",
       "<!-- Created with matplotlib (https://matplotlib.org/) -->\r\n",
       "<svg height=\"248.518125pt\" version=\"1.1\" viewBox=\"0 0 378.465625 248.518125\" width=\"378.465625pt\" xmlns=\"http://www.w3.org/2000/svg\" xmlns:xlink=\"http://www.w3.org/1999/xlink\">\r\n",
       " <metadata>\r\n",
       "  <rdf:RDF xmlns:cc=\"http://creativecommons.org/ns#\" xmlns:dc=\"http://purl.org/dc/elements/1.1/\" xmlns:rdf=\"http://www.w3.org/1999/02/22-rdf-syntax-ns#\">\r\n",
       "   <cc:Work>\r\n",
       "    <dc:type rdf:resource=\"http://purl.org/dc/dcmitype/StillImage\"/>\r\n",
       "    <dc:date>2021-03-17T10:20:30.102787</dc:date>\r\n",
       "    <dc:format>image/svg+xml</dc:format>\r\n",
       "    <dc:creator>\r\n",
       "     <cc:Agent>\r\n",
       "      <dc:title>Matplotlib v3.3.2, https://matplotlib.org/</dc:title>\r\n",
       "     </cc:Agent>\r\n",
       "    </dc:creator>\r\n",
       "   </cc:Work>\r\n",
       "  </rdf:RDF>\r\n",
       " </metadata>\r\n",
       " <defs>\r\n",
       "  <style type=\"text/css\">*{stroke-linecap:butt;stroke-linejoin:round;}</style>\r\n",
       " </defs>\r\n",
       " <g id=\"figure_1\">\r\n",
       "  <g id=\"patch_1\">\r\n",
       "   <path d=\"M 0 248.518125 \r\n",
       "L 378.465625 248.518125 \r\n",
       "L 378.465625 0 \r\n",
       "L 0 0 \r\n",
       "z\r\n",
       "\" style=\"fill:none;\"/>\r\n",
       "  </g>\r\n",
       "  <g id=\"axes_1\">\r\n",
       "   <g id=\"patch_2\">\r\n",
       "    <path d=\"M 36.465625 224.64 \r\n",
       "L 371.265625 224.64 \r\n",
       "L 371.265625 7.2 \r\n",
       "L 36.465625 7.2 \r\n",
       "z\r\n",
       "\" style=\"fill:#ffffff;\"/>\r\n",
       "   </g>\r\n",
       "   <g id=\"matplotlib.axis_1\">\r\n",
       "    <g id=\"xtick_1\">\r\n",
       "     <g id=\"line2d_1\">\r\n",
       "      <defs>\r\n",
       "       <path d=\"M 0 0 \r\n",
       "L 0 3.5 \r\n",
       "\" id=\"md4780b658b\" style=\"stroke:#000000;stroke-width:0.8;\"/>\r\n",
       "      </defs>\r\n",
       "      <g>\r\n",
       "       <use style=\"stroke:#000000;stroke-width:0.8;\" x=\"51.683807\" xlink:href=\"#md4780b658b\" y=\"224.64\"/>\r\n",
       "      </g>\r\n",
       "     </g>\r\n",
       "     <g id=\"text_1\">\r\n",
       "      <!-- 0.1 -->\r\n",
       "      <g transform=\"translate(43.732244 239.238438)scale(0.1 -0.1)\">\r\n",
       "       <defs>\r\n",
       "        <path d=\"M 31.78125 66.40625 \r\n",
       "Q 24.171875 66.40625 20.328125 58.90625 \r\n",
       "Q 16.5 51.421875 16.5 36.375 \r\n",
       "Q 16.5 21.390625 20.328125 13.890625 \r\n",
       "Q 24.171875 6.390625 31.78125 6.390625 \r\n",
       "Q 39.453125 6.390625 43.28125 13.890625 \r\n",
       "Q 47.125 21.390625 47.125 36.375 \r\n",
       "Q 47.125 51.421875 43.28125 58.90625 \r\n",
       "Q 39.453125 66.40625 31.78125 66.40625 \r\n",
       "z\r\n",
       "M 31.78125 74.21875 \r\n",
       "Q 44.046875 74.21875 50.515625 64.515625 \r\n",
       "Q 56.984375 54.828125 56.984375 36.375 \r\n",
       "Q 56.984375 17.96875 50.515625 8.265625 \r\n",
       "Q 44.046875 -1.421875 31.78125 -1.421875 \r\n",
       "Q 19.53125 -1.421875 13.0625 8.265625 \r\n",
       "Q 6.59375 17.96875 6.59375 36.375 \r\n",
       "Q 6.59375 54.828125 13.0625 64.515625 \r\n",
       "Q 19.53125 74.21875 31.78125 74.21875 \r\n",
       "z\r\n",
       "\" id=\"DejaVuSans-48\"/>\r\n",
       "        <path d=\"M 10.6875 12.40625 \r\n",
       "L 21 12.40625 \r\n",
       "L 21 0 \r\n",
       "L 10.6875 0 \r\n",
       "z\r\n",
       "\" id=\"DejaVuSans-46\"/>\r\n",
       "        <path d=\"M 12.40625 8.296875 \r\n",
       "L 28.515625 8.296875 \r\n",
       "L 28.515625 63.921875 \r\n",
       "L 10.984375 60.40625 \r\n",
       "L 10.984375 69.390625 \r\n",
       "L 28.421875 72.90625 \r\n",
       "L 38.28125 72.90625 \r\n",
       "L 38.28125 8.296875 \r\n",
       "L 54.390625 8.296875 \r\n",
       "L 54.390625 0 \r\n",
       "L 12.40625 0 \r\n",
       "z\r\n",
       "\" id=\"DejaVuSans-49\"/>\r\n",
       "       </defs>\r\n",
       "       <use xlink:href=\"#DejaVuSans-48\"/>\r\n",
       "       <use x=\"63.623047\" xlink:href=\"#DejaVuSans-46\"/>\r\n",
       "       <use x=\"95.410156\" xlink:href=\"#DejaVuSans-49\"/>\r\n",
       "      </g>\r\n",
       "     </g>\r\n",
       "    </g>\r\n",
       "    <g id=\"xtick_2\">\r\n",
       "     <g id=\"line2d_2\">\r\n",
       "      <g>\r\n",
       "       <use style=\"stroke:#000000;stroke-width:0.8;\" x=\"89.729261\" xlink:href=\"#md4780b658b\" y=\"224.64\"/>\r\n",
       "      </g>\r\n",
       "     </g>\r\n",
       "     <g id=\"text_2\">\r\n",
       "      <!-- 0.2 -->\r\n",
       "      <g transform=\"translate(81.777699 239.238438)scale(0.1 -0.1)\">\r\n",
       "       <defs>\r\n",
       "        <path d=\"M 19.1875 8.296875 \r\n",
       "L 53.609375 8.296875 \r\n",
       "L 53.609375 0 \r\n",
       "L 7.328125 0 \r\n",
       "L 7.328125 8.296875 \r\n",
       "Q 12.9375 14.109375 22.625 23.890625 \r\n",
       "Q 32.328125 33.6875 34.8125 36.53125 \r\n",
       "Q 39.546875 41.84375 41.421875 45.53125 \r\n",
       "Q 43.3125 49.21875 43.3125 52.78125 \r\n",
       "Q 43.3125 58.59375 39.234375 62.25 \r\n",
       "Q 35.15625 65.921875 28.609375 65.921875 \r\n",
       "Q 23.96875 65.921875 18.8125 64.3125 \r\n",
       "Q 13.671875 62.703125 7.8125 59.421875 \r\n",
       "L 7.8125 69.390625 \r\n",
       "Q 13.765625 71.78125 18.9375 73 \r\n",
       "Q 24.125 74.21875 28.421875 74.21875 \r\n",
       "Q 39.75 74.21875 46.484375 68.546875 \r\n",
       "Q 53.21875 62.890625 53.21875 53.421875 \r\n",
       "Q 53.21875 48.921875 51.53125 44.890625 \r\n",
       "Q 49.859375 40.875 45.40625 35.40625 \r\n",
       "Q 44.1875 33.984375 37.640625 27.21875 \r\n",
       "Q 31.109375 20.453125 19.1875 8.296875 \r\n",
       "z\r\n",
       "\" id=\"DejaVuSans-50\"/>\r\n",
       "       </defs>\r\n",
       "       <use xlink:href=\"#DejaVuSans-48\"/>\r\n",
       "       <use x=\"63.623047\" xlink:href=\"#DejaVuSans-46\"/>\r\n",
       "       <use x=\"95.410156\" xlink:href=\"#DejaVuSans-50\"/>\r\n",
       "      </g>\r\n",
       "     </g>\r\n",
       "    </g>\r\n",
       "    <g id=\"xtick_3\">\r\n",
       "     <g id=\"line2d_3\">\r\n",
       "      <g>\r\n",
       "       <use style=\"stroke:#000000;stroke-width:0.8;\" x=\"127.774716\" xlink:href=\"#md4780b658b\" y=\"224.64\"/>\r\n",
       "      </g>\r\n",
       "     </g>\r\n",
       "     <g id=\"text_3\">\r\n",
       "      <!-- 0.3 -->\r\n",
       "      <g transform=\"translate(119.823153 239.238438)scale(0.1 -0.1)\">\r\n",
       "       <defs>\r\n",
       "        <path d=\"M 40.578125 39.3125 \r\n",
       "Q 47.65625 37.796875 51.625 33 \r\n",
       "Q 55.609375 28.21875 55.609375 21.1875 \r\n",
       "Q 55.609375 10.40625 48.1875 4.484375 \r\n",
       "Q 40.765625 -1.421875 27.09375 -1.421875 \r\n",
       "Q 22.515625 -1.421875 17.65625 -0.515625 \r\n",
       "Q 12.796875 0.390625 7.625 2.203125 \r\n",
       "L 7.625 11.71875 \r\n",
       "Q 11.71875 9.328125 16.59375 8.109375 \r\n",
       "Q 21.484375 6.890625 26.8125 6.890625 \r\n",
       "Q 36.078125 6.890625 40.9375 10.546875 \r\n",
       "Q 45.796875 14.203125 45.796875 21.1875 \r\n",
       "Q 45.796875 27.640625 41.28125 31.265625 \r\n",
       "Q 36.765625 34.90625 28.71875 34.90625 \r\n",
       "L 20.21875 34.90625 \r\n",
       "L 20.21875 43.015625 \r\n",
       "L 29.109375 43.015625 \r\n",
       "Q 36.375 43.015625 40.234375 45.921875 \r\n",
       "Q 44.09375 48.828125 44.09375 54.296875 \r\n",
       "Q 44.09375 59.90625 40.109375 62.90625 \r\n",
       "Q 36.140625 65.921875 28.71875 65.921875 \r\n",
       "Q 24.65625 65.921875 20.015625 65.03125 \r\n",
       "Q 15.375 64.15625 9.8125 62.3125 \r\n",
       "L 9.8125 71.09375 \r\n",
       "Q 15.4375 72.65625 20.34375 73.4375 \r\n",
       "Q 25.25 74.21875 29.59375 74.21875 \r\n",
       "Q 40.828125 74.21875 47.359375 69.109375 \r\n",
       "Q 53.90625 64.015625 53.90625 55.328125 \r\n",
       "Q 53.90625 49.265625 50.4375 45.09375 \r\n",
       "Q 46.96875 40.921875 40.578125 39.3125 \r\n",
       "z\r\n",
       "\" id=\"DejaVuSans-51\"/>\r\n",
       "       </defs>\r\n",
       "       <use xlink:href=\"#DejaVuSans-48\"/>\r\n",
       "       <use x=\"63.623047\" xlink:href=\"#DejaVuSans-46\"/>\r\n",
       "       <use x=\"95.410156\" xlink:href=\"#DejaVuSans-51\"/>\r\n",
       "      </g>\r\n",
       "     </g>\r\n",
       "    </g>\r\n",
       "    <g id=\"xtick_4\">\r\n",
       "     <g id=\"line2d_4\">\r\n",
       "      <g>\r\n",
       "       <use style=\"stroke:#000000;stroke-width:0.8;\" x=\"165.82017\" xlink:href=\"#md4780b658b\" y=\"224.64\"/>\r\n",
       "      </g>\r\n",
       "     </g>\r\n",
       "     <g id=\"text_4\">\r\n",
       "      <!-- 0.4 -->\r\n",
       "      <g transform=\"translate(157.868608 239.238438)scale(0.1 -0.1)\">\r\n",
       "       <defs>\r\n",
       "        <path d=\"M 37.796875 64.3125 \r\n",
       "L 12.890625 25.390625 \r\n",
       "L 37.796875 25.390625 \r\n",
       "z\r\n",
       "M 35.203125 72.90625 \r\n",
       "L 47.609375 72.90625 \r\n",
       "L 47.609375 25.390625 \r\n",
       "L 58.015625 25.390625 \r\n",
       "L 58.015625 17.1875 \r\n",
       "L 47.609375 17.1875 \r\n",
       "L 47.609375 0 \r\n",
       "L 37.796875 0 \r\n",
       "L 37.796875 17.1875 \r\n",
       "L 4.890625 17.1875 \r\n",
       "L 4.890625 26.703125 \r\n",
       "z\r\n",
       "\" id=\"DejaVuSans-52\"/>\r\n",
       "       </defs>\r\n",
       "       <use xlink:href=\"#DejaVuSans-48\"/>\r\n",
       "       <use x=\"63.623047\" xlink:href=\"#DejaVuSans-46\"/>\r\n",
       "       <use x=\"95.410156\" xlink:href=\"#DejaVuSans-52\"/>\r\n",
       "      </g>\r\n",
       "     </g>\r\n",
       "    </g>\r\n",
       "    <g id=\"xtick_5\">\r\n",
       "     <g id=\"line2d_5\">\r\n",
       "      <g>\r\n",
       "       <use style=\"stroke:#000000;stroke-width:0.8;\" x=\"203.865625\" xlink:href=\"#md4780b658b\" y=\"224.64\"/>\r\n",
       "      </g>\r\n",
       "     </g>\r\n",
       "     <g id=\"text_5\">\r\n",
       "      <!-- 0.5 -->\r\n",
       "      <g transform=\"translate(195.914062 239.238438)scale(0.1 -0.1)\">\r\n",
       "       <defs>\r\n",
       "        <path d=\"M 10.796875 72.90625 \r\n",
       "L 49.515625 72.90625 \r\n",
       "L 49.515625 64.59375 \r\n",
       "L 19.828125 64.59375 \r\n",
       "L 19.828125 46.734375 \r\n",
       "Q 21.96875 47.46875 24.109375 47.828125 \r\n",
       "Q 26.265625 48.1875 28.421875 48.1875 \r\n",
       "Q 40.625 48.1875 47.75 41.5 \r\n",
       "Q 54.890625 34.8125 54.890625 23.390625 \r\n",
       "Q 54.890625 11.625 47.5625 5.09375 \r\n",
       "Q 40.234375 -1.421875 26.90625 -1.421875 \r\n",
       "Q 22.3125 -1.421875 17.546875 -0.640625 \r\n",
       "Q 12.796875 0.140625 7.71875 1.703125 \r\n",
       "L 7.71875 11.625 \r\n",
       "Q 12.109375 9.234375 16.796875 8.0625 \r\n",
       "Q 21.484375 6.890625 26.703125 6.890625 \r\n",
       "Q 35.15625 6.890625 40.078125 11.328125 \r\n",
       "Q 45.015625 15.765625 45.015625 23.390625 \r\n",
       "Q 45.015625 31 40.078125 35.4375 \r\n",
       "Q 35.15625 39.890625 26.703125 39.890625 \r\n",
       "Q 22.75 39.890625 18.8125 39.015625 \r\n",
       "Q 14.890625 38.140625 10.796875 36.28125 \r\n",
       "z\r\n",
       "\" id=\"DejaVuSans-53\"/>\r\n",
       "       </defs>\r\n",
       "       <use xlink:href=\"#DejaVuSans-48\"/>\r\n",
       "       <use x=\"63.623047\" xlink:href=\"#DejaVuSans-46\"/>\r\n",
       "       <use x=\"95.410156\" xlink:href=\"#DejaVuSans-53\"/>\r\n",
       "      </g>\r\n",
       "     </g>\r\n",
       "    </g>\r\n",
       "    <g id=\"xtick_6\">\r\n",
       "     <g id=\"line2d_6\">\r\n",
       "      <g>\r\n",
       "       <use style=\"stroke:#000000;stroke-width:0.8;\" x=\"241.91108\" xlink:href=\"#md4780b658b\" y=\"224.64\"/>\r\n",
       "      </g>\r\n",
       "     </g>\r\n",
       "     <g id=\"text_6\">\r\n",
       "      <!-- 0.6 -->\r\n",
       "      <g transform=\"translate(233.959517 239.238438)scale(0.1 -0.1)\">\r\n",
       "       <defs>\r\n",
       "        <path d=\"M 33.015625 40.375 \r\n",
       "Q 26.375 40.375 22.484375 35.828125 \r\n",
       "Q 18.609375 31.296875 18.609375 23.390625 \r\n",
       "Q 18.609375 15.53125 22.484375 10.953125 \r\n",
       "Q 26.375 6.390625 33.015625 6.390625 \r\n",
       "Q 39.65625 6.390625 43.53125 10.953125 \r\n",
       "Q 47.40625 15.53125 47.40625 23.390625 \r\n",
       "Q 47.40625 31.296875 43.53125 35.828125 \r\n",
       "Q 39.65625 40.375 33.015625 40.375 \r\n",
       "z\r\n",
       "M 52.59375 71.296875 \r\n",
       "L 52.59375 62.3125 \r\n",
       "Q 48.875 64.0625 45.09375 64.984375 \r\n",
       "Q 41.3125 65.921875 37.59375 65.921875 \r\n",
       "Q 27.828125 65.921875 22.671875 59.328125 \r\n",
       "Q 17.53125 52.734375 16.796875 39.40625 \r\n",
       "Q 19.671875 43.65625 24.015625 45.921875 \r\n",
       "Q 28.375 48.1875 33.59375 48.1875 \r\n",
       "Q 44.578125 48.1875 50.953125 41.515625 \r\n",
       "Q 57.328125 34.859375 57.328125 23.390625 \r\n",
       "Q 57.328125 12.15625 50.6875 5.359375 \r\n",
       "Q 44.046875 -1.421875 33.015625 -1.421875 \r\n",
       "Q 20.359375 -1.421875 13.671875 8.265625 \r\n",
       "Q 6.984375 17.96875 6.984375 36.375 \r\n",
       "Q 6.984375 53.65625 15.1875 63.9375 \r\n",
       "Q 23.390625 74.21875 37.203125 74.21875 \r\n",
       "Q 40.921875 74.21875 44.703125 73.484375 \r\n",
       "Q 48.484375 72.75 52.59375 71.296875 \r\n",
       "z\r\n",
       "\" id=\"DejaVuSans-54\"/>\r\n",
       "       </defs>\r\n",
       "       <use xlink:href=\"#DejaVuSans-48\"/>\r\n",
       "       <use x=\"63.623047\" xlink:href=\"#DejaVuSans-46\"/>\r\n",
       "       <use x=\"95.410156\" xlink:href=\"#DejaVuSans-54\"/>\r\n",
       "      </g>\r\n",
       "     </g>\r\n",
       "    </g>\r\n",
       "    <g id=\"xtick_7\">\r\n",
       "     <g id=\"line2d_7\">\r\n",
       "      <g>\r\n",
       "       <use style=\"stroke:#000000;stroke-width:0.8;\" x=\"279.956534\" xlink:href=\"#md4780b658b\" y=\"224.64\"/>\r\n",
       "      </g>\r\n",
       "     </g>\r\n",
       "     <g id=\"text_7\">\r\n",
       "      <!-- 0.7 -->\r\n",
       "      <g transform=\"translate(272.004972 239.238438)scale(0.1 -0.1)\">\r\n",
       "       <defs>\r\n",
       "        <path d=\"M 8.203125 72.90625 \r\n",
       "L 55.078125 72.90625 \r\n",
       "L 55.078125 68.703125 \r\n",
       "L 28.609375 0 \r\n",
       "L 18.3125 0 \r\n",
       "L 43.21875 64.59375 \r\n",
       "L 8.203125 64.59375 \r\n",
       "z\r\n",
       "\" id=\"DejaVuSans-55\"/>\r\n",
       "       </defs>\r\n",
       "       <use xlink:href=\"#DejaVuSans-48\"/>\r\n",
       "       <use x=\"63.623047\" xlink:href=\"#DejaVuSans-46\"/>\r\n",
       "       <use x=\"95.410156\" xlink:href=\"#DejaVuSans-55\"/>\r\n",
       "      </g>\r\n",
       "     </g>\r\n",
       "    </g>\r\n",
       "    <g id=\"xtick_8\">\r\n",
       "     <g id=\"line2d_8\">\r\n",
       "      <g>\r\n",
       "       <use style=\"stroke:#000000;stroke-width:0.8;\" x=\"318.001989\" xlink:href=\"#md4780b658b\" y=\"224.64\"/>\r\n",
       "      </g>\r\n",
       "     </g>\r\n",
       "     <g id=\"text_8\">\r\n",
       "      <!-- 0.8 -->\r\n",
       "      <g transform=\"translate(310.050426 239.238438)scale(0.1 -0.1)\">\r\n",
       "       <defs>\r\n",
       "        <path d=\"M 31.78125 34.625 \r\n",
       "Q 24.75 34.625 20.71875 30.859375 \r\n",
       "Q 16.703125 27.09375 16.703125 20.515625 \r\n",
       "Q 16.703125 13.921875 20.71875 10.15625 \r\n",
       "Q 24.75 6.390625 31.78125 6.390625 \r\n",
       "Q 38.8125 6.390625 42.859375 10.171875 \r\n",
       "Q 46.921875 13.96875 46.921875 20.515625 \r\n",
       "Q 46.921875 27.09375 42.890625 30.859375 \r\n",
       "Q 38.875 34.625 31.78125 34.625 \r\n",
       "z\r\n",
       "M 21.921875 38.8125 \r\n",
       "Q 15.578125 40.375 12.03125 44.71875 \r\n",
       "Q 8.5 49.078125 8.5 55.328125 \r\n",
       "Q 8.5 64.0625 14.71875 69.140625 \r\n",
       "Q 20.953125 74.21875 31.78125 74.21875 \r\n",
       "Q 42.671875 74.21875 48.875 69.140625 \r\n",
       "Q 55.078125 64.0625 55.078125 55.328125 \r\n",
       "Q 55.078125 49.078125 51.53125 44.71875 \r\n",
       "Q 48 40.375 41.703125 38.8125 \r\n",
       "Q 48.828125 37.15625 52.796875 32.3125 \r\n",
       "Q 56.78125 27.484375 56.78125 20.515625 \r\n",
       "Q 56.78125 9.90625 50.3125 4.234375 \r\n",
       "Q 43.84375 -1.421875 31.78125 -1.421875 \r\n",
       "Q 19.734375 -1.421875 13.25 4.234375 \r\n",
       "Q 6.78125 9.90625 6.78125 20.515625 \r\n",
       "Q 6.78125 27.484375 10.78125 32.3125 \r\n",
       "Q 14.796875 37.15625 21.921875 38.8125 \r\n",
       "z\r\n",
       "M 18.3125 54.390625 \r\n",
       "Q 18.3125 48.734375 21.84375 45.5625 \r\n",
       "Q 25.390625 42.390625 31.78125 42.390625 \r\n",
       "Q 38.140625 42.390625 41.71875 45.5625 \r\n",
       "Q 45.3125 48.734375 45.3125 54.390625 \r\n",
       "Q 45.3125 60.0625 41.71875 63.234375 \r\n",
       "Q 38.140625 66.40625 31.78125 66.40625 \r\n",
       "Q 25.390625 66.40625 21.84375 63.234375 \r\n",
       "Q 18.3125 60.0625 18.3125 54.390625 \r\n",
       "z\r\n",
       "\" id=\"DejaVuSans-56\"/>\r\n",
       "       </defs>\r\n",
       "       <use xlink:href=\"#DejaVuSans-48\"/>\r\n",
       "       <use x=\"63.623047\" xlink:href=\"#DejaVuSans-46\"/>\r\n",
       "       <use x=\"95.410156\" xlink:href=\"#DejaVuSans-56\"/>\r\n",
       "      </g>\r\n",
       "     </g>\r\n",
       "    </g>\r\n",
       "    <g id=\"xtick_9\">\r\n",
       "     <g id=\"line2d_9\">\r\n",
       "      <g>\r\n",
       "       <use style=\"stroke:#000000;stroke-width:0.8;\" x=\"356.047443\" xlink:href=\"#md4780b658b\" y=\"224.64\"/>\r\n",
       "      </g>\r\n",
       "     </g>\r\n",
       "     <g id=\"text_9\">\r\n",
       "      <!-- 0.9 -->\r\n",
       "      <g transform=\"translate(348.095881 239.238438)scale(0.1 -0.1)\">\r\n",
       "       <defs>\r\n",
       "        <path d=\"M 10.984375 1.515625 \r\n",
       "L 10.984375 10.5 \r\n",
       "Q 14.703125 8.734375 18.5 7.8125 \r\n",
       "Q 22.3125 6.890625 25.984375 6.890625 \r\n",
       "Q 35.75 6.890625 40.890625 13.453125 \r\n",
       "Q 46.046875 20.015625 46.78125 33.40625 \r\n",
       "Q 43.953125 29.203125 39.59375 26.953125 \r\n",
       "Q 35.25 24.703125 29.984375 24.703125 \r\n",
       "Q 19.046875 24.703125 12.671875 31.3125 \r\n",
       "Q 6.296875 37.9375 6.296875 49.421875 \r\n",
       "Q 6.296875 60.640625 12.9375 67.421875 \r\n",
       "Q 19.578125 74.21875 30.609375 74.21875 \r\n",
       "Q 43.265625 74.21875 49.921875 64.515625 \r\n",
       "Q 56.59375 54.828125 56.59375 36.375 \r\n",
       "Q 56.59375 19.140625 48.40625 8.859375 \r\n",
       "Q 40.234375 -1.421875 26.421875 -1.421875 \r\n",
       "Q 22.703125 -1.421875 18.890625 -0.6875 \r\n",
       "Q 15.09375 0.046875 10.984375 1.515625 \r\n",
       "z\r\n",
       "M 30.609375 32.421875 \r\n",
       "Q 37.25 32.421875 41.125 36.953125 \r\n",
       "Q 45.015625 41.5 45.015625 49.421875 \r\n",
       "Q 45.015625 57.28125 41.125 61.84375 \r\n",
       "Q 37.25 66.40625 30.609375 66.40625 \r\n",
       "Q 23.96875 66.40625 20.09375 61.84375 \r\n",
       "Q 16.21875 57.28125 16.21875 49.421875 \r\n",
       "Q 16.21875 41.5 20.09375 36.953125 \r\n",
       "Q 23.96875 32.421875 30.609375 32.421875 \r\n",
       "z\r\n",
       "\" id=\"DejaVuSans-57\"/>\r\n",
       "       </defs>\r\n",
       "       <use xlink:href=\"#DejaVuSans-48\"/>\r\n",
       "       <use x=\"63.623047\" xlink:href=\"#DejaVuSans-46\"/>\r\n",
       "       <use x=\"95.410156\" xlink:href=\"#DejaVuSans-57\"/>\r\n",
       "      </g>\r\n",
       "     </g>\r\n",
       "    </g>\r\n",
       "   </g>\r\n",
       "   <g id=\"matplotlib.axis_2\">\r\n",
       "    <g id=\"ytick_1\">\r\n",
       "     <g id=\"line2d_10\">\r\n",
       "      <defs>\r\n",
       "       <path d=\"M 0 0 \r\n",
       "L -3.5 0 \r\n",
       "\" id=\"m762c26ccfa\" style=\"stroke:#000000;stroke-width:0.8;\"/>\r\n",
       "      </defs>\r\n",
       "      <g>\r\n",
       "       <use style=\"stroke:#000000;stroke-width:0.8;\" x=\"36.465625\" xlink:href=\"#m762c26ccfa\" y=\"204.449582\"/>\r\n",
       "      </g>\r\n",
       "     </g>\r\n",
       "     <g id=\"text_10\">\r\n",
       "      <!-- 0.15 -->\r\n",
       "      <g transform=\"translate(7.2 208.248801)scale(0.1 -0.1)\">\r\n",
       "       <use xlink:href=\"#DejaVuSans-48\"/>\r\n",
       "       <use x=\"63.623047\" xlink:href=\"#DejaVuSans-46\"/>\r\n",
       "       <use x=\"95.410156\" xlink:href=\"#DejaVuSans-49\"/>\r\n",
       "       <use x=\"159.033203\" xlink:href=\"#DejaVuSans-53\"/>\r\n",
       "      </g>\r\n",
       "     </g>\r\n",
       "    </g>\r\n",
       "    <g id=\"ytick_2\">\r\n",
       "     <g id=\"line2d_11\">\r\n",
       "      <g>\r\n",
       "       <use style=\"stroke:#000000;stroke-width:0.8;\" x=\"36.465625\" xlink:href=\"#m762c26ccfa\" y=\"168.668974\"/>\r\n",
       "      </g>\r\n",
       "     </g>\r\n",
       "     <g id=\"text_11\">\r\n",
       "      <!-- 0.16 -->\r\n",
       "      <g transform=\"translate(7.2 172.468193)scale(0.1 -0.1)\">\r\n",
       "       <use xlink:href=\"#DejaVuSans-48\"/>\r\n",
       "       <use x=\"63.623047\" xlink:href=\"#DejaVuSans-46\"/>\r\n",
       "       <use x=\"95.410156\" xlink:href=\"#DejaVuSans-49\"/>\r\n",
       "       <use x=\"159.033203\" xlink:href=\"#DejaVuSans-54\"/>\r\n",
       "      </g>\r\n",
       "     </g>\r\n",
       "    </g>\r\n",
       "    <g id=\"ytick_3\">\r\n",
       "     <g id=\"line2d_12\">\r\n",
       "      <g>\r\n",
       "       <use style=\"stroke:#000000;stroke-width:0.8;\" x=\"36.465625\" xlink:href=\"#m762c26ccfa\" y=\"132.888367\"/>\r\n",
       "      </g>\r\n",
       "     </g>\r\n",
       "     <g id=\"text_12\">\r\n",
       "      <!-- 0.17 -->\r\n",
       "      <g transform=\"translate(7.2 136.687586)scale(0.1 -0.1)\">\r\n",
       "       <use xlink:href=\"#DejaVuSans-48\"/>\r\n",
       "       <use x=\"63.623047\" xlink:href=\"#DejaVuSans-46\"/>\r\n",
       "       <use x=\"95.410156\" xlink:href=\"#DejaVuSans-49\"/>\r\n",
       "       <use x=\"159.033203\" xlink:href=\"#DejaVuSans-55\"/>\r\n",
       "      </g>\r\n",
       "     </g>\r\n",
       "    </g>\r\n",
       "    <g id=\"ytick_4\">\r\n",
       "     <g id=\"line2d_13\">\r\n",
       "      <g>\r\n",
       "       <use style=\"stroke:#000000;stroke-width:0.8;\" x=\"36.465625\" xlink:href=\"#m762c26ccfa\" y=\"97.107759\"/>\r\n",
       "      </g>\r\n",
       "     </g>\r\n",
       "     <g id=\"text_13\">\r\n",
       "      <!-- 0.18 -->\r\n",
       "      <g transform=\"translate(7.2 100.906978)scale(0.1 -0.1)\">\r\n",
       "       <use xlink:href=\"#DejaVuSans-48\"/>\r\n",
       "       <use x=\"63.623047\" xlink:href=\"#DejaVuSans-46\"/>\r\n",
       "       <use x=\"95.410156\" xlink:href=\"#DejaVuSans-49\"/>\r\n",
       "       <use x=\"159.033203\" xlink:href=\"#DejaVuSans-56\"/>\r\n",
       "      </g>\r\n",
       "     </g>\r\n",
       "    </g>\r\n",
       "    <g id=\"ytick_5\">\r\n",
       "     <g id=\"line2d_14\">\r\n",
       "      <g>\r\n",
       "       <use style=\"stroke:#000000;stroke-width:0.8;\" x=\"36.465625\" xlink:href=\"#m762c26ccfa\" y=\"61.327152\"/>\r\n",
       "      </g>\r\n",
       "     </g>\r\n",
       "     <g id=\"text_14\">\r\n",
       "      <!-- 0.19 -->\r\n",
       "      <g transform=\"translate(7.2 65.126371)scale(0.1 -0.1)\">\r\n",
       "       <use xlink:href=\"#DejaVuSans-48\"/>\r\n",
       "       <use x=\"63.623047\" xlink:href=\"#DejaVuSans-46\"/>\r\n",
       "       <use x=\"95.410156\" xlink:href=\"#DejaVuSans-49\"/>\r\n",
       "       <use x=\"159.033203\" xlink:href=\"#DejaVuSans-57\"/>\r\n",
       "      </g>\r\n",
       "     </g>\r\n",
       "    </g>\r\n",
       "    <g id=\"ytick_6\">\r\n",
       "     <g id=\"line2d_15\">\r\n",
       "      <g>\r\n",
       "       <use style=\"stroke:#000000;stroke-width:0.8;\" x=\"36.465625\" xlink:href=\"#m762c26ccfa\" y=\"25.546544\"/>\r\n",
       "      </g>\r\n",
       "     </g>\r\n",
       "     <g id=\"text_15\">\r\n",
       "      <!-- 0.20 -->\r\n",
       "      <g transform=\"translate(7.2 29.345763)scale(0.1 -0.1)\">\r\n",
       "       <use xlink:href=\"#DejaVuSans-48\"/>\r\n",
       "       <use x=\"63.623047\" xlink:href=\"#DejaVuSans-46\"/>\r\n",
       "       <use x=\"95.410156\" xlink:href=\"#DejaVuSans-50\"/>\r\n",
       "       <use x=\"159.033203\" xlink:href=\"#DejaVuSans-48\"/>\r\n",
       "      </g>\r\n",
       "     </g>\r\n",
       "    </g>\r\n",
       "   </g>\r\n",
       "   <g id=\"line2d_16\">\r\n",
       "    <path clip-path=\"url(#p32a005c80c)\" d=\"M 51.683807 17.083636 \r\n",
       "L 89.729261 43.843446 \r\n",
       "L 127.774716 126.959603 \r\n",
       "L 165.82017 170.787065 \r\n",
       "L 203.865625 190.738725 \r\n",
       "L 241.91108 203.362169 \r\n",
       "L 279.956534 214.756364 \r\n",
       "L 318.001989 202.227478 \r\n",
       "L 356.047443 184.876152 \r\n",
       "\" style=\"fill:none;stroke:#000000;stroke-linecap:square;stroke-width:1.5;\"/>\r\n",
       "   </g>\r\n",
       "   <g id=\"patch_3\">\r\n",
       "    <path d=\"M 36.465625 224.64 \r\n",
       "L 36.465625 7.2 \r\n",
       "\" style=\"fill:none;stroke:#000000;stroke-linecap:square;stroke-linejoin:miter;stroke-width:0.8;\"/>\r\n",
       "   </g>\r\n",
       "   <g id=\"patch_4\">\r\n",
       "    <path d=\"M 371.265625 224.64 \r\n",
       "L 371.265625 7.2 \r\n",
       "\" style=\"fill:none;stroke:#000000;stroke-linecap:square;stroke-linejoin:miter;stroke-width:0.8;\"/>\r\n",
       "   </g>\r\n",
       "   <g id=\"patch_5\">\r\n",
       "    <path d=\"M 36.465625 224.64 \r\n",
       "L 371.265625 224.64 \r\n",
       "\" style=\"fill:none;stroke:#000000;stroke-linecap:square;stroke-linejoin:miter;stroke-width:0.8;\"/>\r\n",
       "   </g>\r\n",
       "   <g id=\"patch_6\">\r\n",
       "    <path d=\"M 36.465625 7.2 \r\n",
       "L 371.265625 7.2 \r\n",
       "\" style=\"fill:none;stroke:#000000;stroke-linecap:square;stroke-linejoin:miter;stroke-width:0.8;\"/>\r\n",
       "   </g>\r\n",
       "  </g>\r\n",
       " </g>\r\n",
       " <defs>\r\n",
       "  <clipPath id=\"p32a005c80c\">\r\n",
       "   <rect height=\"217.44\" width=\"334.8\" x=\"36.465625\" y=\"7.2\"/>\r\n",
       "  </clipPath>\r\n",
       " </defs>\r\n",
       "</svg>\r\n"
      ],
      "text/plain": [
       "<Figure size 432x288 with 1 Axes>"
      ]
>>>>>>> 43a6604e1b6bf2b0e70d8fabafb06023d7a990db
     },
     "metadata": {
      "needs_background": "light"
     },
     "output_type": "display_data"
    }
   ],
   "source": [
    "import matplotlib.pyplot as plt\n",
    "def newPrediction(attribut, coef): \n",
    "    X2 = DataMerge()\n",
    "    X2[attribut] = X2[attribut] * coef\n",
    "    X2_labels = X2[\"Attrition\"].copy()\n",
    "    X2 = X2.drop(\"Attrition\", axis=1)\n",
    "    X2.Gender.replace(to_replace=dict(Male=1, Female=0), inplace=True)\n",
    "    X2_full_set, X2_test_set, Y2_full_set, Y2_test_set = train_test_split(X2, X2_labels, test_size=0.8, random_state=42) #SOLUTION\n",
    "    X2_full_prepared = full_pipeline.transform(X2_full_set)\n",
    "    X2_predictions = final_model.predict(X2_full_prepared)\n",
    "    return np.mean(X2_predictions)\n",
    "coefArray = np.arange(0.1, 1.0, 0.1)\n",
    "\n",
    "y =[]\n",
    "for i in coefArray:\n",
    "    iStr = str(i)\n",
    "    # print('Moyenne d\\'attrition : ' + newPrediction('MeanWorkingTime', i) + ', coef :' + iStr)\n",
    "    y.append(newPrediction('MeanWorkingTime', i))\n",
    "\n",
    "plt.plot(coefArray, np.array(y), 'k')\n",
    "plt.ylabel('Pourcentage d\\'attrition')\n",
    "plt.xlabel('Coefficient de réduction du temps')\n",
    "plt.show()"
   ]
  },
  {
<<<<<<< HEAD
   "cell_type": "code",
   "execution_count": null,
   "metadata": {},
   "outputs": [],
   "source": []
=======
   "cell_type": "markdown",
   "id": "essential-easter",
   "metadata": {
    "slideshow": {
     "slide_type": "subslide"
    }
   },
   "source": [
    "\n",
    "![Courbe de la fiabilité en fonction du nombre d'heures travaillé](images/courbe.png)\n",
    "Le meilleur résultat de fiabilité que l'on peut obtenir avec le jeu de validation.\n"
   ]
>>>>>>> 43a6604e1b6bf2b0e70d8fabafb06023d7a990db
  }
 ],
 "metadata": {
  "celltoolbar": "Diaporama",
  "kernelspec": {
   "display_name": "Python 3",
   "language": "python",
   "name": "python3"
  },
  "language_info": {
   "codemirror_mode": {
    "name": "ipython",
    "version": 3
   },
   "file_extension": ".py",
   "mimetype": "text/x-python",
   "name": "python",
   "nbconvert_exporter": "python",
   "pygments_lexer": "ipython3",
   "version": "3.9.1"
  }
 },
 "nbformat": 4,
 "nbformat_minor": 5
}
