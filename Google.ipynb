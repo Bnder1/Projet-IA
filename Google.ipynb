{
 "cells": [
  {
   "cell_type": "markdown",
   "id": "conservative-pickup",
   "metadata": {},
   "source": [
    "# AUC de la courbe de précision/rappel\n",
    "![AUC de la courbe de précision/rappel](images/AUC/AUC.png)\n",
    "![AUC de la courbe de précision/rappel](images/AUC/AUCimp.png)\n",
    "\n",
    "# Perte logistique\n",
    "![Perte logistique](images/PerteLogistique/Pertelogistique.png)\n",
    "![Perte logistique](images/PerteLogistique/Pertelogistiqueimp.png)\n",
    "\n",
    "# AUC ROC\n",
    "![AUC ROC](images/AUCROC/AUCROC.png)\n",
    "![AUC ROC](images/AUCROC/AUCROCImp.png)"
   ]
  },
  {
   "cell_type": "code",
   "execution_count": null,
   "id": "disturbed-quarterly",
   "metadata": {},
   "outputs": [],
   "source": []
  }
 ],
 "metadata": {
  "kernelspec": {
   "display_name": "Python 3",
   "language": "python",
   "name": "python3"
  },
  "language_info": {
   "codemirror_mode": {
    "name": "ipython",
    "version": 3
   },
   "file_extension": ".py",
   "mimetype": "text/x-python",
   "name": "python",
   "nbconvert_exporter": "python",
   "pygments_lexer": "ipython3",
   "version": "3.9.1"
  }
 },
 "nbformat": 4,
 "nbformat_minor": 5
}
