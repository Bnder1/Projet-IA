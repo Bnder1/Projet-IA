{
 "cells": [
  {
   "cell_type": "markdown",
   "id": "younger-element",
   "metadata": {
    "slideshow": {
     "slide_type": "slide"
    }
   },
   "source": [
    "<img src=\"images/google.png\" width=\"30%\">\n",
    "\n",
    "## Objectif\n",
    "\n",
    "- Utiliser une instance cloud pour utiliser des modèles et machines plus puissantes.\n",
    "- Comparer nos algorithmes.\n",
    "\n"
   ]
  },
  {
   "cell_type": "markdown",
   "id": "qualified-bloom",
   "metadata": {
    "slideshow": {
     "slide_type": "slide"
    }
   },
   "source": [
    "## AUC de la courbe de précision/rappel"
   ]
  },
  {
   "cell_type": "markdown",
   "id": "afraid-matthew",
   "metadata": {
    "slideshow": {
     "slide_type": "subslide"
    }
   },
   "source": [
    "![AUC de la courbe de précision rappel](images/AUC/AUC.png)"
   ]
  },
  {
   "cell_type": "markdown",
   "id": "posted-ordinary",
   "metadata": {
    "slideshow": {
     "slide_type": "subslide"
    }
   },
   "source": [
    "![AUC de la courbe de précision rappel](images/AUC/AUCimp.png)"
   ]
  },
  {
   "cell_type": "markdown",
   "id": "short-function",
   "metadata": {
    "slideshow": {
     "slide_type": "slide"
    }
   },
   "source": [
    "# Perte logistique"
   ]
  },
  {
   "cell_type": "markdown",
   "id": "polar-rhythm",
   "metadata": {
    "slideshow": {
     "slide_type": "subslide"
    }
   },
   "source": [
    "![Perte logistique](images/PerteLogistique/Pertelogistique.png)"
   ]
  },
  {
   "cell_type": "markdown",
   "id": "killing-madison",
   "metadata": {
    "slideshow": {
     "slide_type": "subslide"
    }
   },
   "source": [
    "![Perte logistique](images/PerteLogistique/Pertelogistiqueimp.png)"
   ]
  },
  {
   "cell_type": "markdown",
   "id": "awful-superintendent",
   "metadata": {
    "slideshow": {
     "slide_type": "slide"
    }
   },
   "source": [
    "# AUC ROC"
   ]
  },
  {
   "cell_type": "markdown",
   "id": "choice-supervisor",
   "metadata": {
    "slideshow": {
     "slide_type": "subslide"
    }
   },
   "source": [
    "![AUC ROC](images/AUCROC/AUCROC.png)"
   ]
  },
  {
   "cell_type": "markdown",
   "id": "parallel-regulation",
   "metadata": {
    "slideshow": {
     "slide_type": "subslide"
    }
   },
   "source": [
    "![AUC ROC](images/AUCROC/AUCROCImp.png)"
   ]
  },
  {
   "cell_type": "markdown",
   "id": "married-baltimore",
   "metadata": {
    "slideshow": {
     "slide_type": "slide"
    }
   },
   "source": [
    "# Conclusion\n",
    "## Solution au problème\n",
    "- Grace à l'analyse des attributs :\n",
    "    - MeanworkTime doit être réduit à 30%\n",
    "    - Ameliorer la satisfaction (Google) -> Séminaire / Team Building\n",
    "    - Proposer plus de possibilité d'évolution\n",
    "\n",
    "## Retour sur les hypothèse\n",
    ">Hypothèses :\n",
    ">- Les facteurs que nous supposons pouvant influer sur le modèle sont :\n",
    ">   - \"JobSatisfaction\"\n",
    ">   - \"JobEnvironnement\"\n",
    ">   - \"WorklifeBalance\"\n",
    ">- Dans l'ensemble des paramètre qui joue sur le bien être des employés.\n",
    ">- Les données des enquêtes de satisfaction ne sont pas pertinentes (Un ensemble de bonne note en moyenne).\n",
    ">- Les 2 paramètres ayant le plus d'influence sont l'age et \"MonthlyIncome\" (Avis non objectif)."
   ]
  },
  {
   "cell_type": "markdown",
   "id": "improved-entrepreneur",
   "metadata": {
    "slideshow": {
     "slide_type": "slide"
    }
   },
   "source": [
    "# Merci pour votre Attention"
   ]
  }
 ],
 "metadata": {
  "celltoolbar": "Diaporama",
  "kernelspec": {
   "display_name": "Python 3",
   "language": "python",
   "name": "python3"
  },
  "language_info": {
   "codemirror_mode": {
    "name": "ipython",
    "version": 3
   },
   "file_extension": ".py",
   "mimetype": "text/x-python",
   "name": "python",
   "nbconvert_exporter": "python",
   "pygments_lexer": "ipython3",
   "version": "3.9.1"
  }
 },
 "nbformat": 4,
 "nbformat_minor": 5
}
