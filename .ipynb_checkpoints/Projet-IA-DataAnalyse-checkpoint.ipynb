{
 "cells": [
  {
   "cell_type": "markdown",
   "id": "sacred-lawyer",
   "metadata": {},
   "source": [
    "# Data Analyse\n"
   ]
  },
  {
   "cell_type": "markdown",
   "id": "robust-alloy",
   "metadata": {},
   "source": [
    "## Import CSV et pipline\n",
    "\n",
    "Etapes :\n",
    "\n",
    "- Import du CSV préparé.\n",
    "- Supression du labels Y.\n",
    "- A l'aide de la pipline nous supprimons les attributs de types string à l'aide d'un encodeur incrementale sur les champs :\n",
    "    - MaritalStatus\n",
    "    - JobRole\n",
    "    - BusinessTravel\n",
    "    - Department\n",
    "    - EducationField\n",
    "    - Male /female\n",
    "- Visualisation de la matrice des données."
   ]
  },
  {
   "cell_type": "code",
   "execution_count": 17,
   "id": "fifteen-mouse",
   "metadata": {},
   "outputs": [
    {
     "data": {
      "text/plain": [
       "array([[-1.73800917,  0.25240281,  1.15735878, ...,  2.        ,\n",
       "         2.        ,  1.        ],\n",
       "       [-1.73722299,  0.25240281, -0.65794042, ...,  1.        ,\n",
       "         1.        ,  1.        ],\n",
       "       [-1.73643681, -0.66194603, -0.65794042, ...,  1.        ,\n",
       "         1.        ,  4.        ],\n",
       "       ...,\n",
       "       [ 1.72590965,  1.16675164,  1.15735878, ...,  2.        ,\n",
       "         1.        ,  3.        ],\n",
       "       [ 1.72669583, -1.57629486,  0.24970918, ...,  2.        ,\n",
       "         1.        ,  1.        ],\n",
       "       [ 1.72748201,  1.16675164, -1.56559001, ...,  2.        ,\n",
       "         2.        ,  3.        ]])"
      ]
     },
     "execution_count": 17,
     "metadata": {},
     "output_type": "execute_result"
    }
   ],
   "source": [
    "import os\n",
    "import pandas as pd\n",
    "import numpy as np\n",
    "import matplotlib\n",
    "import matplotlib.pyplot as plt\n",
    "from sklearn.preprocessing import OrdinalEncoder\n",
    "from scipy.cluster.hierarchy import dendrogram, linkage\n",
    "from sklearn.cluster import AgglomerativeClustering\n",
    "from sklearn.pipeline import Pipeline\n",
    "from sklearn.preprocessing import StandardScaler\n",
    "from sklearn.compose import ColumnTransformer\n",
    "from sklearn.preprocessing import OneHotEncoder\n",
    "from sklearn.impute import SimpleImputer\n",
    "\n",
    "DATA_MERGE_PATH = os.path.join(\"data\")\n",
    "def DataMerge(data_merge_path=DATA_MERGE_PATH):\n",
    "    csv_path = os.path.join(data_merge_path, \"DataMerge.csv\")\n",
    "    return pd.read_csv(csv_path) \n",
    "\n",
    "X = DataMerge()\n",
    "\n",
    "X_labels = X[\"Attrition\"].copy()\n",
    "X = X.drop(\"Attrition\", axis=1)\n",
    "\n",
    "#remplace gender male=1 / female=0\n",
    "X.Gender.replace(to_replace=dict(Male=1, Female=0), inplace=True)\n",
    " \n",
    "num_pipeline = Pipeline([\n",
    "        ('imputer', SimpleImputer(strategy=\"median\")),\n",
    "        ('std_scaler', StandardScaler()),\n",
    "    ])\n",
    " \n",
    "X_num = X.select_dtypes(include=[np.number])\n",
    " \n",
    "num_attribs = list(X_num)\n",
    "cat_attribs = [\"MaritalStatus\", \"JobRole\", \"BusinessTravel\", \"Department\", \"EducationField\"]\n",
    " \n",
    "full_pipeline = ColumnTransformer([\n",
    "        (\"num\", num_pipeline, num_attribs),\n",
    "        (\"cat\", OrdinalEncoder(), cat_attribs),\n",
    "    ])\n",
    " \n",
    "X_prepared = full_pipeline.fit_transform(X)\n",
    "\n",
    "\n",
    "#Visualisation\n",
    "pd.set_option('display.max_columns', None)\n",
    "X_prepared"
   ]
  },
  {
   "cell_type": "markdown",
   "id": "dress-secretary",
   "metadata": {},
   "source": [
    "## Visualisation des champs\n",
    "\n",
    ">**Cette visualisation du CSV nous permet la visualisation de nos champs contenus dans notre fichier csv (et non la pipline, d'ou la présence de chaînes de caractères).**\n",
    "\n",
    ">**Nous allons chercher à étudier ces champs de façon à emmettre des hypothèses sur leurs corélation avec le départ ou non du salarié.**"
   ]
  },
  {
   "cell_type": "code",
   "execution_count": 2,
   "id": "composite-starter",
   "metadata": {},
   "outputs": [
    {
     "data": {
      "text/html": [
       "<div>\n",
       "<style scoped>\n",
       "    .dataframe tbody tr th:only-of-type {\n",
       "        vertical-align: middle;\n",
       "    }\n",
       "\n",
       "    .dataframe tbody tr th {\n",
       "        vertical-align: top;\n",
       "    }\n",
       "\n",
       "    .dataframe thead th {\n",
       "        text-align: right;\n",
       "    }\n",
       "</style>\n",
       "<table border=\"1\" class=\"dataframe\">\n",
       "  <thead>\n",
       "    <tr style=\"text-align: right;\">\n",
       "      <th></th>\n",
       "      <th>Unnamed: 0</th>\n",
       "      <th>EnvironmentSatisfaction</th>\n",
       "      <th>JobSatisfaction</th>\n",
       "      <th>WorkLifeBalance</th>\n",
       "      <th>Age</th>\n",
       "      <th>Attrition</th>\n",
       "      <th>BusinessTravel</th>\n",
       "      <th>Department</th>\n",
       "      <th>DistanceFromHome</th>\n",
       "      <th>Education</th>\n",
       "      <th>...</th>\n",
       "      <th>PercentSalaryHike</th>\n",
       "      <th>StockOptionLevel</th>\n",
       "      <th>TotalWorkingYears</th>\n",
       "      <th>TrainingTimesLastYear</th>\n",
       "      <th>YearsAtCompany</th>\n",
       "      <th>YearsSinceLastPromotion</th>\n",
       "      <th>YearsWithCurrManager</th>\n",
       "      <th>JobInvolvement</th>\n",
       "      <th>PerformanceRating</th>\n",
       "      <th>MeanWorkingTime</th>\n",
       "    </tr>\n",
       "  </thead>\n",
       "  <tbody>\n",
       "    <tr>\n",
       "      <th>0</th>\n",
       "      <td>0</td>\n",
       "      <td>3.0</td>\n",
       "      <td>4.0</td>\n",
       "      <td>2.0</td>\n",
       "      <td>51</td>\n",
       "      <td>0</td>\n",
       "      <td>Travel_Rarely</td>\n",
       "      <td>Sales</td>\n",
       "      <td>6</td>\n",
       "      <td>2</td>\n",
       "      <td>...</td>\n",
       "      <td>11</td>\n",
       "      <td>0</td>\n",
       "      <td>1.0</td>\n",
       "      <td>6</td>\n",
       "      <td>1</td>\n",
       "      <td>0</td>\n",
       "      <td>0</td>\n",
       "      <td>3</td>\n",
       "      <td>3</td>\n",
       "      <td>25562.179418</td>\n",
       "    </tr>\n",
       "    <tr>\n",
       "      <th>1</th>\n",
       "      <td>1</td>\n",
       "      <td>3.0</td>\n",
       "      <td>2.0</td>\n",
       "      <td>4.0</td>\n",
       "      <td>31</td>\n",
       "      <td>1</td>\n",
       "      <td>Travel_Frequently</td>\n",
       "      <td>Research &amp; Development</td>\n",
       "      <td>10</td>\n",
       "      <td>1</td>\n",
       "      <td>...</td>\n",
       "      <td>23</td>\n",
       "      <td>1</td>\n",
       "      <td>6.0</td>\n",
       "      <td>3</td>\n",
       "      <td>5</td>\n",
       "      <td>1</td>\n",
       "      <td>4</td>\n",
       "      <td>2</td>\n",
       "      <td>4</td>\n",
       "      <td>27729.614998</td>\n",
       "    </tr>\n",
       "    <tr>\n",
       "      <th>2</th>\n",
       "      <td>2</td>\n",
       "      <td>2.0</td>\n",
       "      <td>2.0</td>\n",
       "      <td>1.0</td>\n",
       "      <td>32</td>\n",
       "      <td>0</td>\n",
       "      <td>Travel_Frequently</td>\n",
       "      <td>Research &amp; Development</td>\n",
       "      <td>17</td>\n",
       "      <td>4</td>\n",
       "      <td>...</td>\n",
       "      <td>15</td>\n",
       "      <td>3</td>\n",
       "      <td>5.0</td>\n",
       "      <td>2</td>\n",
       "      <td>5</td>\n",
       "      <td>0</td>\n",
       "      <td>3</td>\n",
       "      <td>3</td>\n",
       "      <td>3</td>\n",
       "      <td>24697.310764</td>\n",
       "    </tr>\n",
       "    <tr>\n",
       "      <th>3</th>\n",
       "      <td>3</td>\n",
       "      <td>4.0</td>\n",
       "      <td>4.0</td>\n",
       "      <td>3.0</td>\n",
       "      <td>38</td>\n",
       "      <td>0</td>\n",
       "      <td>Non-Travel</td>\n",
       "      <td>Research &amp; Development</td>\n",
       "      <td>2</td>\n",
       "      <td>5</td>\n",
       "      <td>...</td>\n",
       "      <td>11</td>\n",
       "      <td>3</td>\n",
       "      <td>13.0</td>\n",
       "      <td>5</td>\n",
       "      <td>8</td>\n",
       "      <td>7</td>\n",
       "      <td>5</td>\n",
       "      <td>2</td>\n",
       "      <td>3</td>\n",
       "      <td>25293.129259</td>\n",
       "    </tr>\n",
       "    <tr>\n",
       "      <th>4</th>\n",
       "      <td>4</td>\n",
       "      <td>4.0</td>\n",
       "      <td>1.0</td>\n",
       "      <td>3.0</td>\n",
       "      <td>32</td>\n",
       "      <td>0</td>\n",
       "      <td>Travel_Rarely</td>\n",
       "      <td>Research &amp; Development</td>\n",
       "      <td>10</td>\n",
       "      <td>1</td>\n",
       "      <td>...</td>\n",
       "      <td>12</td>\n",
       "      <td>2</td>\n",
       "      <td>9.0</td>\n",
       "      <td>2</td>\n",
       "      <td>6</td>\n",
       "      <td>0</td>\n",
       "      <td>4</td>\n",
       "      <td>3</td>\n",
       "      <td>3</td>\n",
       "      <td>27940.867653</td>\n",
       "    </tr>\n",
       "  </tbody>\n",
       "</table>\n",
       "<p>5 rows × 27 columns</p>\n",
       "</div>"
      ],
      "text/plain": [
       "   Unnamed: 0  EnvironmentSatisfaction  JobSatisfaction  WorkLifeBalance  Age  \\\n",
       "0           0                      3.0              4.0              2.0   51   \n",
       "1           1                      3.0              2.0              4.0   31   \n",
       "2           2                      2.0              2.0              1.0   32   \n",
       "3           3                      4.0              4.0              3.0   38   \n",
       "4           4                      4.0              1.0              3.0   32   \n",
       "\n",
       "   Attrition     BusinessTravel              Department  DistanceFromHome  \\\n",
       "0          0      Travel_Rarely                   Sales                 6   \n",
       "1          1  Travel_Frequently  Research & Development                10   \n",
       "2          0  Travel_Frequently  Research & Development                17   \n",
       "3          0         Non-Travel  Research & Development                 2   \n",
       "4          0      Travel_Rarely  Research & Development                10   \n",
       "\n",
       "   Education  ... PercentSalaryHike StockOptionLevel  TotalWorkingYears  \\\n",
       "0          2  ...                11                0                1.0   \n",
       "1          1  ...                23                1                6.0   \n",
       "2          4  ...                15                3                5.0   \n",
       "3          5  ...                11                3               13.0   \n",
       "4          1  ...                12                2                9.0   \n",
       "\n",
       "  TrainingTimesLastYear YearsAtCompany  YearsSinceLastPromotion  \\\n",
       "0                     6              1                        0   \n",
       "1                     3              5                        1   \n",
       "2                     2              5                        0   \n",
       "3                     5              8                        7   \n",
       "4                     2              6                        0   \n",
       "\n",
       "   YearsWithCurrManager  JobInvolvement  PerformanceRating  MeanWorkingTime  \n",
       "0                     0               3                  3     25562.179418  \n",
       "1                     4               2                  4     27729.614998  \n",
       "2                     3               3                  3     24697.310764  \n",
       "3                     5               2                  3     25293.129259  \n",
       "4                     4               3                  3     27940.867653  \n",
       "\n",
       "[5 rows x 27 columns]"
      ]
     },
     "execution_count": 2,
     "metadata": {},
     "output_type": "execute_result"
    }
   ],
   "source": [
    "X.head()"
   ]
  },
  {
   "cell_type": "markdown",
   "id": "mental-repository",
   "metadata": {},
   "source": [
    "## Table visualisation Info et histogramme\n",
    "\n",
    "Les histogrammes nous permettent de visualiser les données contenus dans nos champs et de voir leurs répartitions,\n",
    "nous allons étudier les valeurs et leurs répartitions."
   ]
  },
  {
   "cell_type": "code",
   "execution_count": 5,
   "id": "favorite-reality",
   "metadata": {},
   "outputs": [
    {
     "data": {
      "image/png": "[encoded data removed]",
      "text/plain": [
       "<Figure size 1440x1080 with 25 Axes>"
      ]
     },
     "metadata": {
      "needs_background": "light"
     },
     "output_type": "display_data"
    }
   ],
   "source": [
    "#graph hist\n",
    "X.hist(bins=50, figsize=(20,15))\n",
    "plt.show()"
   ]
  },
  {
   "cell_type": "markdown",
   "id": "excellent-nickname",
   "metadata": {},
   "source": [
    "#### Etude du champ \"Age\"\n",
    "\n",
    "- Nous constatons que l'age moyen est de 36 ans (assez jeune).\n",
    "- L'age minimal est de 18 ans et le max de 60 ans.\n",
    "- Avec un écart type de 9, l'écart des ages est assez élévé (mélange d'age).\n",
    "- En examinant les quartile nous voyons que le panel d'age est compris entre 30 et 43 ans"
   ]
  },
  {
   "cell_type": "code",
   "execution_count": 23,
   "id": "standard-russian",
   "metadata": {},
   "outputs": [
    {
     "data": {
      "text/plain": [
       "count    4300.000000\n",
       "mean       36.926977\n",
       "std         9.146517\n",
       "min        18.000000\n",
       "25%        30.000000\n",
       "50%        36.000000\n",
       "75%        43.000000\n",
       "max        60.000000\n",
       "Name: Age, dtype: float64"
      ]
     },
     "execution_count": 23,
     "metadata": {},
     "output_type": "execute_result"
    }
   ],
   "source": [
    "X[\"Age\"].describe()"
   ]
  },
  {
   "cell_type": "markdown",
   "id": "characteristic-eagle",
   "metadata": {},
   "source": [
    "#### Etude du champ \"MonthlyIncome\"\n",
    "- La moyenne des salaire est de  65059.844186€/an.\n",
    "- L'écart type nous montre qu'il y a un grand écart entre les petits et grands salaires.\n",
    "- Nous constatons des extremes importants."
   ]
  },
  {
   "cell_type": "code",
   "execution_count": 6,
   "id": "confident-cigarette",
   "metadata": {},
   "outputs": [
    {
     "data": {
      "text/plain": [
       "count      4300.000000\n",
       "mean      65059.844186\n",
       "std       47045.398914\n",
       "min       10090.000000\n",
       "25%       29260.000000\n",
       "50%       49360.000000\n",
       "75%       83802.500000\n",
       "max      199990.000000\n",
       "Name: MonthlyIncome, dtype: float64"
      ]
     },
     "execution_count": 6,
     "metadata": {},
     "output_type": "execute_result"
    }
   ],
   "source": [
    "X[\"MonthlyIncome\"].describe()"
   ]
  },
  {
   "cell_type": "markdown",
   "id": "dress-alarm",
   "metadata": {},
   "source": [
    "#### Etude du champ \"WorkLifeBalance\"\n",
    "- Dans l'ensemble les employées ont un bon équilibre entre leurs vie/travail."
   ]
  },
  {
   "cell_type": "code",
   "execution_count": 38,
   "id": "lucky-rubber",
   "metadata": {},
   "outputs": [
    {
     "data": {
      "text/plain": [
       "count    4300.000000\n",
       "mean        2.761163\n",
       "std         0.707800\n",
       "min         1.000000\n",
       "25%         2.000000\n",
       "50%         3.000000\n",
       "75%         3.000000\n",
       "max         4.000000\n",
       "Name: WorkLifeBalance, dtype: float64"
      ]
     },
     "execution_count": 38,
     "metadata": {},
     "output_type": "execute_result"
    }
   ],
   "source": [
    "X[\"WorkLifeBalance\"].describe()"
   ]
  },
  {
   "cell_type": "markdown",
   "id": "prospective-geometry",
   "metadata": {},
   "source": [
    "#### Etude du champ \"JobSatisfaction\"\n",
    "- Les employées sont majoritairement satisfait de leurs emplois."
   ]
  },
  {
   "cell_type": "code",
   "execution_count": 45,
   "id": "piano-coordinator",
   "metadata": {},
   "outputs": [
    {
     "data": {
      "text/plain": [
       "count    4300.000000\n",
       "mean        2.724884\n",
       "std         1.101875\n",
       "min         1.000000\n",
       "25%         2.000000\n",
       "50%         3.000000\n",
       "75%         4.000000\n",
       "max         4.000000\n",
       "Name: JobSatisfaction, dtype: float64"
      ]
     },
     "execution_count": 45,
     "metadata": {},
     "output_type": "execute_result"
    }
   ],
   "source": [
    "X[\"JobSatisfaction\"].describe()"
   ]
  },
  {
   "cell_type": "markdown",
   "id": "built-forum",
   "metadata": {},
   "source": [
    "#### Etude du champ \"EnvironmentSatisfaction\"\n",
    "- Leurs environnement de travail est egalement majortairement satisfaisant pour les salariés."
   ]
  },
  {
   "cell_type": "code",
   "execution_count": 47,
   "id": "chicken-editor",
   "metadata": {},
   "outputs": [
    {
     "data": {
      "text/plain": [
       "count    4300.000000\n",
       "mean        2.723953\n",
       "std         1.093802\n",
       "min         1.000000\n",
       "25%         2.000000\n",
       "50%         3.000000\n",
       "75%         4.000000\n",
       "max         4.000000\n",
       "Name: EnvironmentSatisfaction, dtype: float64"
      ]
     },
     "execution_count": 47,
     "metadata": {},
     "output_type": "execute_result"
    }
   ],
   "source": [
    "X[\"EnvironmentSatisfaction\"].describe()"
   ]
  },
  {
   "cell_type": "markdown",
   "id": "polar-feelings",
   "metadata": {},
   "source": [
    "#### Etude du champ \"YearsAtCompany\"\n",
    "\n",
    "- Le nombre d'années passé dans l'entreprise reste faible (7 ans en moyenne).\n",
    "- l'étendu des valeurs est très grande (de 0 à 40ans).\n",
    "- Cette variable semble interessante."
   ]
  },
  {
   "cell_type": "code",
   "execution_count": 48,
   "id": "complete-daily",
   "metadata": {},
   "outputs": [
    {
     "data": {
      "text/plain": [
       "count    4300.000000\n",
       "mean        7.026047\n",
       "std         6.148036\n",
       "min         0.000000\n",
       "25%         3.000000\n",
       "50%         5.000000\n",
       "75%         9.250000\n",
       "max        40.000000\n",
       "Name: YearsAtCompany, dtype: float64"
      ]
     },
     "execution_count": 48,
     "metadata": {},
     "output_type": "execute_result"
    }
   ],
   "source": [
    "X[\"YearsAtCompany\"].describe()"
   ]
  },
  {
   "cell_type": "markdown",
   "id": "sunset-integer",
   "metadata": {},
   "source": [
    "## Dendogramme\n",
    "\n",
    "Le dendogramme nous permet la visualisation des regroupements hierarchique dans notre jeu de données.\n",
    "Nous pouvons constater la présence de deux classes majoritaires."
   ]
  },
  {
   "cell_type": "code",
   "execution_count": 34,
   "id": "stainless-democrat",
   "metadata": {
    "scrolled": false
   },
   "outputs": [
    {
     "data": {
      "image/png": "[encoded data removed]",
      "text/plain": [
       "<Figure size 720x504 with 1 Axes>"
      ]
     },
     "metadata": {
      "needs_background": "light"
     },
     "output_type": "display_data"
    }
   ],
   "source": [
    "from scipy.cluster.hierarchy import dendrogram, linkage\n",
    "\n",
    "plt.figure( figsize=(10, 7))\n",
    "\n",
    "dendrogram(linkage(X_prepared, method='ward'), orientation='top', distance_sort='descending', leaf_rotation=90., leaf_font_size=5.)\n",
    "plt.show()\n"
   ]
  },
  {
   "cell_type": "code",
   "execution_count": null,
   "id": "irish-lying",
   "metadata": {},
   "outputs": [],
   "source": [
    "cluster = AgglomerativeClustering(n_clusters=2, affinity='euclidean', linkage='ward')\n",
    "cluster.fit_predict(X_prepared)\n",
    "plt.figure(figsize=(10, 7))\n",
    "plt.scatter(X_prepared['MeanWorkingTime'],X_prepared['MonthlyIncome'], c=cluster.labels_, cmap='rainbow')\n",
    "plt.show()"
   ]
  },
  {
   "cell_type": "markdown",
   "id": "sixth-wrong",
   "metadata": {},
   "source": [
    "## Test de la corrélation entre le temps de travail et les départs"
   ]
  },
  {
   "cell_type": "code",
   "execution_count": null,
   "id": "opposed-absolute",
   "metadata": {},
   "outputs": [],
   "source": [
    "plt.scatter(X['MeanWorkingTime'],X['StandardHours'], c=cluster.labels_, cmap='rainbow')\n",
    "plt.show()\n",
    "plt.figure(figsize=(10, 7))\n",
    "plt.scatter(X['MeanWorkingTime'],X['StandardHours'], c=X['Attrition'], cmap='rainbow')\n",
    "plt.show()"
   ]
  }
 ],
 "metadata": {
  "kernelspec": {
   "display_name": "Python 3",
   "language": "python",
   "name": "python3"
  },
  "language_info": {
   "codemirror_mode": {
    "name": "ipython",
    "version": 3
   },
   "file_extension": ".py",
   "mimetype": "text/x-python",
   "name": "python",
   "nbconvert_exporter": "python",
   "pygments_lexer": "ipython3",
   "version": "3.9.1"
  }
 },
 "nbformat": 4,
 "nbformat_minor": 5
}
